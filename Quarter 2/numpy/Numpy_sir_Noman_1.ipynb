{
 "cells": [
  {
   "cell_type": "markdown",
   "id": "09902210",
   "metadata": {},
   "source": [
    "# Numpy"
   ]
  },
  {
   "cell_type": "markdown",
   "id": "c62500fb",
   "metadata": {},
   "source": [
    "Arrays \n",
    "1. faster\n",
    "2. contigous memory allocation\n",
    "3. same data types\n",
    "4. if you want to increase size, recreate array\n",
    "\n",
    "List\n",
    "1. slow\n",
    "2. parse memory\n",
    "3. different data types\n",
    "4. can dynamically grow"
   ]
  },
  {
   "cell_type": "markdown",
   "id": "d8880e47",
   "metadata": {},
   "source": [
    "# A comarision of numpy vs list in python"
   ]
  },
  {
   "cell_type": "code",
   "execution_count": 1,
   "id": "e934d711",
   "metadata": {},
   "outputs": [],
   "source": [
    "import numpy as np"
   ]
  },
  {
   "cell_type": "code",
   "execution_count": 10,
   "id": "791b13da",
   "metadata": {},
   "outputs": [],
   "source": [
    "python_list = range(1000000) # A list from 0 to 1000000"
   ]
  },
  {
   "cell_type": "code",
   "execution_count": 11,
   "id": "9455ba91",
   "metadata": {},
   "outputs": [],
   "source": [
    "numpy_array = np.arange(1000000) # An array form 0 to 1000000"
   ]
  },
  {
   "cell_type": "code",
   "execution_count": 12,
   "id": "5b9fca3a",
   "metadata": {},
   "outputs": [
    {
     "name": "stdout",
     "output_type": "stream",
     "text": [
      "CPU times: total: 2.08 s\n",
      "Wall time: 2.13 s\n"
     ]
    }
   ],
   "source": [
    "# Multiply numpy array with 5\n",
    "%time for i in range(1000): result = numpy_array * 5"
   ]
  },
  {
   "cell_type": "code",
   "execution_count": 13,
   "id": "d0c7b656",
   "metadata": {},
   "outputs": [],
   "source": [
    "# multiply a list with 5 \n",
    "result = []\n",
    "for i in python_list:\n",
    "    result.append(i*5)"
   ]
  },
  {
   "cell_type": "code",
   "execution_count": 16,
   "id": "3f678487",
   "metadata": {},
   "outputs": [
    {
     "name": "stdout",
     "output_type": "stream",
     "text": [
      "CPU times: total: 1.08 s\n",
      "Wall time: 1.08 s\n"
     ]
    }
   ],
   "source": [
    "%time for i in range(10): result = [i*5 for i in python_list]"
   ]
  },
  {
   "cell_type": "code",
   "execution_count": null,
   "id": "4b0f02ff",
   "metadata": {},
   "outputs": [],
   "source": [
    "#Numpy array creation method"
   ]
  },
  {
   "cell_type": "code",
   "execution_count": 18,
   "id": "9da58c29",
   "metadata": {},
   "outputs": [
    {
     "data": {
      "text/plain": [
       "array([0., 0., 0., 0., 0., 0., 0., 0., 0., 0.])"
      ]
     },
     "execution_count": 18,
     "metadata": {},
     "output_type": "execute_result"
    }
   ],
   "source": [
    "one_d_array = np.zeros((10))\n",
    "one_d_array"
   ]
  },
  {
   "cell_type": "code",
   "execution_count": 19,
   "id": "cd5cd6c4",
   "metadata": {},
   "outputs": [
    {
     "data": {
      "text/plain": [
       "array([1., 1., 1., 1., 1., 1., 1., 1., 1., 1.])"
      ]
     },
     "execution_count": 19,
     "metadata": {},
     "output_type": "execute_result"
    }
   ],
   "source": [
    "one_d_array = np.ones((10))\n",
    "one_d_array"
   ]
  },
  {
   "cell_type": "code",
   "execution_count": 20,
   "id": "69d2a52d",
   "metadata": {},
   "outputs": [
    {
     "data": {
      "text/plain": [
       "array([2., 2., 2., 2., 2., 2., 2., 2., 2., 2.])"
      ]
     },
     "execution_count": 20,
     "metadata": {},
     "output_type": "execute_result"
    }
   ],
   "source": [
    "one_d_array*2"
   ]
  },
  {
   "cell_type": "code",
   "execution_count": 28,
   "id": "c7fd22ad",
   "metadata": {},
   "outputs": [
    {
     "data": {
      "text/plain": [
       "array([5., 5., 5., 5., 5., 5., 5., 5., 5., 5.])"
      ]
     },
     "execution_count": 28,
     "metadata": {},
     "output_type": "execute_result"
    }
   ],
   "source": [
    "#Creating array of any number\n",
    "x = np.zeros(10)\n",
    "x = x+5\n",
    "x"
   ]
  },
  {
   "cell_type": "code",
   "execution_count": 21,
   "id": "a1382750",
   "metadata": {},
   "outputs": [
    {
     "data": {
      "text/plain": [
       "array([5., 5., 5., 5., 5., 5., 5., 5., 5., 5.])"
      ]
     },
     "execution_count": 21,
     "metadata": {},
     "output_type": "execute_result"
    }
   ],
   "source": [
    "x = np.zeros(10) + 5\n",
    "x"
   ]
  },
  {
   "cell_type": "code",
   "execution_count": 23,
   "id": "f7d8a1fc",
   "metadata": {},
   "outputs": [
    {
     "data": {
      "text/plain": [
       "array([ 1,  2,  3,  4,  5,  6,  7,  8,  9, 10])"
      ]
     },
     "execution_count": 23,
     "metadata": {},
     "output_type": "execute_result"
    }
   ],
   "source": [
    "x = np.arange(1, 11)\n",
    "x"
   ]
  },
  {
   "cell_type": "code",
   "execution_count": 24,
   "id": "1ab32532",
   "metadata": {},
   "outputs": [
    {
     "data": {
      "text/plain": [
       "array([[0., 0., 0., 0., 0.],\n",
       "       [0., 0., 0., 0., 0.],\n",
       "       [0., 0., 0., 0., 0.],\n",
       "       [0., 0., 0., 0., 0.],\n",
       "       [0., 0., 0., 0., 0.],\n",
       "       [0., 0., 0., 0., 0.],\n",
       "       [0., 0., 0., 0., 0.],\n",
       "       [0., 0., 0., 0., 0.],\n",
       "       [0., 0., 0., 0., 0.],\n",
       "       [0., 0., 0., 0., 0.]])"
      ]
     },
     "execution_count": 24,
     "metadata": {},
     "output_type": "execute_result"
    }
   ],
   "source": [
    "#shape of array\n",
    "np.zeros((10, 5))"
   ]
  },
  {
   "cell_type": "code",
   "execution_count": 26,
   "id": "3a462853",
   "metadata": {},
   "outputs": [
    {
     "data": {
      "text/plain": [
       "array([[[0., 0., 0., 0., 0.],\n",
       "        [0., 0., 0., 0., 0.]],\n",
       "\n",
       "       [[0., 0., 0., 0., 0.],\n",
       "        [0., 0., 0., 0., 0.]],\n",
       "\n",
       "       [[0., 0., 0., 0., 0.],\n",
       "        [0., 0., 0., 0., 0.]]])"
      ]
     },
     "execution_count": 26,
     "metadata": {},
     "output_type": "execute_result"
    }
   ],
   "source": [
    "x = np.zeros((3, 2, 5))\n",
    "x"
   ]
  },
  {
   "cell_type": "code",
   "execution_count": 27,
   "id": "d5ec832a",
   "metadata": {},
   "outputs": [
    {
     "data": {
      "text/plain": [
       "(3, 2, 5)"
      ]
     },
     "execution_count": 27,
     "metadata": {},
     "output_type": "execute_result"
    }
   ],
   "source": [
    "x.shape"
   ]
  },
  {
   "cell_type": "code",
   "execution_count": 29,
   "id": "095bd880",
   "metadata": {},
   "outputs": [],
   "source": [
    "#Array of custom elements"
   ]
  },
  {
   "cell_type": "code",
   "execution_count": 30,
   "id": "5bfdb771",
   "metadata": {},
   "outputs": [],
   "source": [
    "x = np.array([1,3,5,2,55,7,3,77])"
   ]
  },
  {
   "cell_type": "code",
   "execution_count": 31,
   "id": "afd0fe45",
   "metadata": {},
   "outputs": [
    {
     "data": {
      "text/plain": [
       "array([ 1,  3,  5,  2, 55,  7,  3, 77])"
      ]
     },
     "execution_count": 31,
     "metadata": {},
     "output_type": "execute_result"
    }
   ],
   "source": [
    "x"
   ]
  },
  {
   "cell_type": "code",
   "execution_count": 32,
   "id": "a6eb1103",
   "metadata": {},
   "outputs": [
    {
     "data": {
      "text/plain": [
       "(8,)"
      ]
     },
     "execution_count": 32,
     "metadata": {},
     "output_type": "execute_result"
    }
   ],
   "source": [
    "x.shape"
   ]
  },
  {
   "cell_type": "code",
   "execution_count": 35,
   "id": "4c8f5621",
   "metadata": {},
   "outputs": [],
   "source": [
    "y = x.reshape(2,4)"
   ]
  },
  {
   "cell_type": "code",
   "execution_count": 36,
   "id": "28a0d7a1",
   "metadata": {},
   "outputs": [
    {
     "data": {
      "text/plain": [
       "(2, 4)"
      ]
     },
     "execution_count": 36,
     "metadata": {},
     "output_type": "execute_result"
    }
   ],
   "source": [
    "y.shape"
   ]
  },
  {
   "cell_type": "code",
   "execution_count": 37,
   "id": "f7bcf586",
   "metadata": {},
   "outputs": [
    {
     "data": {
      "text/plain": [
       "2"
      ]
     },
     "execution_count": 37,
     "metadata": {},
     "output_type": "execute_result"
    }
   ],
   "source": [
    "y.ndim"
   ]
  },
  {
   "cell_type": "code",
   "execution_count": 38,
   "id": "b9e480cb",
   "metadata": {},
   "outputs": [
    {
     "data": {
      "text/plain": [
       "array([[ 1,  3,  5,  2],\n",
       "       [55,  7,  3, 77]])"
      ]
     },
     "execution_count": 38,
     "metadata": {},
     "output_type": "execute_result"
    }
   ],
   "source": [
    "y"
   ]
  },
  {
   "cell_type": "code",
   "execution_count": 39,
   "id": "71a0ecbb",
   "metadata": {},
   "outputs": [],
   "source": [
    "#Accessing individual elements of array"
   ]
  },
  {
   "cell_type": "code",
   "execution_count": 40,
   "id": "e447957b",
   "metadata": {},
   "outputs": [
    {
     "data": {
      "text/plain": [
       "2"
      ]
     },
     "execution_count": 40,
     "metadata": {},
     "output_type": "execute_result"
    }
   ],
   "source": [
    "y[0,3]"
   ]
  },
  {
   "cell_type": "code",
   "execution_count": 41,
   "id": "c4e8a1aa",
   "metadata": {},
   "outputs": [
    {
     "data": {
      "text/plain": [
       "55"
      ]
     },
     "execution_count": 41,
     "metadata": {},
     "output_type": "execute_result"
    }
   ],
   "source": [
    "y[1,0]"
   ]
  },
  {
   "cell_type": "code",
   "execution_count": 42,
   "id": "57c80b14",
   "metadata": {},
   "outputs": [],
   "source": [
    "z = y.reshape(2,2,2)"
   ]
  },
  {
   "cell_type": "code",
   "execution_count": 43,
   "id": "44a66994",
   "metadata": {},
   "outputs": [
    {
     "data": {
      "text/plain": [
       "array([[[ 1,  3],\n",
       "        [ 5,  2]],\n",
       "\n",
       "       [[55,  7],\n",
       "        [ 3, 77]]])"
      ]
     },
     "execution_count": 43,
     "metadata": {},
     "output_type": "execute_result"
    }
   ],
   "source": [
    "z"
   ]
  },
  {
   "cell_type": "code",
   "execution_count": 45,
   "id": "0663107a",
   "metadata": {},
   "outputs": [
    {
     "data": {
      "text/plain": [
       "2"
      ]
     },
     "execution_count": 45,
     "metadata": {},
     "output_type": "execute_result"
    }
   ],
   "source": [
    "z[0,1,1]"
   ]
  },
  {
   "cell_type": "code",
   "execution_count": 46,
   "id": "5cca542f",
   "metadata": {},
   "outputs": [
    {
     "data": {
      "text/plain": [
       "3"
      ]
     },
     "execution_count": 46,
     "metadata": {},
     "output_type": "execute_result"
    }
   ],
   "source": [
    "z.ndim"
   ]
  },
  {
   "cell_type": "code",
   "execution_count": 47,
   "id": "eca2585b",
   "metadata": {},
   "outputs": [],
   "source": [
    "#Slicing"
   ]
  },
  {
   "cell_type": "code",
   "execution_count": 48,
   "id": "bebb38c1",
   "metadata": {},
   "outputs": [
    {
     "data": {
      "text/plain": [
       "array([[ 1,  3,  5,  2],\n",
       "       [55,  7,  3, 77]])"
      ]
     },
     "execution_count": 48,
     "metadata": {},
     "output_type": "execute_result"
    }
   ],
   "source": [
    "y"
   ]
  },
  {
   "cell_type": "code",
   "execution_count": 50,
   "id": "e79cd88c",
   "metadata": {},
   "outputs": [],
   "source": [
    "# Slicing: start, end, step\n",
    "y = y.reshape(4,2)"
   ]
  },
  {
   "cell_type": "code",
   "execution_count": 51,
   "id": "d8f79d1b",
   "metadata": {},
   "outputs": [
    {
     "data": {
      "text/plain": [
       "array([[ 1,  3],\n",
       "       [ 5,  2],\n",
       "       [55,  7],\n",
       "       [ 3, 77]])"
      ]
     },
     "execution_count": 51,
     "metadata": {},
     "output_type": "execute_result"
    }
   ],
   "source": [
    "y"
   ]
  },
  {
   "cell_type": "code",
   "execution_count": 52,
   "id": "6b07080f",
   "metadata": {},
   "outputs": [
    {
     "data": {
      "text/plain": [
       "array([[ 1,  3],\n",
       "       [ 5,  2],\n",
       "       [55,  7]])"
      ]
     },
     "execution_count": 52,
     "metadata": {},
     "output_type": "execute_result"
    }
   ],
   "source": [
    "y[0:3]"
   ]
  },
  {
   "cell_type": "code",
   "execution_count": 53,
   "id": "a1ed169f",
   "metadata": {},
   "outputs": [
    {
     "data": {
      "text/plain": [
       "array([[ 1,  3],\n",
       "       [ 5,  2],\n",
       "       [55,  7],\n",
       "       [ 3, 77]])"
      ]
     },
     "execution_count": 53,
     "metadata": {},
     "output_type": "execute_result"
    }
   ],
   "source": [
    "y"
   ]
  },
  {
   "cell_type": "code",
   "execution_count": 54,
   "id": "bdcb7e70",
   "metadata": {},
   "outputs": [
    {
     "data": {
      "text/plain": [
       "array([3, 2, 7])"
      ]
     },
     "execution_count": 54,
     "metadata": {},
     "output_type": "execute_result"
    }
   ],
   "source": [
    "y[0:3,1]"
   ]
  },
  {
   "cell_type": "code",
   "execution_count": 55,
   "id": "c782afb8",
   "metadata": {},
   "outputs": [
    {
     "data": {
      "text/plain": [
       "array([[ 1,  3],\n",
       "       [ 5,  2],\n",
       "       [55,  7],\n",
       "       [ 3, 77]])"
      ]
     },
     "execution_count": 55,
     "metadata": {},
     "output_type": "execute_result"
    }
   ],
   "source": [
    "y"
   ]
  },
  {
   "cell_type": "code",
   "execution_count": 56,
   "id": "b1842260",
   "metadata": {},
   "outputs": [
    {
     "data": {
      "text/plain": [
       "array([[ 1,  3],\n",
       "       [55,  7]])"
      ]
     },
     "execution_count": 56,
     "metadata": {},
     "output_type": "execute_result"
    }
   ],
   "source": [
    "y[::2]"
   ]
  },
  {
   "cell_type": "code",
   "execution_count": 57,
   "id": "a8b500c9",
   "metadata": {},
   "outputs": [
    {
     "data": {
      "text/plain": [
       "array([ 1,  5, 55,  3])"
      ]
     },
     "execution_count": 57,
     "metadata": {},
     "output_type": "execute_result"
    }
   ],
   "source": [
    "y[::,0]"
   ]
  },
  {
   "cell_type": "code",
   "execution_count": 58,
   "id": "30a25815",
   "metadata": {},
   "outputs": [
    {
     "data": {
      "text/plain": [
       "array([ 1,  3,  5,  2, 55,  7,  3, 77])"
      ]
     },
     "execution_count": 58,
     "metadata": {},
     "output_type": "execute_result"
    }
   ],
   "source": [
    "x"
   ]
  },
  {
   "cell_type": "code",
   "execution_count": 60,
   "id": "9a12d9bd",
   "metadata": {},
   "outputs": [
    {
     "data": {
      "text/plain": [
       "array([2, 7])"
      ]
     },
     "execution_count": 60,
     "metadata": {},
     "output_type": "execute_result"
    }
   ],
   "source": [
    "x[[3,5]] #Fancy indexing"
   ]
  },
  {
   "cell_type": "code",
   "execution_count": 61,
   "id": "ed1cdb62",
   "metadata": {},
   "outputs": [],
   "source": [
    "# Vectorized operation"
   ]
  },
  {
   "cell_type": "code",
   "execution_count": 62,
   "id": "8a1b02ca",
   "metadata": {},
   "outputs": [],
   "source": [
    "x = np.array([1,5,7])\n",
    "y = np.array([3,2,9])"
   ]
  },
  {
   "cell_type": "code",
   "execution_count": 63,
   "id": "675977c6",
   "metadata": {},
   "outputs": [
    {
     "data": {
      "text/plain": [
       "array([ 4,  7, 16])"
      ]
     },
     "execution_count": 63,
     "metadata": {},
     "output_type": "execute_result"
    }
   ],
   "source": [
    "x+y"
   ]
  },
  {
   "cell_type": "code",
   "execution_count": 64,
   "id": "d3a330a4",
   "metadata": {},
   "outputs": [
    {
     "data": {
      "text/plain": [
       "array([0.33333333, 2.5       , 0.77777778])"
      ]
     },
     "execution_count": 64,
     "metadata": {},
     "output_type": "execute_result"
    }
   ],
   "source": [
    "x/y"
   ]
  },
  {
   "cell_type": "code",
   "execution_count": 65,
   "id": "2c5ef9d7",
   "metadata": {},
   "outputs": [
    {
     "data": {
      "text/plain": [
       "array([ 3, 10, 63])"
      ]
     },
     "execution_count": 65,
     "metadata": {},
     "output_type": "execute_result"
    }
   ],
   "source": [
    "x*y"
   ]
  },
  {
   "cell_type": "code",
   "execution_count": 66,
   "id": "f211519b",
   "metadata": {},
   "outputs": [
    {
     "data": {
      "text/plain": [
       "array([-2,  3, -2])"
      ]
     },
     "execution_count": 66,
     "metadata": {},
     "output_type": "execute_result"
    }
   ],
   "source": [
    "x-y"
   ]
  },
  {
   "cell_type": "code",
   "execution_count": 67,
   "id": "9bc927b1",
   "metadata": {},
   "outputs": [
    {
     "data": {
      "text/plain": [
       "array([1.        , 0.2       , 0.14285714])"
      ]
     },
     "execution_count": 67,
     "metadata": {},
     "output_type": "execute_result"
    }
   ],
   "source": [
    "1/x"
   ]
  },
  {
   "cell_type": "code",
   "execution_count": 68,
   "id": "96bd7a3a",
   "metadata": {},
   "outputs": [
    {
     "data": {
      "text/plain": [
       "array([  9,  20, 567])"
      ]
     },
     "execution_count": 68,
     "metadata": {},
     "output_type": "execute_result"
    }
   ],
   "source": [
    "x*y**2"
   ]
  },
  {
   "cell_type": "code",
   "execution_count": 69,
   "id": "b396d71a",
   "metadata": {},
   "outputs": [],
   "source": [
    "# Shapes "
   ]
  },
  {
   "cell_type": "markdown",
   "id": "9a644a15",
   "metadata": {},
   "source": [
    "###### 00000\n",
    "###### 11111\n",
    "###### 11111\n",
    "###### 11111\n",
    "###### 00000"
   ]
  },
  {
   "cell_type": "code",
   "execution_count": null,
   "id": "e81552eb",
   "metadata": {},
   "outputs": [],
   "source": [
    "arr = np.ones((5,5))"
   ]
  },
  {
   "cell_type": "code",
   "execution_count": 72,
   "id": "93191c7f",
   "metadata": {},
   "outputs": [
    {
     "data": {
      "text/plain": [
       "array([[1., 1., 1., 1., 1.],\n",
       "       [1., 1., 1., 1., 1.],\n",
       "       [1., 1., 1., 1., 1.],\n",
       "       [1., 1., 1., 1., 1.],\n",
       "       [1., 1., 1., 1., 1.]])"
      ]
     },
     "execution_count": 72,
     "metadata": {},
     "output_type": "execute_result"
    }
   ],
   "source": [
    "arr"
   ]
  },
  {
   "cell_type": "code",
   "execution_count": 73,
   "id": "b66aaf6e",
   "metadata": {},
   "outputs": [],
   "source": [
    "arr[0] = 0\n",
    "arr[4] = 0"
   ]
  },
  {
   "cell_type": "code",
   "execution_count": 74,
   "id": "f4fb3498",
   "metadata": {},
   "outputs": [
    {
     "data": {
      "text/plain": [
       "array([[0., 0., 0., 0., 0.],\n",
       "       [1., 1., 1., 1., 1.],\n",
       "       [1., 1., 1., 1., 1.],\n",
       "       [1., 1., 1., 1., 1.],\n",
       "       [0., 0., 0., 0., 0.]])"
      ]
     },
     "execution_count": 74,
     "metadata": {},
     "output_type": "execute_result"
    }
   ],
   "source": [
    "arr"
   ]
  },
  {
   "cell_type": "code",
   "execution_count": 75,
   "id": "92b28047",
   "metadata": {},
   "outputs": [],
   "source": [
    "arr[0] = 0\n",
    "arr[-1] = 0"
   ]
  },
  {
   "cell_type": "markdown",
   "id": "b033e46a",
   "metadata": {},
   "source": [
    "###### 00000\n",
    "###### 01110\n",
    "###### 01110\n",
    "###### 01110\n",
    "###### 00000"
   ]
  },
  {
   "cell_type": "code",
   "execution_count": 77,
   "id": "54cf346f",
   "metadata": {},
   "outputs": [],
   "source": [
    " arr = np.zeros((5,5))"
   ]
  },
  {
   "cell_type": "code",
   "execution_count": 78,
   "id": "ebd34a92",
   "metadata": {},
   "outputs": [
    {
     "data": {
      "text/plain": [
       "array([[0., 0., 0., 0., 0.],\n",
       "       [0., 0., 0., 0., 0.],\n",
       "       [0., 0., 0., 0., 0.],\n",
       "       [0., 0., 0., 0., 0.],\n",
       "       [0., 0., 0., 0., 0.]])"
      ]
     },
     "execution_count": 78,
     "metadata": {},
     "output_type": "execute_result"
    }
   ],
   "source": [
    "arr"
   ]
  },
  {
   "cell_type": "code",
   "execution_count": 79,
   "id": "517727ea",
   "metadata": {},
   "outputs": [],
   "source": [
    "arr[1:-1, 1:-1] = 1"
   ]
  },
  {
   "cell_type": "code",
   "execution_count": 80,
   "id": "ad474b79",
   "metadata": {},
   "outputs": [
    {
     "data": {
      "text/plain": [
       "array([[0., 0., 0., 0., 0.],\n",
       "       [0., 1., 1., 1., 0.],\n",
       "       [0., 1., 1., 1., 0.],\n",
       "       [0., 1., 1., 1., 0.],\n",
       "       [0., 0., 0., 0., 0.]])"
      ]
     },
     "execution_count": 80,
     "metadata": {},
     "output_type": "execute_result"
    }
   ],
   "source": [
    "arr"
   ]
  },
  {
   "cell_type": "code",
   "execution_count": 83,
   "id": "b502e654",
   "metadata": {},
   "outputs": [],
   "source": [
    "x = np.array([1,4,4,6,8,4,3])"
   ]
  },
  {
   "cell_type": "code",
   "execution_count": 84,
   "id": "790f41aa",
   "metadata": {},
   "outputs": [
    {
     "data": {
      "text/plain": [
       "3"
      ]
     },
     "execution_count": 84,
     "metadata": {},
     "output_type": "execute_result"
    }
   ],
   "source": [
    "x[-1]"
   ]
  },
  {
   "cell_type": "code",
   "execution_count": 85,
   "id": "dcc78bf0",
   "metadata": {},
   "outputs": [
    {
     "data": {
      "text/plain": [
       "4"
      ]
     },
     "execution_count": 85,
     "metadata": {},
     "output_type": "execute_result"
    }
   ],
   "source": [
    "x[-2]"
   ]
  },
  {
   "cell_type": "code",
   "execution_count": 86,
   "id": "f10f9dce",
   "metadata": {},
   "outputs": [
    {
     "data": {
      "text/plain": [
       "6"
      ]
     },
     "execution_count": 86,
     "metadata": {},
     "output_type": "execute_result"
    }
   ],
   "source": [
    "x[-4]"
   ]
  },
  {
   "cell_type": "markdown",
   "id": "08fe642d",
   "metadata": {},
   "source": [
    "# Assignment"
   ]
  },
  {
   "cell_type": "markdown",
   "id": "0d4e985a",
   "metadata": {},
   "source": [
    " Checkerboard pattern"
   ]
  },
  {
   "cell_type": "code",
   "execution_count": 89,
   "id": "7073ebf1",
   "metadata": {},
   "outputs": [],
   "source": [
    " a = np.zeros((10,10))"
   ]
  },
  {
   "cell_type": "code",
   "execution_count": 90,
   "id": "72d47ec0",
   "metadata": {},
   "outputs": [
    {
     "data": {
      "text/plain": [
       "array([[0., 0., 0., 0., 0., 0., 0., 0., 0., 0.],\n",
       "       [0., 0., 0., 0., 0., 0., 0., 0., 0., 0.],\n",
       "       [0., 0., 0., 0., 0., 0., 0., 0., 0., 0.],\n",
       "       [0., 0., 0., 0., 0., 0., 0., 0., 0., 0.],\n",
       "       [0., 0., 0., 0., 0., 0., 0., 0., 0., 0.],\n",
       "       [0., 0., 0., 0., 0., 0., 0., 0., 0., 0.],\n",
       "       [0., 0., 0., 0., 0., 0., 0., 0., 0., 0.],\n",
       "       [0., 0., 0., 0., 0., 0., 0., 0., 0., 0.],\n",
       "       [0., 0., 0., 0., 0., 0., 0., 0., 0., 0.],\n",
       "       [0., 0., 0., 0., 0., 0., 0., 0., 0., 0.]])"
      ]
     },
     "execution_count": 90,
     "metadata": {},
     "output_type": "execute_result"
    }
   ],
   "source": [
    "a"
   ]
  },
  {
   "cell_type": "code",
   "execution_count": 93,
   "id": "81c26fd4",
   "metadata": {},
   "outputs": [],
   "source": [
    "a[0:-1:2,0:-1:2] = 1"
   ]
  },
  {
   "cell_type": "code",
   "execution_count": 94,
   "id": "745326f2",
   "metadata": {},
   "outputs": [
    {
     "data": {
      "text/plain": [
       "array([[1., 0., 1., 0., 1., 0., 1., 0., 1., 0.],\n",
       "       [0., 1., 0., 1., 0., 1., 0., 1., 0., 0.],\n",
       "       [1., 0., 1., 0., 1., 0., 1., 0., 1., 0.],\n",
       "       [0., 1., 0., 1., 0., 1., 0., 1., 0., 0.],\n",
       "       [1., 0., 1., 0., 1., 0., 1., 0., 1., 0.],\n",
       "       [0., 1., 0., 1., 0., 1., 0., 1., 0., 0.],\n",
       "       [1., 0., 1., 0., 1., 0., 1., 0., 1., 0.],\n",
       "       [0., 1., 0., 1., 0., 1., 0., 1., 0., 0.],\n",
       "       [1., 0., 1., 0., 1., 0., 1., 0., 1., 0.],\n",
       "       [0., 0., 0., 0., 0., 0., 0., 0., 0., 0.]])"
      ]
     },
     "execution_count": 94,
     "metadata": {},
     "output_type": "execute_result"
    }
   ],
   "source": [
    "a"
   ]
  },
  {
   "cell_type": "code",
   "execution_count": 95,
   "id": "680d7d75",
   "metadata": {},
   "outputs": [],
   "source": [
    "b = np.ones((10,10))"
   ]
  },
  {
   "cell_type": "code",
   "execution_count": 96,
   "id": "0a283432",
   "metadata": {},
   "outputs": [
    {
     "data": {
      "text/plain": [
       "array([[1., 1., 1., 1., 1., 1., 1., 1., 1., 1.],\n",
       "       [1., 1., 1., 1., 1., 1., 1., 1., 1., 1.],\n",
       "       [1., 1., 1., 1., 1., 1., 1., 1., 1., 1.],\n",
       "       [1., 1., 1., 1., 1., 1., 1., 1., 1., 1.],\n",
       "       [1., 1., 1., 1., 1., 1., 1., 1., 1., 1.],\n",
       "       [1., 1., 1., 1., 1., 1., 1., 1., 1., 1.],\n",
       "       [1., 1., 1., 1., 1., 1., 1., 1., 1., 1.],\n",
       "       [1., 1., 1., 1., 1., 1., 1., 1., 1., 1.],\n",
       "       [1., 1., 1., 1., 1., 1., 1., 1., 1., 1.],\n",
       "       [1., 1., 1., 1., 1., 1., 1., 1., 1., 1.]])"
      ]
     },
     "execution_count": 96,
     "metadata": {},
     "output_type": "execute_result"
    }
   ],
   "source": [
    "b"
   ]
  },
  {
   "cell_type": "code",
   "execution_count": 97,
   "id": "3bb2ab4b",
   "metadata": {},
   "outputs": [],
   "source": [
    "b[0:-1:2,0:-1:2] = 0"
   ]
  },
  {
   "cell_type": "code",
   "execution_count": 98,
   "id": "5806d0a1",
   "metadata": {},
   "outputs": [
    {
     "data": {
      "text/plain": [
       "array([[0., 1., 0., 1., 0., 1., 0., 1., 0., 1.],\n",
       "       [1., 1., 1., 1., 1., 1., 1., 1., 1., 1.],\n",
       "       [0., 1., 0., 1., 0., 1., 0., 1., 0., 1.],\n",
       "       [1., 1., 1., 1., 1., 1., 1., 1., 1., 1.],\n",
       "       [0., 1., 0., 1., 0., 1., 0., 1., 0., 1.],\n",
       "       [1., 1., 1., 1., 1., 1., 1., 1., 1., 1.],\n",
       "       [0., 1., 0., 1., 0., 1., 0., 1., 0., 1.],\n",
       "       [1., 1., 1., 1., 1., 1., 1., 1., 1., 1.],\n",
       "       [0., 1., 0., 1., 0., 1., 0., 1., 0., 1.],\n",
       "       [1., 1., 1., 1., 1., 1., 1., 1., 1., 1.]])"
      ]
     },
     "execution_count": 98,
     "metadata": {},
     "output_type": "execute_result"
    }
   ],
   "source": [
    "b"
   ]
  },
  {
   "cell_type": "markdown",
   "id": "6772fbd7",
   "metadata": {},
   "source": [
    "# Football ground\n",
    "#### 00000\n",
    "#### 11111\n",
    "#### 00000\n",
    "#### 11111\n",
    "#### 00000\n",
    "#### 11111"
   ]
  },
  {
   "cell_type": "code",
   "execution_count": 100,
   "id": "302691af",
   "metadata": {},
   "outputs": [],
   "source": [
    "c = np.zeros((6,5))"
   ]
  },
  {
   "cell_type": "code",
   "execution_count": 101,
   "id": "3dfbf180",
   "metadata": {},
   "outputs": [
    {
     "data": {
      "text/plain": [
       "array([[0., 0., 0., 0., 0.],\n",
       "       [0., 0., 0., 0., 0.],\n",
       "       [0., 0., 0., 0., 0.],\n",
       "       [0., 0., 0., 0., 0.],\n",
       "       [0., 0., 0., 0., 0.],\n",
       "       [0., 0., 0., 0., 0.]])"
      ]
     },
     "execution_count": 101,
     "metadata": {},
     "output_type": "execute_result"
    }
   ],
   "source": [
    "c"
   ]
  },
  {
   "cell_type": "code",
   "execution_count": 104,
   "id": "66fe2cb2",
   "metadata": {},
   "outputs": [],
   "source": [
    "c[1::2] = 1"
   ]
  },
  {
   "cell_type": "code",
   "execution_count": 105,
   "id": "09e73a4f",
   "metadata": {},
   "outputs": [
    {
     "data": {
      "text/plain": [
       "array([[0., 0., 0., 0., 0.],\n",
       "       [1., 1., 1., 1., 1.],\n",
       "       [0., 0., 0., 0., 0.],\n",
       "       [1., 1., 1., 1., 1.],\n",
       "       [0., 0., 0., 0., 0.],\n",
       "       [1., 1., 1., 1., 1.]])"
      ]
     },
     "execution_count": 105,
     "metadata": {},
     "output_type": "execute_result"
    }
   ],
   "source": [
    "c"
   ]
  },
  {
   "cell_type": "code",
   "execution_count": 107,
   "id": "584ba1dc",
   "metadata": {},
   "outputs": [
    {
     "data": {
      "text/plain": [
       "array([[8.33883579e-312, 8.33883352e-312, 8.33885122e-312, ...,\n",
       "        6.95187041e-310, 8.33841784e-312, 4.94065646e-324],\n",
       "       [8.06358402e-313, 1.03977795e-312, 1.10343782e-312, ...,\n",
       "        1.97626258e-323, 8.33885122e-312, 4.45619118e-313],\n",
       "       [8.33844929e-312, 8.33885122e-312, 2.12199581e-313, ...,\n",
       "        8.33885123e-312, 0.00000000e+000, 0.00000000e+000],\n",
       "       ...,\n",
       "       [4.03179214e-313, 1.35807732e-312, 8.91238232e-313, ...,\n",
       "        0.00000000e+000, 8.33885160e-312, 0.00000000e+000],\n",
       "       [8.33885160e-312, 8.33885160e-312, 8.33885160e-312, ...,\n",
       "        1.06099791e-312, 8.31822350e-312, 8.33885160e-312],\n",
       "       [8.33885161e-312, 0.00000000e+000, 0.00000000e+000, ...,\n",
       "        8.33885161e-312, 3.60739298e-313, 1.50661703e-312]])"
      ]
     },
     "execution_count": 107,
     "metadata": {},
     "output_type": "execute_result"
    }
   ],
   "source": [
    "np.empty((100,100))  # Random/ arbitrary values"
   ]
  },
  {
   "cell_type": "code",
   "execution_count": 108,
   "id": "bcb0e447",
   "metadata": {},
   "outputs": [
    {
     "data": {
      "text/plain": [
       "array([1, 4, 4, 6, 8, 4, 3])"
      ]
     },
     "execution_count": 108,
     "metadata": {},
     "output_type": "execute_result"
    }
   ],
   "source": [
    "x"
   ]
  },
  {
   "cell_type": "code",
   "execution_count": 109,
   "id": "d34a0604",
   "metadata": {},
   "outputs": [
    {
     "data": {
      "text/plain": [
       "dtype('int32')"
      ]
     },
     "execution_count": 109,
     "metadata": {},
     "output_type": "execute_result"
    }
   ],
   "source": [
    "x.dtype"
   ]
  },
  {
   "cell_type": "code",
   "execution_count": 110,
   "id": "bc679ba4",
   "metadata": {},
   "outputs": [],
   "source": [
    "#Comparion between metrices"
   ]
  },
  {
   "cell_type": "code",
   "execution_count": 111,
   "id": "7758b729",
   "metadata": {},
   "outputs": [],
   "source": [
    "salary = np.array([10,25, 5, 2])"
   ]
  },
  {
   "cell_type": "code",
   "execution_count": 112,
   "id": "256987e0",
   "metadata": {},
   "outputs": [
    {
     "data": {
      "text/plain": [
       "array([10, 25])"
      ]
     },
     "execution_count": 112,
     "metadata": {},
     "output_type": "execute_result"
    }
   ],
   "source": [
    "salary [salary > 5]"
   ]
  },
  {
   "cell_type": "code",
   "execution_count": 113,
   "id": "9d197c2d",
   "metadata": {},
   "outputs": [],
   "source": [
    "#Numpy element-wise functions"
   ]
  },
  {
   "cell_type": "code",
   "execution_count": 114,
   "id": "01c55b6d",
   "metadata": {},
   "outputs": [],
   "source": [
    "nums = [10, 20, 45, 87,99]"
   ]
  },
  {
   "cell_type": "code",
   "execution_count": 115,
   "id": "c660c83f",
   "metadata": {},
   "outputs": [
    {
     "data": {
      "text/plain": [
       "array([-0.54402111,  0.91294525,  0.85090352, -0.82181784, -0.99920683])"
      ]
     },
     "execution_count": 115,
     "metadata": {},
     "output_type": "execute_result"
    }
   ],
   "source": [
    "np.sin(nums)"
   ]
  },
  {
   "cell_type": "code",
   "execution_count": 116,
   "id": "182a38ab",
   "metadata": {},
   "outputs": [
    {
     "data": {
      "text/plain": [
       "array([3.16227766, 4.47213595, 6.70820393, 9.32737905, 9.94987437])"
      ]
     },
     "execution_count": 116,
     "metadata": {},
     "output_type": "execute_result"
    }
   ],
   "source": [
    "np.sqrt(nums)"
   ]
  },
  {
   "cell_type": "code",
   "execution_count": 6,
   "id": "3a1b035f",
   "metadata": {},
   "outputs": [],
   "source": [
    "#Vectorization"
   ]
  },
  {
   "cell_type": "code",
   "execution_count": 7,
   "id": "b5871cd8",
   "metadata": {},
   "outputs": [],
   "source": [
    "arr = np.zeros((2,10))"
   ]
  },
  {
   "cell_type": "code",
   "execution_count": 9,
   "id": "98498557",
   "metadata": {},
   "outputs": [
    {
     "data": {
      "text/plain": [
       "array([[10., 10., 10., 10., 10., 10., 10., 10., 10., 10.],\n",
       "       [10., 10., 10., 10., 10., 10., 10., 10., 10., 10.]])"
      ]
     },
     "execution_count": 9,
     "metadata": {},
     "output_type": "execute_result"
    }
   ],
   "source": [
    "arr+10 #10 is a scaler"
   ]
  },
  {
   "cell_type": "code",
   "execution_count": 10,
   "id": "cd771f20",
   "metadata": {},
   "outputs": [],
   "source": [
    "arr2 = np.ones((2,10))"
   ]
  },
  {
   "cell_type": "code",
   "execution_count": 12,
   "id": "968a7bfd",
   "metadata": {},
   "outputs": [
    {
     "data": {
      "text/plain": [
       "array([[1., 1., 1., 1., 1., 1., 1., 1., 1., 1.],\n",
       "       [1., 1., 1., 1., 1., 1., 1., 1., 1., 1.]])"
      ]
     },
     "execution_count": 12,
     "metadata": {},
     "output_type": "execute_result"
    }
   ],
   "source": [
    "arr+arr2 #Both operands are arrays"
   ]
  },
  {
   "cell_type": "code",
   "execution_count": 13,
   "id": "55a4b20f",
   "metadata": {},
   "outputs": [],
   "source": [
    "# In python list"
   ]
  },
  {
   "cell_type": "code",
   "execution_count": 14,
   "id": "8a701a7b",
   "metadata": {},
   "outputs": [],
   "source": [
    "l1 = [1,2,4,5]\n",
    "l2 = [3,4,6,7]"
   ]
  },
  {
   "cell_type": "code",
   "execution_count": 16,
   "id": "b9237b52",
   "metadata": {},
   "outputs": [
    {
     "data": {
      "text/plain": [
       "[1, 2, 4, 5, 3, 4, 6, 7]"
      ]
     },
     "execution_count": 16,
     "metadata": {},
     "output_type": "execute_result"
    }
   ],
   "source": [
    "l1+l2 # not sum only concatinate"
   ]
  },
  {
   "cell_type": "code",
   "execution_count": 17,
   "id": "ead1914b",
   "metadata": {},
   "outputs": [],
   "source": [
    "# for adding two list start loop"
   ]
  },
  {
   "cell_type": "code",
   "execution_count": 18,
   "id": "773861b5",
   "metadata": {},
   "outputs": [],
   "source": [
    "sum = []"
   ]
  },
  {
   "cell_type": "code",
   "execution_count": 23,
   "id": "2fd284bf",
   "metadata": {},
   "outputs": [
    {
     "name": "stdout",
     "output_type": "stream",
     "text": [
      "[4, 6, 10, 12, 4, 6, 10, 12, 4, 6, 10, 12, 4, 6, 10, 12]\n"
     ]
    }
   ],
   "source": [
    "for i, _ in enumerate(l1):\n",
    "    sum.append(l1[i] + l2[i])\n",
    "print(sum)"
   ]
  },
  {
   "cell_type": "code",
   "execution_count": 24,
   "id": "e08342fd",
   "metadata": {},
   "outputs": [],
   "source": [
    "#where"
   ]
  },
  {
   "cell_type": "code",
   "execution_count": 25,
   "id": "7a6d5484",
   "metadata": {},
   "outputs": [],
   "source": [
    "marks = np.array([75,39,50,80,90])"
   ]
  },
  {
   "cell_type": "code",
   "execution_count": 29,
   "id": "8ccac0bf",
   "metadata": {},
   "outputs": [],
   "source": [
    "x = np.where(marks>=50, \"Pass\", \"Fail\")"
   ]
  },
  {
   "cell_type": "code",
   "execution_count": 30,
   "id": "6eb080e5",
   "metadata": {},
   "outputs": [
    {
     "data": {
      "text/plain": [
       "array(['Pass', 'Fail', 'Pass', 'Pass', 'Pass'], dtype='<U4')"
      ]
     },
     "execution_count": 30,
     "metadata": {},
     "output_type": "execute_result"
    }
   ],
   "source": [
    "x"
   ]
  },
  {
   "cell_type": "code",
   "execution_count": 31,
   "id": "3117d331",
   "metadata": {},
   "outputs": [],
   "source": [
    "salary = np.array([10,70,80,50,30])"
   ]
  },
  {
   "cell_type": "code",
   "execution_count": 33,
   "id": "ac2b05ad",
   "metadata": {},
   "outputs": [],
   "source": [
    "incremented_salary = np.where(salary<50, salary*1.1, salary*1.05)"
   ]
  },
  {
   "cell_type": "code",
   "execution_count": 34,
   "id": "81cff99d",
   "metadata": {},
   "outputs": [
    {
     "data": {
      "text/plain": [
       "array([11. , 73.5, 84. , 52.5, 33. ])"
      ]
     },
     "execution_count": 34,
     "metadata": {},
     "output_type": "execute_result"
    }
   ],
   "source": [
    "incremented_salary"
   ]
  },
  {
   "cell_type": "code",
   "execution_count": 36,
   "id": "89dce3a0",
   "metadata": {},
   "outputs": [],
   "source": [
    "arr = np.arange(1,101).reshape((10,10))"
   ]
  },
  {
   "cell_type": "code",
   "execution_count": 37,
   "id": "8299e3d8",
   "metadata": {},
   "outputs": [
    {
     "data": {
      "text/plain": [
       "array([[  1,   2,   3,   4,   5,   6,   7,   8,   9,  10],\n",
       "       [ 11,  12,  13,  14,  15,  16,  17,  18,  19,  20],\n",
       "       [ 21,  22,  23,  24,  25,  26,  27,  28,  29,  30],\n",
       "       [ 31,  32,  33,  34,  35,  36,  37,  38,  39,  40],\n",
       "       [ 41,  42,  43,  44,  45,  46,  47,  48,  49,  50],\n",
       "       [ 51,  52,  53,  54,  55,  56,  57,  58,  59,  60],\n",
       "       [ 61,  62,  63,  64,  65,  66,  67,  68,  69,  70],\n",
       "       [ 71,  72,  73,  74,  75,  76,  77,  78,  79,  80],\n",
       "       [ 81,  82,  83,  84,  85,  86,  87,  88,  89,  90],\n",
       "       [ 91,  92,  93,  94,  95,  96,  97,  98,  99, 100]])"
      ]
     },
     "execution_count": 37,
     "metadata": {},
     "output_type": "execute_result"
    }
   ],
   "source": [
    "arr"
   ]
  },
  {
   "cell_type": "code",
   "execution_count": 38,
   "id": "e21575b7",
   "metadata": {},
   "outputs": [
    {
     "data": {
      "text/plain": [
       "array([[  1,  11,  21,  31,  41,  51,  61,  71,  81,  91],\n",
       "       [  2,  12,  22,  32,  42,  52,  62,  72,  82,  92],\n",
       "       [  3,  13,  23,  33,  43,  53,  63,  73,  83,  93],\n",
       "       [  4,  14,  24,  34,  44,  54,  64,  74,  84,  94],\n",
       "       [  5,  15,  25,  35,  45,  55,  65,  75,  85,  95],\n",
       "       [  6,  16,  26,  36,  46,  56,  66,  76,  86,  96],\n",
       "       [  7,  17,  27,  37,  47,  57,  67,  77,  87,  97],\n",
       "       [  8,  18,  28,  38,  48,  58,  68,  78,  88,  98],\n",
       "       [  9,  19,  29,  39,  49,  59,  69,  79,  89,  99],\n",
       "       [ 10,  20,  30,  40,  50,  60,  70,  80,  90, 100]])"
      ]
     },
     "execution_count": 38,
     "metadata": {},
     "output_type": "execute_result"
    }
   ],
   "source": [
    "arr.T"
   ]
  },
  {
   "cell_type": "code",
   "execution_count": 39,
   "id": "8fbc7aee",
   "metadata": {},
   "outputs": [
    {
     "data": {
      "text/plain": [
       "array([[  1,   2,   3,   4,   5,   6,   7,   8,   9,  10],\n",
       "       [ 11,  12,  13,  14,  15,  16,  17,  18,  19,  20],\n",
       "       [ 21,  22,  23,  24,  25,  26,  27,  28,  29,  30],\n",
       "       [ 31,  32,  33,  34,  35,  36,  37,  38,  39,  40],\n",
       "       [ 41,  42,  43,  44,  45,  46,  47,  48,  49,  50],\n",
       "       [ 51,  52,  53,  54,  55,  56,  57,  58,  59,  60],\n",
       "       [ 61,  62,  63,  64,  65,  66,  67,  68,  69,  70],\n",
       "       [ 71,  72,  73,  74,  75,  76,  77,  78,  79,  80],\n",
       "       [ 81,  82,  83,  84,  85,  86,  87,  88,  89,  90],\n",
       "       [ 91,  92,  93,  94,  95,  96,  97,  98,  99, 100]])"
      ]
     },
     "execution_count": 39,
     "metadata": {},
     "output_type": "execute_result"
    }
   ],
   "source": [
    "arr"
   ]
  },
  {
   "cell_type": "code",
   "execution_count": 40,
   "id": "7734ef31",
   "metadata": {},
   "outputs": [
    {
     "data": {
      "text/plain": [
       "array([[  1,  11,  21,  31,  41,  51,  61,  71,  81,  91],\n",
       "       [  2,  12,  22,  32,  42,  52,  62,  72,  82,  92],\n",
       "       [  3,  13,  23,  33,  43,  53,  63,  73,  83,  93],\n",
       "       [  4,  14,  24,  34,  44,  54,  64,  74,  84,  94],\n",
       "       [  5,  15,  25,  35,  45,  55,  65,  75,  85,  95],\n",
       "       [  6,  16,  26,  36,  46,  56,  66,  76,  86,  96],\n",
       "       [  7,  17,  27,  37,  47,  57,  67,  77,  87,  97],\n",
       "       [  8,  18,  28,  38,  48,  58,  68,  78,  88,  98],\n",
       "       [  9,  19,  29,  39,  49,  59,  69,  79,  89,  99],\n",
       "       [ 10,  20,  30,  40,  50,  60,  70,  80,  90, 100]])"
      ]
     },
     "execution_count": 40,
     "metadata": {},
     "output_type": "execute_result"
    }
   ],
   "source": [
    "arr.transpose()"
   ]
  },
  {
   "cell_type": "code",
   "execution_count": 41,
   "id": "b6cd4f0a",
   "metadata": {},
   "outputs": [],
   "source": [
    "arr = np.array([1, 3, 4, 5, 2])"
   ]
  },
  {
   "cell_type": "code",
   "execution_count": 42,
   "id": "8ceadf3b",
   "metadata": {},
   "outputs": [
    {
     "data": {
      "text/plain": [
       "3.0"
      ]
     },
     "execution_count": 42,
     "metadata": {},
     "output_type": "execute_result"
    }
   ],
   "source": [
    "arr.mean()"
   ]
  },
  {
   "cell_type": "code",
   "execution_count": 43,
   "id": "695107fd",
   "metadata": {},
   "outputs": [
    {
     "data": {
      "text/plain": [
       "array([ 1,  4,  8, 13, 15])"
      ]
     },
     "execution_count": 43,
     "metadata": {},
     "output_type": "execute_result"
    }
   ],
   "source": [
    "arr.cumsum()"
   ]
  },
  {
   "cell_type": "code",
   "execution_count": 45,
   "id": "24c1a98c",
   "metadata": {},
   "outputs": [
    {
     "data": {
      "text/plain": [
       "array([  1,   3,  12,  60, 120])"
      ]
     },
     "execution_count": 45,
     "metadata": {},
     "output_type": "execute_result"
    }
   ],
   "source": [
    "arr.cumprod()"
   ]
  },
  {
   "cell_type": "code",
   "execution_count": 46,
   "id": "9142eb80",
   "metadata": {},
   "outputs": [],
   "source": [
    "# Procedure vs. Function\n",
    "#Procedure doesn't return any value\n",
    "#Function returns a value"
   ]
  },
  {
   "cell_type": "code",
   "execution_count": 47,
   "id": "3be6ef5d",
   "metadata": {},
   "outputs": [],
   "source": [
    "#Methods for boolean arrays"
   ]
  },
  {
   "cell_type": "code",
   "execution_count": 48,
   "id": "c912aecf",
   "metadata": {},
   "outputs": [],
   "source": [
    "gender = np.array([\"Male\", \"Female\", \"Male\", \"Male\", \"Male\"])"
   ]
  },
  {
   "cell_type": "code",
   "execution_count": 49,
   "id": "b7933555",
   "metadata": {},
   "outputs": [
    {
     "data": {
      "text/plain": [
       "array(['Male', 'Male', 'Male', 'Male'], dtype='<U6')"
      ]
     },
     "execution_count": 49,
     "metadata": {},
     "output_type": "execute_result"
    }
   ],
   "source": [
    "gender[gender=='Male']"
   ]
  },
  {
   "cell_type": "code",
   "execution_count": 50,
   "id": "56f8cf1d",
   "metadata": {},
   "outputs": [],
   "source": [
    "arr = gender==\"Male\""
   ]
  },
  {
   "cell_type": "code",
   "execution_count": 51,
   "id": "369bac12",
   "metadata": {},
   "outputs": [
    {
     "data": {
      "text/plain": [
       "array([ True, False,  True,  True,  True])"
      ]
     },
     "execution_count": 51,
     "metadata": {},
     "output_type": "execute_result"
    }
   ],
   "source": [
    "arr"
   ]
  },
  {
   "cell_type": "code",
   "execution_count": 52,
   "id": "85d479e2",
   "metadata": {},
   "outputs": [
    {
     "data": {
      "text/plain": [
       "4"
      ]
     },
     "execution_count": 52,
     "metadata": {},
     "output_type": "execute_result"
    }
   ],
   "source": [
    "arr.sum()"
   ]
  },
  {
   "cell_type": "code",
   "execution_count": 54,
   "id": "c8b2b74d",
   "metadata": {},
   "outputs": [],
   "source": [
    "arr = gender == \"Female\""
   ]
  },
  {
   "cell_type": "code",
   "execution_count": 55,
   "id": "d79566da",
   "metadata": {},
   "outputs": [
    {
     "data": {
      "text/plain": [
       "1"
      ]
     },
     "execution_count": 55,
     "metadata": {},
     "output_type": "execute_result"
    }
   ],
   "source": [
    "arr.sum()"
   ]
  },
  {
   "cell_type": "code",
   "execution_count": 56,
   "id": "93fa0d61",
   "metadata": {},
   "outputs": [
    {
     "data": {
      "text/plain": [
       "True"
      ]
     },
     "execution_count": 56,
     "metadata": {},
     "output_type": "execute_result"
    }
   ],
   "source": [
    "arr.any()"
   ]
  },
  {
   "cell_type": "code",
   "execution_count": 57,
   "id": "64785598",
   "metadata": {},
   "outputs": [
    {
     "data": {
      "text/plain": [
       "False"
      ]
     },
     "execution_count": 57,
     "metadata": {},
     "output_type": "execute_result"
    }
   ],
   "source": [
    "arr.all()"
   ]
  },
  {
   "cell_type": "code",
   "execution_count": 58,
   "id": "479a137a",
   "metadata": {},
   "outputs": [],
   "source": [
    "arr = np.array([2, 4, 10, 20, 16])"
   ]
  },
  {
   "cell_type": "code",
   "execution_count": 59,
   "id": "ce729beb",
   "metadata": {},
   "outputs": [],
   "source": [
    "x = arr%2 == 0"
   ]
  },
  {
   "cell_type": "code",
   "execution_count": 60,
   "id": "8c2d987b",
   "metadata": {},
   "outputs": [
    {
     "data": {
      "text/plain": [
       "array([ True,  True,  True,  True,  True])"
      ]
     },
     "execution_count": 60,
     "metadata": {},
     "output_type": "execute_result"
    }
   ],
   "source": [
    "x"
   ]
  },
  {
   "cell_type": "code",
   "execution_count": 61,
   "id": "99e045ad",
   "metadata": {},
   "outputs": [
    {
     "data": {
      "text/plain": [
       "True"
      ]
     },
     "execution_count": 61,
     "metadata": {},
     "output_type": "execute_result"
    }
   ],
   "source": [
    "x.all()"
   ]
  },
  {
   "cell_type": "code",
   "execution_count": 63,
   "id": "a7316654",
   "metadata": {},
   "outputs": [],
   "source": [
    "# Universal Quantifier\n",
    "# Existential Quantifier"
   ]
  },
  {
   "cell_type": "code",
   "execution_count": 64,
   "id": "ba255477",
   "metadata": {},
   "outputs": [
    {
     "data": {
      "text/plain": [
       "array([ 2,  4, 10, 20, 16])"
      ]
     },
     "execution_count": 64,
     "metadata": {},
     "output_type": "execute_result"
    }
   ],
   "source": [
    "arr"
   ]
  },
  {
   "cell_type": "code",
   "execution_count": 66,
   "id": "286faf21",
   "metadata": {},
   "outputs": [],
   "source": [
    "arr.sort() #Inplace"
   ]
  },
  {
   "cell_type": "code",
   "execution_count": 67,
   "id": "1b81bd50",
   "metadata": {},
   "outputs": [
    {
     "data": {
      "text/plain": [
       "array([20, 16, 10,  4,  2])"
      ]
     },
     "execution_count": 67,
     "metadata": {},
     "output_type": "execute_result"
    }
   ],
   "source": [
    "arr[::-1]"
   ]
  },
  {
   "cell_type": "code",
   "execution_count": 68,
   "id": "1a7b9e4c",
   "metadata": {},
   "outputs": [],
   "source": [
    "arr = np.array([1,2,4,1,6,2])"
   ]
  },
  {
   "cell_type": "code",
   "execution_count": 70,
   "id": "bf40a334",
   "metadata": {},
   "outputs": [],
   "source": [
    "u = np.unique(arr)"
   ]
  },
  {
   "cell_type": "code",
   "execution_count": 72,
   "id": "548ca0e0",
   "metadata": {},
   "outputs": [],
   "source": [
    "# Save Array"
   ]
  },
  {
   "cell_type": "code",
   "execution_count": 73,
   "id": "3eedd081",
   "metadata": {},
   "outputs": [],
   "source": [
    "np.save('data', u)"
   ]
  },
  {
   "cell_type": "code",
   "execution_count": 74,
   "id": "12b3c9c6",
   "metadata": {},
   "outputs": [],
   "source": [
    " # load array"
   ]
  },
  {
   "cell_type": "code",
   "execution_count": 75,
   "id": "723344a6",
   "metadata": {},
   "outputs": [],
   "source": [
    "content = np.load('data.npy')"
   ]
  },
  {
   "cell_type": "code",
   "execution_count": 76,
   "id": "abcc686b",
   "metadata": {},
   "outputs": [
    {
     "data": {
      "text/plain": [
       "array([1, 2, 4, 6])"
      ]
     },
     "execution_count": 76,
     "metadata": {},
     "output_type": "execute_result"
    }
   ],
   "source": [
    "content"
   ]
  },
  {
   "cell_type": "code",
   "execution_count": 77,
   "id": "f8dc768c",
   "metadata": {},
   "outputs": [],
   "source": [
    "# Saving multiple arrays"
   ]
  },
  {
   "cell_type": "code",
   "execution_count": 78,
   "id": "0a7216e7",
   "metadata": {},
   "outputs": [],
   "source": [
    "students = np.array([\"Ali\", \"Asad\", \"Ahmed\"])\n",
    "marks = np.array([30, 20, 60])"
   ]
  },
  {
   "cell_type": "code",
   "execution_count": 79,
   "id": "93ced911",
   "metadata": {},
   "outputs": [],
   "source": [
    "np.savez('arrays', std=students, m=marks)"
   ]
  },
  {
   "cell_type": "code",
   "execution_count": 83,
   "id": "5cd93c30",
   "metadata": {},
   "outputs": [],
   "source": [
    "result = np.load('arrays.npz')"
   ]
  },
  {
   "cell_type": "code",
   "execution_count": 84,
   "id": "a242c508",
   "metadata": {},
   "outputs": [
    {
     "data": {
      "text/plain": [
       "array(['Ali', 'Asad', 'Ahmed'], dtype='<U5')"
      ]
     },
     "execution_count": 84,
     "metadata": {},
     "output_type": "execute_result"
    }
   ],
   "source": [
    "result['std']"
   ]
  },
  {
   "cell_type": "code",
   "execution_count": 85,
   "id": "ed5a1327",
   "metadata": {},
   "outputs": [
    {
     "data": {
      "text/plain": [
       "array([30, 20, 60])"
      ]
     },
     "execution_count": 85,
     "metadata": {},
     "output_type": "execute_result"
    }
   ],
   "source": [
    "result['m']"
   ]
  },
  {
   "cell_type": "code",
   "execution_count": 86,
   "id": "05d55fe8",
   "metadata": {},
   "outputs": [],
   "source": [
    "#Linear Algebra Function"
   ]
  },
  {
   "cell_type": "code",
   "execution_count": 87,
   "id": "e418568c",
   "metadata": {},
   "outputs": [],
   "source": [
    "arr = np.arange(16).reshape(4,4)"
   ]
  },
  {
   "cell_type": "code",
   "execution_count": 88,
   "id": "5a0612bb",
   "metadata": {},
   "outputs": [
    {
     "data": {
      "text/plain": [
       "array([[ 0,  1,  2,  3],\n",
       "       [ 4,  5,  6,  7],\n",
       "       [ 8,  9, 10, 11],\n",
       "       [12, 13, 14, 15]])"
      ]
     },
     "execution_count": 88,
     "metadata": {},
     "output_type": "execute_result"
    }
   ],
   "source": [
    "arr"
   ]
  },
  {
   "cell_type": "code",
   "execution_count": 95,
   "id": "1d911f92",
   "metadata": {},
   "outputs": [
    {
     "data": {
      "text/plain": [
       "array([ 0,  5, 10, 15])"
      ]
     },
     "execution_count": 95,
     "metadata": {},
     "output_type": "execute_result"
    }
   ],
   "source": [
    "arr.diagonal() # diagonal of a matrix"
   ]
  },
  {
   "cell_type": "code",
   "execution_count": 96,
   "id": "c2ed1fe8",
   "metadata": {},
   "outputs": [
    {
     "data": {
      "text/plain": [
       "30"
      ]
     },
     "execution_count": 96,
     "metadata": {},
     "output_type": "execute_result"
    }
   ],
   "source": [
    "arr.trace()"
   ]
  },
  {
   "cell_type": "code",
   "execution_count": 98,
   "id": "c7c49a6d",
   "metadata": {},
   "outputs": [],
   "source": [
    "arr1=np.arange(10,26).reshape(4,4)"
   ]
  },
  {
   "cell_type": "code",
   "execution_count": 100,
   "id": "35d2bb44",
   "metadata": {},
   "outputs": [
    {
     "data": {
      "text/plain": [
       "array([[10, 11, 12, 13],\n",
       "       [14, 15, 16, 17],\n",
       "       [18, 19, 20, 21],\n",
       "       [22, 23, 24, 25]])"
      ]
     },
     "execution_count": 100,
     "metadata": {},
     "output_type": "execute_result"
    }
   ],
   "source": [
    "arr1"
   ]
  },
  {
   "cell_type": "code",
   "execution_count": 99,
   "id": "84d3668f",
   "metadata": {},
   "outputs": [
    {
     "data": {
      "text/plain": [
       "array([[ 756,  802,  848,  894],\n",
       "       [1012, 1074, 1136, 1198],\n",
       "       [1268, 1346, 1424, 1502],\n",
       "       [1524, 1618, 1712, 1806]])"
      ]
     },
     "execution_count": 99,
     "metadata": {},
     "output_type": "execute_result"
    }
   ],
   "source": [
    "arr.dot(arr1)"
   ]
  },
  {
   "cell_type": "code",
   "execution_count": 103,
   "id": "cf15d1de",
   "metadata": {},
   "outputs": [],
   "source": [
    "from numpy import linalg"
   ]
  },
  {
   "cell_type": "code",
   "execution_count": 104,
   "id": "391f99ab",
   "metadata": {},
   "outputs": [
    {
     "data": {
      "text/plain": [
       "0.0"
      ]
     },
     "execution_count": 104,
     "metadata": {},
     "output_type": "execute_result"
    }
   ],
   "source": [
    "linalg.det(arr)"
   ]
  },
  {
   "cell_type": "code",
   "execution_count": 105,
   "id": "b72e5e25",
   "metadata": {},
   "outputs": [
    {
     "data": {
      "text/plain": [
       "(array([ 7.11247837e+01, -1.12478374e+00, -2.94014727e-15,  7.59746340e-16]),\n",
       " array([[-0.32127676,  0.70087495,  0.49149433, -0.05161591],\n",
       "        [-0.43035796,  0.25454278, -0.47515096, -0.33761028],\n",
       "        [-0.53943916, -0.19178939, -0.52418105,  0.83006828],\n",
       "        [-0.64852036, -0.63812155,  0.50783769, -0.44084209]]))"
      ]
     },
     "execution_count": 105,
     "metadata": {},
     "output_type": "execute_result"
    }
   ],
   "source": [
    "linalg.eig(arr)"
   ]
  },
  {
   "cell_type": "code",
   "execution_count": 107,
   "id": "f0ff6483",
   "metadata": {},
   "outputs": [
    {
     "data": {
      "text/plain": [
       "array([[-0.21621622,  0.13513514],\n",
       "       [ 0.24324324, -0.02702703]])"
      ]
     },
     "execution_count": 107,
     "metadata": {},
     "output_type": "execute_result"
    }
   ],
   "source": [
    "linalg.inv([[1, 5], [9, 8]])"
   ]
  },
  {
   "cell_type": "code",
   "execution_count": 108,
   "id": "672d79a7",
   "metadata": {},
   "outputs": [
    {
     "data": {
      "text/plain": [
       "(array([[-0.30096463, -0.78065376, -0.28906053, -0.46523544],\n",
       "        [-0.42135049, -0.34994824,  0.73218006,  0.40486092],\n",
       "        [-0.54173634,  0.08075729, -0.59717853,  0.58598447],\n",
       "        [-0.66212219,  0.51146281,  0.154059  , -0.52560995]]),\n",
       " array([[-3.32264955e+01, -3.51526691e+01, -3.70788428e+01,\n",
       "         -3.90050164e+01],\n",
       "        [ 0.00000000e+00, -5.38381902e-01, -1.07676380e+00,\n",
       "         -1.61514571e+00],\n",
       "        [ 0.00000000e+00,  0.00000000e+00, -5.18368350e-15,\n",
       "         -5.45951253e-15],\n",
       "        [ 0.00000000e+00,  0.00000000e+00,  0.00000000e+00,\n",
       "          8.06562129e-15]]))"
      ]
     },
     "execution_count": 108,
     "metadata": {},
     "output_type": "execute_result"
    }
   ],
   "source": [
    "linalg.qr(arr)"
   ]
  },
  {
   "cell_type": "code",
   "execution_count": 109,
   "id": "ba09ba7d",
   "metadata": {},
   "outputs": [
    {
     "data": {
      "text/plain": [
       "(array([[-0.31904962, -0.77343865,  0.52129704, -0.16807556],\n",
       "        [-0.42937998, -0.34004828, -0.5697866 ,  0.61265262],\n",
       "        [-0.53971034,  0.09334209, -0.42431793, -0.72107856],\n",
       "        [-0.6500407 ,  0.52673246,  0.47280749,  0.2765015 ]]),\n",
       " array([7.23794055e+01, 1.10528678e+00, 4.63535513e-15, 2.02077729e-15]),\n",
       " array([[-0.45893576, -0.48571383, -0.5124919 , -0.53926997],\n",
       "        [ 0.69955555,  0.25314438, -0.1932668 , -0.63967797],\n",
       "        [-0.33003629,  0.11423655,  0.76163579, -0.54583604],\n",
       "        [-0.43712246,  0.82882448, -0.34628157, -0.04542044]]))"
      ]
     },
     "execution_count": 109,
     "metadata": {},
     "output_type": "execute_result"
    }
   ],
   "source": [
    "linalg.svd(arr)"
   ]
  },
  {
   "cell_type": "code",
   "execution_count": 110,
   "id": "f357c96b",
   "metadata": {},
   "outputs": [
    {
     "data": {
      "text/plain": [
       "array([[-3.7225333 ,  5.91448832,  0.48690477],\n",
       "       [ 4.92654752,  0.45213868,  2.17289934],\n",
       "       [-4.66589144,  2.57732167, -2.86852332]])"
      ]
     },
     "execution_count": 110,
     "metadata": {},
     "output_type": "execute_result"
    }
   ],
   "source": [
    "np.random.normal(3,4,(3,3))"
   ]
  },
  {
   "cell_type": "code",
   "execution_count": 113,
   "id": "dc108732",
   "metadata": {},
   "outputs": [
    {
     "data": {
      "text/plain": [
       "array([[ 0.14756486,  1.5418061 ,  0.80382049,  3.14650724],\n",
       "       [ 6.53345832,  1.14017099,  7.00183906,  0.83541646],\n",
       "       [ 5.69690498,  3.81098061,  0.80816399,  4.87078557],\n",
       "       [ 1.23851279,  0.24171154, 10.30826283,  5.99309969]])"
      ]
     },
     "execution_count": 113,
     "metadata": {},
     "output_type": "execute_result"
    }
   ],
   "source": [
    "np.random.gamma(1,2,(4,4))"
   ]
  },
  {
   "cell_type": "code",
   "execution_count": 114,
   "id": "e4e7630b",
   "metadata": {},
   "outputs": [],
   "source": [
    "np.random.seed(5)"
   ]
  },
  {
   "cell_type": "code",
   "execution_count": 116,
   "id": "f56858f1",
   "metadata": {},
   "outputs": [
    {
     "data": {
      "text/plain": [
       "0.22199317108973948"
      ]
     },
     "execution_count": 116,
     "metadata": {},
     "output_type": "execute_result"
    }
   ],
   "source": [
    "np.random.rand()"
   ]
  },
  {
   "cell_type": "code",
   "execution_count": 117,
   "id": "2e8f1fab",
   "metadata": {},
   "outputs": [],
   "source": [
    "# Reshape"
   ]
  },
  {
   "cell_type": "code",
   "execution_count": 118,
   "id": "2787ef75",
   "metadata": {},
   "outputs": [
    {
     "data": {
      "text/plain": [
       "array([[10, 11, 12, 13],\n",
       "       [14, 15, 16, 17],\n",
       "       [18, 19, 20, 21],\n",
       "       [22, 23, 24, 25]])"
      ]
     },
     "execution_count": 118,
     "metadata": {},
     "output_type": "execute_result"
    }
   ],
   "source": [
    "arr"
   ]
  },
  {
   "cell_type": "code",
   "execution_count": 119,
   "id": "f1eabb7d",
   "metadata": {},
   "outputs": [
    {
     "data": {
      "text/plain": [
       "array([[[[10, 11],\n",
       "         [12, 13]],\n",
       "\n",
       "        [[14, 15],\n",
       "         [16, 17]]],\n",
       "\n",
       "\n",
       "       [[[18, 19],\n",
       "         [20, 21]],\n",
       "\n",
       "        [[22, 23],\n",
       "         [24, 25]]]])"
      ]
     },
     "execution_count": 119,
     "metadata": {},
     "output_type": "execute_result"
    }
   ],
   "source": [
    "arr.reshape((2,2,2,2))"
   ]
  },
  {
   "cell_type": "code",
   "execution_count": 120,
   "id": "48547ff4",
   "metadata": {},
   "outputs": [],
   "source": [
    "arr = np.arange(16)"
   ]
  },
  {
   "cell_type": "code",
   "execution_count": 122,
   "id": "af3cf4ba",
   "metadata": {},
   "outputs": [
    {
     "data": {
      "text/plain": [
       "array([[ 0,  4,  8, 12],\n",
       "       [ 1,  5,  9, 13],\n",
       "       [ 2,  6, 10, 14],\n",
       "       [ 3,  7, 11, 15]])"
      ]
     },
     "execution_count": 122,
     "metadata": {},
     "output_type": "execute_result"
    }
   ],
   "source": [
    "arr.reshape((4,4),order='F') # Column major order"
   ]
  },
  {
   "cell_type": "code",
   "execution_count": 126,
   "id": "252899e3",
   "metadata": {},
   "outputs": [
    {
     "data": {
      "text/plain": [
       "array([[ 0,  1,  2,  3],\n",
       "       [ 4,  5,  6,  7],\n",
       "       [ 8,  9, 10, 11],\n",
       "       [12, 13, 14, 15]])"
      ]
     },
     "execution_count": 126,
     "metadata": {},
     "output_type": "execute_result"
    }
   ],
   "source": [
    "arr.reshape((4,4),order='c') # Row major order"
   ]
  },
  {
   "cell_type": "code",
   "execution_count": 127,
   "id": "b0243181",
   "metadata": {},
   "outputs": [],
   "source": [
    " # Converting to 1D array"
   ]
  },
  {
   "cell_type": "code",
   "execution_count": 128,
   "id": "c989d4db",
   "metadata": {},
   "outputs": [
    {
     "data": {
      "text/plain": [
       "array([ 0,  1,  2,  3,  4,  5,  6,  7,  8,  9, 10, 11, 12, 13, 14, 15])"
      ]
     },
     "execution_count": 128,
     "metadata": {},
     "output_type": "execute_result"
    }
   ],
   "source": [
    "arr"
   ]
  },
  {
   "cell_type": "code",
   "execution_count": 129,
   "id": "0f2bae56",
   "metadata": {},
   "outputs": [],
   "source": [
    "arr = np.array([[1, 8, 7],[3, 4, 5],[9, 0, 1]])"
   ]
  },
  {
   "cell_type": "code",
   "execution_count": 130,
   "id": "d4967fa4",
   "metadata": {},
   "outputs": [
    {
     "data": {
      "text/plain": [
       "array([[1, 8, 7],\n",
       "       [3, 4, 5],\n",
       "       [9, 0, 1]])"
      ]
     },
     "execution_count": 130,
     "metadata": {},
     "output_type": "execute_result"
    }
   ],
   "source": [
    "arr"
   ]
  },
  {
   "cell_type": "code",
   "execution_count": 131,
   "id": "b78dcbf5",
   "metadata": {},
   "outputs": [
    {
     "data": {
      "text/plain": [
       "array([1, 8, 7, 3, 4, 5, 9, 0, 1])"
      ]
     },
     "execution_count": 131,
     "metadata": {},
     "output_type": "execute_result"
    }
   ],
   "source": [
    "arr.flatten()"
   ]
  },
  {
   "cell_type": "code",
   "execution_count": 133,
   "id": "e0400785",
   "metadata": {},
   "outputs": [
    {
     "data": {
      "text/plain": [
       "array([1, 8, 7, 3, 4, 5, 9, 0, 1])"
      ]
     },
     "execution_count": 133,
     "metadata": {},
     "output_type": "execute_result"
    }
   ],
   "source": [
    " arr.ravel()"
   ]
  },
  {
   "cell_type": "code",
   "execution_count": 134,
   "id": "4b094be6",
   "metadata": {},
   "outputs": [
    {
     "data": {
      "text/plain": [
       "array([[1, 8, 7, 3, 4, 5, 9, 0, 1]])"
      ]
     },
     "execution_count": 134,
     "metadata": {},
     "output_type": "execute_result"
    }
   ],
   "source": [
    "arr.reshape(1,9)"
   ]
  },
  {
   "cell_type": "code",
   "execution_count": 135,
   "id": "6438a0e7",
   "metadata": {},
   "outputs": [],
   "source": [
    "# Assignment: Difference between ravel and flatten"
   ]
  },
  {
   "cell_type": "code",
   "execution_count": 136,
   "id": "0d53d6ed",
   "metadata": {},
   "outputs": [],
   "source": [
    " # Concatenate"
   ]
  },
  {
   "cell_type": "code",
   "execution_count": 137,
   "id": "805e4fa8",
   "metadata": {},
   "outputs": [],
   "source": [
    "a = np.array([[1, 2],[3, 4]])\n",
    "b = np.array([[7, 8], [9, 10]])"
   ]
  },
  {
   "cell_type": "code",
   "execution_count": 140,
   "id": "0fc8fbf7",
   "metadata": {},
   "outputs": [
    {
     "name": "stdout",
     "output_type": "stream",
     "text": [
      "a= [[1 2]\n",
      " [3 4]]\n",
      "b= [[ 7  8]\n",
      " [ 9 10]]\n"
     ]
    }
   ],
   "source": [
    "print('a=',a)\n",
    "print('b=',b)"
   ]
  },
  {
   "cell_type": "code",
   "execution_count": 138,
   "id": "b000df4b",
   "metadata": {},
   "outputs": [
    {
     "data": {
      "text/plain": [
       "array([[ 1,  2],\n",
       "       [ 3,  4],\n",
       "       [ 7,  8],\n",
       "       [ 9, 10]])"
      ]
     },
     "execution_count": 138,
     "metadata": {},
     "output_type": "execute_result"
    }
   ],
   "source": [
    "np.concatenate((a,b),axis=0)"
   ]
  },
  {
   "cell_type": "code",
   "execution_count": 142,
   "id": "da8db565",
   "metadata": {},
   "outputs": [],
   "source": [
    "a = np.array([[1, 7, 9],[2, 3, 4,],[5, 6, 7]])\n",
    "b = np.array([[9, 4, 9],[2, 3, 2],[0, 6, 7]])"
   ]
  },
  {
   "cell_type": "code",
   "execution_count": 143,
   "id": "4a8910ce",
   "metadata": {},
   "outputs": [
    {
     "data": {
      "text/plain": [
       "array([[1, 7, 9],\n",
       "       [2, 3, 4],\n",
       "       [5, 6, 7],\n",
       "       [9, 4, 9],\n",
       "       [2, 3, 2],\n",
       "       [0, 6, 7]])"
      ]
     },
     "execution_count": 143,
     "metadata": {},
     "output_type": "execute_result"
    }
   ],
   "source": [
    "np.concatenate((a, b))"
   ]
  },
  {
   "cell_type": "code",
   "execution_count": 145,
   "id": "1cfe2b8d",
   "metadata": {},
   "outputs": [
    {
     "data": {
      "text/plain": [
       "array([[1, 7, 9, 9, 4, 9],\n",
       "       [2, 3, 4, 2, 3, 2],\n",
       "       [5, 6, 7, 0, 6, 7]])"
      ]
     },
     "execution_count": 145,
     "metadata": {},
     "output_type": "execute_result"
    }
   ],
   "source": [
    "np.hstack((a, b))  # concatenate axis = 1"
   ]
  },
  {
   "cell_type": "code",
   "execution_count": 147,
   "id": "faa55824",
   "metadata": {},
   "outputs": [
    {
     "data": {
      "text/plain": [
       "array([[1, 7, 9],\n",
       "       [2, 3, 4],\n",
       "       [5, 6, 7],\n",
       "       [9, 4, 9],\n",
       "       [2, 3, 2],\n",
       "       [0, 6, 7]])"
      ]
     },
     "execution_count": 147,
     "metadata": {},
     "output_type": "execute_result"
    }
   ],
   "source": [
    "np.vstack((a, b))  # concatenate axis = 0"
   ]
  },
  {
   "cell_type": "code",
   "execution_count": 148,
   "id": "61110842",
   "metadata": {},
   "outputs": [
    {
     "data": {
      "text/plain": [
       "array([[1, 7, 9],\n",
       "       [2, 3, 4],\n",
       "       [5, 6, 7],\n",
       "       [9, 4, 9],\n",
       "       [2, 3, 2],\n",
       "       [0, 6, 7]])"
      ]
     },
     "execution_count": 148,
     "metadata": {},
     "output_type": "execute_result"
    }
   ],
   "source": [
    "np.r_[a,b]  # concatenate axis = 0"
   ]
  },
  {
   "cell_type": "code",
   "execution_count": 149,
   "id": "58f693c0",
   "metadata": {},
   "outputs": [
    {
     "data": {
      "text/plain": [
       "array([[1, 7, 9, 9, 4, 9],\n",
       "       [2, 3, 4, 2, 3, 2],\n",
       "       [5, 6, 7, 0, 6, 7]])"
      ]
     },
     "execution_count": 149,
     "metadata": {},
     "output_type": "execute_result"
    }
   ],
   "source": [
    "np.c_[a,b]  # concatenate axis = 1"
   ]
  },
  {
   "cell_type": "code",
   "execution_count": 150,
   "id": "4ab44f00",
   "metadata": {},
   "outputs": [],
   "source": [
    "# Split Function"
   ]
  },
  {
   "cell_type": "code",
   "execution_count": 151,
   "id": "e469bafa",
   "metadata": {},
   "outputs": [],
   "source": [
    "x = np.array([1, 9, 9, 7, 1, 2, 3])"
   ]
  },
  {
   "cell_type": "code",
   "execution_count": 153,
   "id": "169cd35d",
   "metadata": {},
   "outputs": [
    {
     "data": {
      "text/plain": [
       "[array([1, 9, 9]), array([7, 1]), array([2, 3])]"
      ]
     },
     "execution_count": 153,
     "metadata": {},
     "output_type": "execute_result"
    }
   ],
   "source": [
    "np.split(x,[3, 5])"
   ]
  },
  {
   "cell_type": "code",
   "execution_count": 161,
   "id": "cbd03268",
   "metadata": {},
   "outputs": [],
   "source": [
    "l = np.arange(2, 7, 2)"
   ]
  },
  {
   "cell_type": "code",
   "execution_count": 162,
   "id": "52c873ad",
   "metadata": {},
   "outputs": [
    {
     "data": {
      "text/plain": [
       "array([2, 4, 6])"
      ]
     },
     "execution_count": 162,
     "metadata": {},
     "output_type": "execute_result"
    }
   ],
   "source": [
    "l"
   ]
  },
  {
   "cell_type": "code",
   "execution_count": 164,
   "id": "34b350ef",
   "metadata": {},
   "outputs": [
    {
     "data": {
      "text/plain": [
       "array([1, 9, 9, 7, 1, 2, 3])"
      ]
     },
     "execution_count": 164,
     "metadata": {},
     "output_type": "execute_result"
    }
   ],
   "source": [
    "x"
   ]
  },
  {
   "cell_type": "code",
   "execution_count": 165,
   "id": "f5c1a0e9",
   "metadata": {},
   "outputs": [
    {
     "data": {
      "text/plain": [
       "[array([1, 9]), array([9, 7]), array([1, 2]), array([3])]"
      ]
     },
     "execution_count": 165,
     "metadata": {},
     "output_type": "execute_result"
    }
   ],
   "source": [
    "np.split(x,l)"
   ]
  },
  {
   "cell_type": "code",
   "execution_count": 170,
   "id": "50a0883c",
   "metadata": {},
   "outputs": [],
   "source": [
    "x = np.array([[1, 3], [2, 4]])"
   ]
  },
  {
   "cell_type": "code",
   "execution_count": 171,
   "id": "f5773064",
   "metadata": {},
   "outputs": [
    {
     "data": {
      "text/plain": [
       "array([[1, 3],\n",
       "       [2, 4]])"
      ]
     },
     "execution_count": 171,
     "metadata": {},
     "output_type": "execute_result"
    }
   ],
   "source": [
    "x"
   ]
  },
  {
   "cell_type": "code",
   "execution_count": 172,
   "id": "87c0157e",
   "metadata": {},
   "outputs": [
    {
     "data": {
      "text/plain": [
       "[array([[1, 3]]), array([[2, 4]])]"
      ]
     },
     "execution_count": 172,
     "metadata": {},
     "output_type": "execute_result"
    }
   ],
   "source": [
    "np.split(x,[1])"
   ]
  },
  {
   "cell_type": "code",
   "execution_count": null,
   "id": "4b98c252",
   "metadata": {},
   "outputs": [],
   "source": []
  }
 ],
 "metadata": {
  "kernelspec": {
   "display_name": "Python 3 (ipykernel)",
   "language": "python",
   "name": "python3"
  },
  "language_info": {
   "codemirror_mode": {
    "name": "ipython",
    "version": 3
   },
   "file_extension": ".py",
   "mimetype": "text/x-python",
   "name": "python",
   "nbconvert_exporter": "python",
   "pygments_lexer": "ipython3",
   "version": "3.10.4"
  }
 },
 "nbformat": 4,
 "nbformat_minor": 5
}
