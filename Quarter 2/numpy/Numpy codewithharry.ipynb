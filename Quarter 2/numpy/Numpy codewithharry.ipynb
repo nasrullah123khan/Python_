{
 "cells": [
  {
   "cell_type": "markdown",
   "id": "4d6d80ec",
   "metadata": {},
   "source": [
    "***Numpy Tutorial for Machine learning***"
   ]
  },
  {
   "cell_type": "code",
   "execution_count": 1,
   "id": "b47bea79",
   "metadata": {},
   "outputs": [],
   "source": [
    "import numpy as np"
   ]
  },
  {
   "cell_type": "code",
   "execution_count": 2,
   "id": "537d230c",
   "metadata": {},
   "outputs": [
    {
     "name": "stdout",
     "output_type": "stream",
     "text": [
      "Hello word\n"
     ]
    }
   ],
   "source": [
    "print(\"Hello word\")"
   ]
  },
  {
   "cell_type": "code",
   "execution_count": 3,
   "id": "016578d0",
   "metadata": {},
   "outputs": [],
   "source": [
    "myarry = np.array([22,42,66,86],np.int8)"
   ]
  },
  {
   "cell_type": "code",
   "execution_count": 4,
   "id": "3aa32524",
   "metadata": {},
   "outputs": [
    {
     "data": {
      "text/plain": [
       "array([22, 42, 66, 86], dtype=int8)"
      ]
     },
     "execution_count": 4,
     "metadata": {},
     "output_type": "execute_result"
    }
   ],
   "source": [
    "myarry"
   ]
  },
  {
   "cell_type": "code",
   "execution_count": 5,
   "id": "e58a8790",
   "metadata": {},
   "outputs": [
    {
     "data": {
      "text/plain": [
       "(4,)"
      ]
     },
     "execution_count": 5,
     "metadata": {},
     "output_type": "execute_result"
    }
   ],
   "source": [
    "myarry.shape"
   ]
  },
  {
   "cell_type": "code",
   "execution_count": 6,
   "id": "0ab20d87",
   "metadata": {},
   "outputs": [
    {
     "data": {
      "text/plain": [
       "dtype('int8')"
      ]
     },
     "execution_count": 6,
     "metadata": {},
     "output_type": "execute_result"
    }
   ],
   "source": [
    "myarry.dtype"
   ]
  },
  {
   "cell_type": "code",
   "execution_count": 7,
   "id": "c37bdbf2",
   "metadata": {},
   "outputs": [
    {
     "data": {
      "text/plain": [
       "4"
      ]
     },
     "execution_count": 7,
     "metadata": {},
     "output_type": "execute_result"
    }
   ],
   "source": [
    "myarry.size"
   ]
  },
  {
   "cell_type": "code",
   "execution_count": 8,
   "id": "b887e251",
   "metadata": {},
   "outputs": [
    {
     "data": {
      "text/plain": [
       "66"
      ]
     },
     "execution_count": 8,
     "metadata": {},
     "output_type": "execute_result"
    }
   ],
   "source": [
    "myarry[2]"
   ]
  },
  {
   "cell_type": "code",
   "execution_count": 9,
   "id": "5ea3d4b3",
   "metadata": {},
   "outputs": [],
   "source": [
    "myarry[2] = 55"
   ]
  },
  {
   "cell_type": "code",
   "execution_count": 10,
   "id": "d600b99a",
   "metadata": {},
   "outputs": [
    {
     "data": {
      "text/plain": [
       "55"
      ]
     },
     "execution_count": 10,
     "metadata": {},
     "output_type": "execute_result"
    }
   ],
   "source": [
    "myarry[2]"
   ]
  },
  {
   "cell_type": "code",
   "execution_count": 11,
   "id": "0a445c02",
   "metadata": {},
   "outputs": [
    {
     "data": {
      "text/plain": [
       "array([22, 42, 55, 86], dtype=int8)"
      ]
     },
     "execution_count": 11,
     "metadata": {},
     "output_type": "execute_result"
    }
   ],
   "source": [
    "myarry"
   ]
  },
  {
   "cell_type": "code",
   "execution_count": null,
   "id": "250c0187",
   "metadata": {},
   "outputs": [],
   "source": []
  }
 ],
 "metadata": {
  "kernelspec": {
   "display_name": "Python 3 (ipykernel)",
   "language": "python",
   "name": "python3"
  },
  "language_info": {
   "codemirror_mode": {
    "name": "ipython",
    "version": 3
   },
   "file_extension": ".py",
   "mimetype": "text/x-python",
   "name": "python",
   "nbconvert_exporter": "python",
   "pygments_lexer": "ipython3",
   "version": "3.10.4"
  }
 },
 "nbformat": 4,
 "nbformat_minor": 5
}
