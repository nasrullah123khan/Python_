{
 "cells": [
  {
   "cell_type": "markdown",
   "id": "439774f6",
   "metadata": {},
   "source": [
    "# NumPy"
   ]
  },
  {
   "cell_type": "markdown",
   "id": "1fd75bbd",
   "metadata": {},
   "source": [
    "***Slicing***"
   ]
  },
  {
   "cell_type": "code",
   "execution_count": 1,
   "id": "2110d2c8",
   "metadata": {},
   "outputs": [],
   "source": [
    "import numpy as np"
   ]
  },
  {
   "cell_type": "code",
   "execution_count": 6,
   "id": "f82bb4f2",
   "metadata": {},
   "outputs": [
    {
     "name": "stdout",
     "output_type": "stream",
     "text": [
      "(3, 3, 3)\n",
      "3\n"
     ]
    },
    {
     "data": {
      "text/plain": [
       "array([[[ 0,  1,  2],\n",
       "        [ 3,  4,  5],\n",
       "        [ 6,  7,  8]],\n",
       "\n",
       "       [[ 9, 10, 11],\n",
       "        [12, 13, 14],\n",
       "        [15, 16, 17]],\n",
       "\n",
       "       [[18, 19, 20],\n",
       "        [21, 22, 23],\n",
       "        [24, 25, 26]]])"
      ]
     },
     "execution_count": 6,
     "metadata": {},
     "output_type": "execute_result"
    }
   ],
   "source": [
    "a = np.arange(27).reshape(3,3,3)\n",
    "print(a.shape)\n",
    "print(a.ndim)\n",
    "a"
   ]
  },
  {
   "cell_type": "code",
   "execution_count": 3,
   "id": "17d2b8fa",
   "metadata": {},
   "outputs": [],
   "source": [
    "a = np.arange(100).reshape(10,10)"
   ]
  },
  {
   "cell_type": "code",
   "execution_count": 4,
   "id": "e0321ee5",
   "metadata": {},
   "outputs": [
    {
     "data": {
      "text/plain": [
       "array([[ 0,  1,  2,  3,  4,  5,  6,  7,  8,  9],\n",
       "       [10, 11, 12, 13, 14, 15, 16, 17, 18, 19],\n",
       "       [20, 21, 22, 23, 24, 25, 26, 27, 28, 29],\n",
       "       [30, 31, 32, 33, 34, 35, 36, 37, 38, 39],\n",
       "       [40, 41, 42, 43, 44, 45, 46, 47, 48, 49],\n",
       "       [50, 51, 52, 53, 54, 55, 56, 57, 58, 59],\n",
       "       [60, 61, 62, 63, 64, 65, 66, 67, 68, 69],\n",
       "       [70, 71, 72, 73, 74, 75, 76, 77, 78, 79],\n",
       "       [80, 81, 82, 83, 84, 85, 86, 87, 88, 89],\n",
       "       [90, 91, 92, 93, 94, 95, 96, 97, 98, 99]])"
      ]
     },
     "execution_count": 4,
     "metadata": {},
     "output_type": "execute_result"
    }
   ],
   "source": [
    "a"
   ]
  },
  {
   "cell_type": "code",
   "execution_count": 8,
   "id": "35ed012e",
   "metadata": {},
   "outputs": [],
   "source": [
    "# 4 pictures resolution 8*8\n",
    "pic = np.arange(4*8*8).reshape(4,8,8)"
   ]
  },
  {
   "cell_type": "code",
   "execution_count": 9,
   "id": "f084850c",
   "metadata": {},
   "outputs": [
    {
     "data": {
      "text/plain": [
       "array([[[  0,   1,   2,   3,   4,   5,   6,   7],\n",
       "        [  8,   9,  10,  11,  12,  13,  14,  15],\n",
       "        [ 16,  17,  18,  19,  20,  21,  22,  23],\n",
       "        [ 24,  25,  26,  27,  28,  29,  30,  31],\n",
       "        [ 32,  33,  34,  35,  36,  37,  38,  39],\n",
       "        [ 40,  41,  42,  43,  44,  45,  46,  47],\n",
       "        [ 48,  49,  50,  51,  52,  53,  54,  55],\n",
       "        [ 56,  57,  58,  59,  60,  61,  62,  63]],\n",
       "\n",
       "       [[ 64,  65,  66,  67,  68,  69,  70,  71],\n",
       "        [ 72,  73,  74,  75,  76,  77,  78,  79],\n",
       "        [ 80,  81,  82,  83,  84,  85,  86,  87],\n",
       "        [ 88,  89,  90,  91,  92,  93,  94,  95],\n",
       "        [ 96,  97,  98,  99, 100, 101, 102, 103],\n",
       "        [104, 105, 106, 107, 108, 109, 110, 111],\n",
       "        [112, 113, 114, 115, 116, 117, 118, 119],\n",
       "        [120, 121, 122, 123, 124, 125, 126, 127]],\n",
       "\n",
       "       [[128, 129, 130, 131, 132, 133, 134, 135],\n",
       "        [136, 137, 138, 139, 140, 141, 142, 143],\n",
       "        [144, 145, 146, 147, 148, 149, 150, 151],\n",
       "        [152, 153, 154, 155, 156, 157, 158, 159],\n",
       "        [160, 161, 162, 163, 164, 165, 166, 167],\n",
       "        [168, 169, 170, 171, 172, 173, 174, 175],\n",
       "        [176, 177, 178, 179, 180, 181, 182, 183],\n",
       "        [184, 185, 186, 187, 188, 189, 190, 191]],\n",
       "\n",
       "       [[192, 193, 194, 195, 196, 197, 198, 199],\n",
       "        [200, 201, 202, 203, 204, 205, 206, 207],\n",
       "        [208, 209, 210, 211, 212, 213, 214, 215],\n",
       "        [216, 217, 218, 219, 220, 221, 222, 223],\n",
       "        [224, 225, 226, 227, 228, 229, 230, 231],\n",
       "        [232, 233, 234, 235, 236, 237, 238, 239],\n",
       "        [240, 241, 242, 243, 244, 245, 246, 247],\n",
       "        [248, 249, 250, 251, 252, 253, 254, 255]]])"
      ]
     },
     "execution_count": 9,
     "metadata": {},
     "output_type": "execute_result"
    }
   ],
   "source": [
    "pic"
   ]
  },
  {
   "cell_type": "code",
   "execution_count": 10,
   "id": "191f4d24",
   "metadata": {},
   "outputs": [
    {
     "data": {
      "text/plain": [
       "array([[[  0,   1,   2,   3,   4,   5,   6,   7],\n",
       "        [  8,   9,  10,  11,  12,  13,  14,  15],\n",
       "        [ 16,  17,  18,  19,  20,  21,  22,  23],\n",
       "        [ 24,  25,  26,  27,  28,  29,  30,  31],\n",
       "        [ 32,  33,  34,  35,  36,  37,  38,  39],\n",
       "        [ 40,  41,  42,  43,  44,  45,  46,  47],\n",
       "        [ 48,  49,  50,  51,  52,  53,  54,  55],\n",
       "        [ 56,  57,  58,  59,  60,  61,  62,  63]],\n",
       "\n",
       "       [[ 64,  65,  66,  67,  68,  69,  70,  71],\n",
       "        [ 72,  73,  74,  75,  76,  77,  78,  79],\n",
       "        [ 80,  81,  82,  83,  84,  85,  86,  87],\n",
       "        [ 88,  89,  90,  91,  92,  93,  94,  95],\n",
       "        [ 96,  97,  98,  99, 100, 101, 102, 103],\n",
       "        [104, 105, 106, 107, 108, 109, 110, 111],\n",
       "        [112, 113, 114, 115, 116, 117, 118, 119],\n",
       "        [120, 121, 122, 123, 124, 125, 126, 127]],\n",
       "\n",
       "       [[128, 129, 130, 131, 132, 133, 134, 135],\n",
       "        [136, 137, 138, 139, 140, 141, 142, 143],\n",
       "        [144, 145, 146, 147, 148, 149, 150, 151],\n",
       "        [152, 153, 154, 155, 156, 157, 158, 159],\n",
       "        [160, 161, 162, 163, 164, 165, 166, 167],\n",
       "        [168, 169, 170, 171, 172, 173, 174, 175],\n",
       "        [176, 177, 178, 179, 180, 181, 182, 183],\n",
       "        [184, 185, 186, 187, 188, 189, 190, 191]],\n",
       "\n",
       "       [[192, 193, 194, 195, 196, 197, 198, 199],\n",
       "        [200, 201, 202, 203, 204, 205, 206, 207],\n",
       "        [208, 209, 210, 211, 212, 213, 214, 215],\n",
       "        [216, 217, 218, 219, 220, 221, 222, 223],\n",
       "        [224, 225, 226, 227, 228, 229, 230, 231],\n",
       "        [232, 233, 234, 235, 236, 237, 238, 239],\n",
       "        [240, 241, 242, 243, 244, 245, 246, 247],\n",
       "        [248, 249, 250, 251, 252, 253, 254, 255]],\n",
       "\n",
       "       [[256, 257, 258, 259, 260, 261, 262, 263],\n",
       "        [264, 265, 266, 267, 268, 269, 270, 271],\n",
       "        [272, 273, 274, 275, 276, 277, 278, 279],\n",
       "        [280, 281, 282, 283, 284, 285, 286, 287],\n",
       "        [288, 289, 290, 291, 292, 293, 294, 295],\n",
       "        [296, 297, 298, 299, 300, 301, 302, 303],\n",
       "        [304, 305, 306, 307, 308, 309, 310, 311],\n",
       "        [312, 313, 314, 315, 316, 317, 318, 319]],\n",
       "\n",
       "       [[320, 321, 322, 323, 324, 325, 326, 327],\n",
       "        [328, 329, 330, 331, 332, 333, 334, 335],\n",
       "        [336, 337, 338, 339, 340, 341, 342, 343],\n",
       "        [344, 345, 346, 347, 348, 349, 350, 351],\n",
       "        [352, 353, 354, 355, 356, 357, 358, 359],\n",
       "        [360, 361, 362, 363, 364, 365, 366, 367],\n",
       "        [368, 369, 370, 371, 372, 373, 374, 375],\n",
       "        [376, 377, 378, 379, 380, 381, 382, 383]],\n",
       "\n",
       "       [[384, 385, 386, 387, 388, 389, 390, 391],\n",
       "        [392, 393, 394, 395, 396, 397, 398, 399],\n",
       "        [400, 401, 402, 403, 404, 405, 406, 407],\n",
       "        [408, 409, 410, 411, 412, 413, 414, 415],\n",
       "        [416, 417, 418, 419, 420, 421, 422, 423],\n",
       "        [424, 425, 426, 427, 428, 429, 430, 431],\n",
       "        [432, 433, 434, 435, 436, 437, 438, 439],\n",
       "        [440, 441, 442, 443, 444, 445, 446, 447]],\n",
       "\n",
       "       [[448, 449, 450, 451, 452, 453, 454, 455],\n",
       "        [456, 457, 458, 459, 460, 461, 462, 463],\n",
       "        [464, 465, 466, 467, 468, 469, 470, 471],\n",
       "        [472, 473, 474, 475, 476, 477, 478, 479],\n",
       "        [480, 481, 482, 483, 484, 485, 486, 487],\n",
       "        [488, 489, 490, 491, 492, 493, 494, 495],\n",
       "        [496, 497, 498, 499, 500, 501, 502, 503],\n",
       "        [504, 505, 506, 507, 508, 509, 510, 511]],\n",
       "\n",
       "       [[512, 513, 514, 515, 516, 517, 518, 519],\n",
       "        [520, 521, 522, 523, 524, 525, 526, 527],\n",
       "        [528, 529, 530, 531, 532, 533, 534, 535],\n",
       "        [536, 537, 538, 539, 540, 541, 542, 543],\n",
       "        [544, 545, 546, 547, 548, 549, 550, 551],\n",
       "        [552, 553, 554, 555, 556, 557, 558, 559],\n",
       "        [560, 561, 562, 563, 564, 565, 566, 567],\n",
       "        [568, 569, 570, 571, 572, 573, 574, 575]],\n",
       "\n",
       "       [[576, 577, 578, 579, 580, 581, 582, 583],\n",
       "        [584, 585, 586, 587, 588, 589, 590, 591],\n",
       "        [592, 593, 594, 595, 596, 597, 598, 599],\n",
       "        [600, 601, 602, 603, 604, 605, 606, 607],\n",
       "        [608, 609, 610, 611, 612, 613, 614, 615],\n",
       "        [616, 617, 618, 619, 620, 621, 622, 623],\n",
       "        [624, 625, 626, 627, 628, 629, 630, 631],\n",
       "        [632, 633, 634, 635, 636, 637, 638, 639]]])"
      ]
     },
     "execution_count": 10,
     "metadata": {},
     "output_type": "execute_result"
    }
   ],
   "source": [
    "# 10 pictures resolution 8*8\n",
    "pic = np.arange(10*8*8).reshape(10,8,8)\n",
    "pic"
   ]
  },
  {
   "cell_type": "code",
   "execution_count": 11,
   "id": "82223f62",
   "metadata": {},
   "outputs": [
    {
     "data": {
      "text/plain": [
       "array([[[ 84, 102,  19, 158,  18,  35, 218,  27],\n",
       "        [ 36, 132,  58, 223, 245, 153,  13, 104],\n",
       "        [105,  48,  94,  16,  34, 207, 188,  43],\n",
       "        [ 95, 209, 124,  97,   7, 240, 138, 184],\n",
       "        [ 68,  11,  21,  16,  57,  33,  37, 172],\n",
       "        [112,  77, 185, 109,  40, 224, 236, 215],\n",
       "        [195, 237,  87,  72, 245,  26, 144,  70],\n",
       "        [  8,  64,  93, 175, 119,  74,  96, 124]],\n",
       "\n",
       "       [[228,  10,   7,  35, 231, 107,  55, 247],\n",
       "        [171, 104, 222,  42, 181, 230, 208,  81],\n",
       "        [ 93, 218, 247,  19, 175, 118, 189, 241],\n",
       "        [189, 223, 219, 120, 116,  15, 242, 127],\n",
       "        [  7,  71,  66,  89,  25,  32, 124,  41],\n",
       "        [ 43, 248,  14, 122,  88, 105,  58,  97],\n",
       "        [  9, 236,  36, 161,  67,  70,  45,  98],\n",
       "        [106, 219, 239, 171, 174,  55, 192, 188]],\n",
       "\n",
       "       [[  4, 145,  97,  71, 195, 247, 223, 121],\n",
       "        [ 93, 158, 172,  28, 117,  18, 188,  83],\n",
       "        [ 39, 141, 116, 107,   5, 100, 101, 170],\n",
       "        [ 91, 201,  74,  96,  17,  22, 190,  54],\n",
       "        [241,  86,  99, 186, 210,  83, 207, 102],\n",
       "        [202, 188, 172, 107, 243, 190, 221,  85],\n",
       "        [230, 219, 144, 172,  36, 245, 205, 140],\n",
       "        [ 97,  76,  68, 161,  87, 136, 150,  78]],\n",
       "\n",
       "       [[ 87,  11, 252, 202, 201, 182,  97,  80],\n",
       "        [ 26,  10, 158,   7, 103, 155,  63,  86],\n",
       "        [ 17,  90,  31, 168, 189, 140,  53, 181],\n",
       "        [229, 185,  37, 154,  53, 242, 187, 247],\n",
       "        [ 86,  82,  64, 168, 163,  95, 234, 231],\n",
       "        [ 75, 170, 135, 235, 195, 181,  85, 243],\n",
       "        [124, 218, 119, 228,   7, 224, 168, 136],\n",
       "        [114, 116, 173, 223,  40, 204,  40, 231]],\n",
       "\n",
       "       [[149, 151, 135, 180,  15,  15, 116, 190],\n",
       "        [148,  16, 134,   3, 153, 147,  51, 162],\n",
       "        [115, 108,  40, 224,  67, 130, 242, 128],\n",
       "        [221, 246,   5, 136, 108, 152, 193, 118],\n",
       "        [154, 212, 134,  46, 169, 248, 243, 220],\n",
       "        [ 26, 132,  11, 168, 114, 142, 183, 179],\n",
       "        [176, 197, 165,  59,  72, 183,  16, 217],\n",
       "        [222, 103, 157, 240,  10, 131, 223, 187]],\n",
       "\n",
       "       [[222, 165, 142, 178,  24, 217,  47, 107],\n",
       "        [ 80,  37, 130, 223,  69,  85,  52, 130],\n",
       "        [209, 179, 249,  74,   8, 126,  24, 248],\n",
       "        [218,  59,  50,  25, 197, 140,  54, 180],\n",
       "        [ 33, 110, 227,  62, 175, 246,  91,   6],\n",
       "        [103, 220, 106,  82, 155, 185,  55, 142],\n",
       "        [196, 159, 103, 175, 213, 145, 227,  68],\n",
       "        [207,  21, 143, 119, 182, 195, 132, 220]],\n",
       "\n",
       "       [[112,  23, 244, 207, 244,  34,  51, 100],\n",
       "        [176,  12,   8,  40, 207, 222,  42, 225],\n",
       "        [ 49, 143, 234, 190,  36,  67, 176, 229],\n",
       "        [ 45, 199, 184,  41, 176, 124, 184, 202],\n",
       "        [224,  20, 240, 103, 176,  66,  30,  29],\n",
       "        [ 69, 141,  78,  39, 177, 222, 226,   1],\n",
       "        [192, 158, 237,  60,  47, 198, 132, 189],\n",
       "        [ 31,  20, 224, 221,  17, 173, 151,  58]],\n",
       "\n",
       "       [[191, 201, 190, 181, 224,  81,  47,  41],\n",
       "        [214, 118,  79, 144, 120, 203, 134, 210],\n",
       "        [219,  23, 112, 152, 175, 204,  81, 113],\n",
       "        [139,  95, 196, 211,  73,  37, 223, 224],\n",
       "        [209, 144, 214, 233, 240,  61, 110,   3],\n",
       "        [247, 175, 129,  82, 101, 134, 122, 132],\n",
       "        [217,  69,  88, 121,   5, 164, 154, 123],\n",
       "        [238, 221,  97, 231, 113, 184,  37,  67]],\n",
       "\n",
       "       [[ 46,  93, 222,  20,  74, 144, 112, 185],\n",
       "        [148, 104,  59,  19,  22, 132,  45,  18],\n",
       "        [  1, 232,  84, 206, 156, 116, 105, 135],\n",
       "        [147, 183, 136, 181, 120,  65, 227, 243],\n",
       "        [106,  99,  71,  81, 232, 117, 181, 240],\n",
       "        [  5, 239, 120, 216,  34, 190,  32, 113],\n",
       "        [ 71,  31, 124, 170, 241, 242, 175,  95],\n",
       "        [101, 156, 231, 178, 192,  72, 132, 150]],\n",
       "\n",
       "       [[152, 157, 245,  66,  77, 128, 221,  24],\n",
       "        [192,  94,  10, 120,  53, 238,  58, 213],\n",
       "        [ 46,  79, 107, 247,  83, 162,  81, 139],\n",
       "        [  4,  25, 204, 114, 122, 149,  24, 112],\n",
       "        [ 38, 249, 127, 212, 252,  62, 204, 104],\n",
       "        [148, 160, 152,  39,  25, 218, 159,  42],\n",
       "        [ 35,  79, 201,  26, 196, 250,  37,  56],\n",
       "        [219,  97, 198,   8, 213,  54, 199,   1]]])"
      ]
     },
     "execution_count": 11,
     "metadata": {},
     "output_type": "execute_result"
    }
   ],
   "source": [
    "np.random.randint(0,255,(10,8,8))"
   ]
  },
  {
   "cell_type": "markdown",
   "id": "2c7a947f",
   "metadata": {},
   "source": [
    "Create NumPy array"
   ]
  },
  {
   "cell_type": "code",
   "execution_count": 16,
   "id": "e0b25d8f",
   "metadata": {},
   "outputs": [
    {
     "name": "stdout",
     "output_type": "stream",
     "text": [
      "[1 2 3]\n"
     ]
    },
    {
     "data": {
      "text/plain": [
       "array([1, 2, 3])"
      ]
     },
     "metadata": {},
     "output_type": "display_data"
    }
   ],
   "source": [
    "a = np.array([1,2,3])\n",
    "print(a)\n",
    "display(a)"
   ]
  },
  {
   "cell_type": "code",
   "execution_count": 17,
   "id": "6a3cda36",
   "metadata": {},
   "outputs": [
    {
     "data": {
      "text/plain": [
       "array([1, 2, 3])"
      ]
     },
     "metadata": {},
     "output_type": "display_data"
    }
   ],
   "source": [
    "display(a)"
   ]
  },
  {
   "cell_type": "code",
   "execution_count": 19,
   "id": "940e8627",
   "metadata": {},
   "outputs": [
    {
     "data": {
      "text/plain": [
       "array([[1, 2, 3],\n",
       "       [4, 5, 6]])"
      ]
     },
     "metadata": {},
     "output_type": "display_data"
    }
   ],
   "source": [
    "a = np.array([[1,2,3],\n",
    "             [4,5,6]])\n",
    "display(a)\n",
    "print(a.shape)\n",
    "a[]"
   ]
  },
  {
   "cell_type": "markdown",
   "id": "125b058b",
   "metadata": {},
   "source": [
    "# How to create a basic array"
   ]
  },
  {
   "cell_type": "code",
   "execution_count": 20,
   "id": "3d75723a",
   "metadata": {},
   "outputs": [
    {
     "data": {
      "text/plain": [
       "array([0., 0., 0., 0., 0., 0., 0., 0., 0., 0.])"
      ]
     },
     "metadata": {},
     "output_type": "display_data"
    }
   ],
   "source": [
    "display(np.zeros(10))"
   ]
  },
  {
   "cell_type": "code",
   "execution_count": 22,
   "id": "28a43c08",
   "metadata": {},
   "outputs": [
    {
     "data": {
      "text/plain": [
       "array([1., 1., 1., 1., 1., 1., 1., 1., 1., 1.])"
      ]
     },
     "metadata": {},
     "output_type": "display_data"
    }
   ],
   "source": [
    "display(np.ones(10))"
   ]
  },
  {
   "cell_type": "code",
   "execution_count": 24,
   "id": "71f9186a",
   "metadata": {},
   "outputs": [
    {
     "data": {
      "text/plain": [
       "array([1., 1., 1., 1., 1., 1., 1., 1., 1., 1.])"
      ]
     },
     "metadata": {},
     "output_type": "display_data"
    }
   ],
   "source": [
    "display(np.empty(10))"
   ]
  },
  {
   "cell_type": "code",
   "execution_count": 28,
   "id": "2a67519a",
   "metadata": {},
   "outputs": [
    {
     "data": {
      "text/plain": [
       "array([1.        , 1.16666667, 1.33333333, 1.5       , 1.66666667,\n",
       "       1.83333333, 2.        ])"
      ]
     },
     "execution_count": 28,
     "metadata": {},
     "output_type": "execute_result"
    }
   ],
   "source": [
    "# Function\n",
    "np.linspace(1,2,7)"
   ]
  },
  {
   "cell_type": "code",
   "execution_count": 30,
   "id": "c9071a46",
   "metadata": {},
   "outputs": [
    {
     "data": {
      "text/plain": [
       "array([ 1. , 30.5, 60. ])"
      ]
     },
     "execution_count": 30,
     "metadata": {},
     "output_type": "execute_result"
    }
   ],
   "source": [
    "np.linspace(1,60,3)"
   ]
  },
  {
   "cell_type": "code",
   "execution_count": 32,
   "id": "714732fb",
   "metadata": {},
   "outputs": [
    {
     "data": {
      "text/plain": [
       "array([0, 1, 2, 3, 4, 5, 6, 7, 8, 9])"
      ]
     },
     "execution_count": 32,
     "metadata": {},
     "output_type": "execute_result"
    }
   ],
   "source": [
    "a = np.arange(10)\n",
    "a"
   ]
  },
  {
   "cell_type": "code",
   "execution_count": 33,
   "id": "82e725b2",
   "metadata": {},
   "outputs": [
    {
     "data": {
      "text/plain": [
       "array([1, 1, 1, 1, 1, 1, 1, 1, 1, 1])"
      ]
     },
     "execution_count": 33,
     "metadata": {},
     "output_type": "execute_result"
    }
   ],
   "source": [
    "# Fuction\n",
    "np.ones_like(a)"
   ]
  },
  {
   "cell_type": "code",
   "execution_count": 34,
   "id": "847fb284",
   "metadata": {},
   "outputs": [
    {
     "data": {
      "text/plain": [
       "array([  0,   1,   0, 556, 952,   0, 768,   0,   0,   0])"
      ]
     },
     "execution_count": 34,
     "metadata": {},
     "output_type": "execute_result"
    }
   ],
   "source": [
    "np.empty_like(a)"
   ]
  },
  {
   "cell_type": "markdown",
   "id": "7412c68e",
   "metadata": {},
   "source": [
    "***Sorting***"
   ]
  },
  {
   "cell_type": "code",
   "execution_count": 36,
   "id": "f65a77f9",
   "metadata": {},
   "outputs": [
    {
     "data": {
      "text/plain": [
       "array([1, 3, 3, 3, 4, 5, 6, 6, 7, 7, 8])"
      ]
     },
     "execution_count": 36,
     "metadata": {},
     "output_type": "execute_result"
    }
   ],
   "source": [
    "a = np.array([1,3,6,3,6,7,8,4,3,5,7])\n",
    "np.sort(a)"
   ]
  },
  {
   "cell_type": "markdown",
   "id": "bbe4b27c",
   "metadata": {},
   "source": [
    "**(-1 is used to insert unknown or autofill value)**"
   ]
  },
  {
   "cell_type": "code",
   "execution_count": 37,
   "id": "3259fe99",
   "metadata": {},
   "outputs": [
    {
     "data": {
      "text/plain": [
       "array([[0, 1],\n",
       "       [2, 3]])"
      ]
     },
     "execution_count": 37,
     "metadata": {},
     "output_type": "execute_result"
    }
   ],
   "source": [
    "a = np.arange(2*2).reshape(2,-1)\n",
    "a"
   ]
  },
  {
   "cell_type": "code",
   "execution_count": 38,
   "id": "9fc36dd0",
   "metadata": {},
   "outputs": [
    {
     "data": {
      "text/plain": [
       "array([[0, 1],\n",
       "       [2, 3]])"
      ]
     },
     "execution_count": 38,
     "metadata": {},
     "output_type": "execute_result"
    }
   ],
   "source": [
    "a = np.arange(2*2).reshape(-1,2)\n",
    "a"
   ]
  },
  {
   "cell_type": "markdown",
   "id": "dbbf4c64",
   "metadata": {},
   "source": [
    "# arg\n",
    " - \"arg\" function give index of value"
   ]
  },
  {
   "cell_type": "code",
   "execution_count": 44,
   "id": "27b2110f",
   "metadata": {},
   "outputs": [
    {
     "data": {
      "text/plain": [
       "3"
      ]
     },
     "execution_count": 44,
     "metadata": {},
     "output_type": "execute_result"
    }
   ],
   "source": [
    "#             0 1 2 3 4 5 6\n",
    "a = np.array([1,7,4,9,4,7,4])\n",
    "np.argmax(a)"
   ]
  },
  {
   "cell_type": "code",
   "execution_count": 45,
   "id": "8bc3e529",
   "metadata": {},
   "outputs": [
    {
     "data": {
      "text/plain": [
       "0"
      ]
     },
     "execution_count": 45,
     "metadata": {},
     "output_type": "execute_result"
    }
   ],
   "source": [
    "np.argmin(a)"
   ]
  },
  {
   "cell_type": "code",
   "execution_count": 46,
   "id": "848c2206",
   "metadata": {},
   "outputs": [
    {
     "data": {
      "text/plain": [
       "array([0, 2, 4, 6, 1, 5, 3], dtype=int64)"
      ]
     },
     "execution_count": 46,
     "metadata": {},
     "output_type": "execute_result"
    }
   ],
   "source": [
    "np.argsort(a)"
   ]
  },
  {
   "cell_type": "code",
   "execution_count": 50,
   "id": "0e8864a0",
   "metadata": {},
   "outputs": [
    {
     "name": "stdout",
     "output_type": "stream",
     "text": [
      "cat\n"
     ]
    }
   ],
   "source": [
    "labels = ['cat', 'dog', 'apple', 'Orange']\n",
    "prediction = [70,5,10,15]\n",
    "index = np.argmax(prediction) # max index probability\n",
    "print(labels[index])"
   ]
  },
  {
   "cell_type": "markdown",
   "id": "5cb29e76",
   "metadata": {},
   "source": [
    "# Concatinaton\n",
    " - "
   ]
  },
  {
   "cell_type": "code",
   "execution_count": 51,
   "id": "f67ba91b",
   "metadata": {},
   "outputs": [
    {
     "data": {
      "text/plain": [
       "array([[ 1,  2],\n",
       "       [ 3,  4],\n",
       "       [ 5,  6],\n",
       "       [ 7,  8],\n",
       "       [ 9, 10]])"
      ]
     },
     "metadata": {},
     "output_type": "display_data"
    },
    {
     "data": {
      "text/plain": [
       "array([[11, 12],\n",
       "       [13, 14],\n",
       "       [15, 16],\n",
       "       [17, 18],\n",
       "       [19, 20]])"
      ]
     },
     "metadata": {},
     "output_type": "display_data"
    }
   ],
   "source": [
    "a = np.arange(1,11).reshape(5,2)\n",
    "b = np.arange(11,21).reshape(5,2)\n",
    "display(a)\n",
    "display(b)"
   ]
  },
  {
   "cell_type": "code",
   "execution_count": 55,
   "id": "a54e264b",
   "metadata": {},
   "outputs": [
    {
     "data": {
      "text/plain": [
       "array([[ 1,  2],\n",
       "       [ 3,  4],\n",
       "       [ 5,  6],\n",
       "       [ 7,  8],\n",
       "       [ 9, 10],\n",
       "       [11, 12],\n",
       "       [13, 14],\n",
       "       [15, 16],\n",
       "       [17, 18],\n",
       "       [19, 20]])"
      ]
     },
     "execution_count": 55,
     "metadata": {},
     "output_type": "execute_result"
    }
   ],
   "source": [
    "np.concatenate((a,b))"
   ]
  },
  {
   "cell_type": "code",
   "execution_count": 56,
   "id": "06468ecd",
   "metadata": {},
   "outputs": [
    {
     "data": {
      "text/plain": [
       "array([[ 1,  2, 11, 12],\n",
       "       [ 3,  4, 13, 14],\n",
       "       [ 5,  6, 15, 16],\n",
       "       [ 7,  8, 17, 18],\n",
       "       [ 9, 10, 19, 20]])"
      ]
     },
     "execution_count": 56,
     "metadata": {},
     "output_type": "execute_result"
    }
   ],
   "source": [
    "np.concatenate((a,b), axis=1)"
   ]
  },
  {
   "cell_type": "code",
   "execution_count": 57,
   "id": "33f4a16e",
   "metadata": {},
   "outputs": [
    {
     "data": {
      "text/plain": [
       "array([[ 1,  2],\n",
       "       [ 3,  4],\n",
       "       [ 5,  6],\n",
       "       [ 7,  8],\n",
       "       [ 9, 10],\n",
       "       [11, 12],\n",
       "       [13, 14],\n",
       "       [15, 16],\n",
       "       [17, 18],\n",
       "       [19, 20]])"
      ]
     },
     "execution_count": 57,
     "metadata": {},
     "output_type": "execute_result"
    }
   ],
   "source": [
    "np.concatenate((a,b), axis=0)"
   ]
  },
  {
   "cell_type": "code",
   "execution_count": 59,
   "id": "153e5a29",
   "metadata": {},
   "outputs": [
    {
     "data": {
      "text/plain": [
       "array([[[ 1,  2],\n",
       "        [ 3,  4],\n",
       "        [ 5,  6],\n",
       "        [ 7,  8],\n",
       "        [ 9, 10]],\n",
       "\n",
       "       [[11, 12],\n",
       "        [13, 14],\n",
       "        [15, 16],\n",
       "        [17, 18],\n",
       "        [19, 20]]])"
      ]
     },
     "execution_count": 59,
     "metadata": {},
     "output_type": "execute_result"
    }
   ],
   "source": [
    "# Making stake\n",
    "np.stack((a,b))"
   ]
  },
  {
   "cell_type": "code",
   "execution_count": 60,
   "id": "c340f0e6",
   "metadata": {},
   "outputs": [
    {
     "data": {
      "text/plain": [
       "array([[[ 1,  2],\n",
       "        [11, 12]],\n",
       "\n",
       "       [[ 3,  4],\n",
       "        [13, 14]],\n",
       "\n",
       "       [[ 5,  6],\n",
       "        [15, 16]],\n",
       "\n",
       "       [[ 7,  8],\n",
       "        [17, 18]],\n",
       "\n",
       "       [[ 9, 10],\n",
       "        [19, 20]]])"
      ]
     },
     "execution_count": 60,
     "metadata": {},
     "output_type": "execute_result"
    }
   ],
   "source": [
    "np.stack((a,b), axis=1)"
   ]
  },
  {
   "cell_type": "code",
   "execution_count": 62,
   "id": "b056fc44",
   "metadata": {},
   "outputs": [
    {
     "data": {
      "text/plain": [
       "28"
      ]
     },
     "execution_count": 62,
     "metadata": {},
     "output_type": "execute_result"
    }
   ],
   "source": [
    "a = np.arange(2*2*2).reshape(2,2,2)\n",
    "a.sum()"
   ]
  },
  {
   "cell_type": "code",
   "execution_count": 64,
   "id": "4ecfaef6",
   "metadata": {},
   "outputs": [
    {
     "data": {
      "text/plain": [
       "array([[[0, 1],\n",
       "        [2, 3]],\n",
       "\n",
       "       [[4, 5],\n",
       "        [6, 7]]])"
      ]
     },
     "metadata": {},
     "output_type": "display_data"
    },
    {
     "data": {
      "text/plain": [
       "array([[ 4,  6],\n",
       "       [ 8, 10]])"
      ]
     },
     "execution_count": 64,
     "metadata": {},
     "output_type": "execute_result"
    }
   ],
   "source": [
    "display(a)\n",
    "a.sum(axis=0)"
   ]
  },
  {
   "cell_type": "code",
   "execution_count": 66,
   "id": "d2b2610e",
   "metadata": {},
   "outputs": [
    {
     "data": {
      "text/plain": [
       "array([[[0, 1],\n",
       "        [2, 3]],\n",
       "\n",
       "       [[4, 5],\n",
       "        [6, 7]]])"
      ]
     },
     "metadata": {},
     "output_type": "display_data"
    },
    {
     "data": {
      "text/plain": [
       "array([[ 2,  4],\n",
       "       [10, 12]])"
      ]
     },
     "execution_count": 66,
     "metadata": {},
     "output_type": "execute_result"
    }
   ],
   "source": [
    "display(a)\n",
    "a.sum(axis=1)"
   ]
  },
  {
   "cell_type": "code",
   "execution_count": 67,
   "id": "6347550b",
   "metadata": {},
   "outputs": [
    {
     "data": {
      "text/plain": [
       "array([[[0, 1],\n",
       "        [2, 3]],\n",
       "\n",
       "       [[4, 5],\n",
       "        [6, 7]]])"
      ]
     },
     "metadata": {},
     "output_type": "display_data"
    },
    {
     "data": {
      "text/plain": [
       "array([[ 1,  5],\n",
       "       [ 9, 13]])"
      ]
     },
     "execution_count": 67,
     "metadata": {},
     "output_type": "execute_result"
    }
   ],
   "source": [
    "display(a)\n",
    "a.sum(axis=2)"
   ]
  },
  {
   "cell_type": "markdown",
   "id": "7ef603f5",
   "metadata": {},
   "source": [
    "# Indexing, Slicing, Fancy Slicing, Boolean Slicing"
   ]
  },
  {
   "cell_type": "code",
   "execution_count": 68,
   "id": "4364b592",
   "metadata": {},
   "outputs": [
    {
     "data": {
      "text/plain": [
       "array([[[ 0,  1,  2,  3],\n",
       "        [ 4,  5,  6,  7],\n",
       "        [ 8,  9, 10, 11],\n",
       "        [12, 13, 14, 15]],\n",
       "\n",
       "       [[16, 17, 18, 19],\n",
       "        [20, 21, 22, 23],\n",
       "        [24, 25, 26, 27],\n",
       "        [28, 29, 30, 31]]])"
      ]
     },
     "execution_count": 68,
     "metadata": {},
     "output_type": "execute_result"
    }
   ],
   "source": [
    "a = np.arange(2*4*4).reshape(-1,4,4)\n",
    "a"
   ]
  },
  {
   "cell_type": "code",
   "execution_count": 72,
   "id": "2023ac30",
   "metadata": {},
   "outputs": [
    {
     "name": "stdout",
     "output_type": "stream",
     "text": [
      "[[ 0  1  2  3]\n",
      " [ 4  5  6  7]\n",
      " [ 8  9 10 11]\n",
      " [12 13 14 15]]\n"
     ]
    }
   ],
   "source": [
    "print(a[0])"
   ]
  },
  {
   "cell_type": "code",
   "execution_count": 73,
   "id": "2ba894d5",
   "metadata": {},
   "outputs": [
    {
     "data": {
      "text/plain": [
       "array([[[ 0,  1,  2,  3],\n",
       "        [ 4,  5,  6,  7],\n",
       "        [ 8,  9, 10, 11],\n",
       "        [12, 13, 14, 15]],\n",
       "\n",
       "       [[16, 17, 18, 19],\n",
       "        [20, 21, 22, 23],\n",
       "        [24, 25, 26, 27],\n",
       "        [28, 29, 30, 31]]])"
      ]
     },
     "metadata": {},
     "output_type": "display_data"
    },
    {
     "data": {
      "text/plain": [
       "array([[[ True, False,  True, False],\n",
       "        [ True, False,  True, False],\n",
       "        [ True, False,  True, False],\n",
       "        [ True, False,  True, False]],\n",
       "\n",
       "       [[ True, False,  True, False],\n",
       "        [ True, False,  True, False],\n",
       "        [ True, False,  True, False],\n",
       "        [ True, False,  True, False]]])"
      ]
     },
     "execution_count": 73,
     "metadata": {},
     "output_type": "execute_result"
    }
   ],
   "source": [
    "display(a)\n",
    "a % 2 == 0"
   ]
  },
  {
   "cell_type": "code",
   "execution_count": 76,
   "id": "6c674912",
   "metadata": {},
   "outputs": [
    {
     "data": {
      "text/plain": [
       "array([1, 2, 3, 4, 5, 6])"
      ]
     },
     "metadata": {},
     "output_type": "display_data"
    },
    {
     "data": {
      "text/plain": [
       "array([False,  True, False,  True, False,  True])"
      ]
     },
     "execution_count": 76,
     "metadata": {},
     "output_type": "execute_result"
    }
   ],
   "source": [
    "b = np.arange(1,7)\n",
    "display(b)\n",
    "b%2==0"
   ]
  },
  {
   "cell_type": "code",
   "execution_count": 77,
   "id": "a992bbcd",
   "metadata": {},
   "outputs": [
    {
     "data": {
      "text/plain": [
       "array([[[ 0,  1,  2,  3],\n",
       "        [ 4,  5,  6,  7],\n",
       "        [ 8,  9, 10, 11],\n",
       "        [12, 13, 14, 15]],\n",
       "\n",
       "       [[16, 17, 18, 19],\n",
       "        [20, 21, 22, 23],\n",
       "        [24, 25, 26, 27],\n",
       "        [28, 29, 30, 31]]])"
      ]
     },
     "metadata": {},
     "output_type": "display_data"
    },
    {
     "data": {
      "text/plain": [
       "array([ 0,  2,  4,  6,  8, 10, 12, 14, 16, 18, 20, 22, 24, 26, 28, 30])"
      ]
     },
     "execution_count": 77,
     "metadata": {},
     "output_type": "execute_result"
    }
   ],
   "source": [
    "display(a)\n",
    "a[a%2==0] & "
   ]
  },
  {
   "cell_type": "code",
   "execution_count": null,
   "id": "69f3a860",
   "metadata": {},
   "outputs": [],
   "source": [
    "# deep copy\n",
    "# shallow copy: one umair two names such as umair and khankhaila"
   ]
  }
 ],
 "metadata": {
  "kernelspec": {
   "display_name": "Python 3 (ipykernel)",
   "language": "python",
   "name": "python3"
  },
  "language_info": {
   "codemirror_mode": {
    "name": "ipython",
    "version": 3
   },
   "file_extension": ".py",
   "mimetype": "text/x-python",
   "name": "python",
   "nbconvert_exporter": "python",
   "pygments_lexer": "ipython3",
   "version": "3.10.4"
  }
 },
 "nbformat": 4,
 "nbformat_minor": 5
}
