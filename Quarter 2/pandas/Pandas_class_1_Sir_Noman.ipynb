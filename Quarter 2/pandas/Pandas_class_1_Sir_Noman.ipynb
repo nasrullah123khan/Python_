{
 "cells": [
  {
   "cell_type": "code",
   "execution_count": 1,
   "id": "f6467fa2",
   "metadata": {},
   "outputs": [],
   "source": [
    "import pandas as pd"
   ]
  },
  {
   "cell_type": "code",
   "execution_count": 2,
   "id": "3da9b7a8",
   "metadata": {},
   "outputs": [],
   "source": [
    "# two types of data structures\n",
    "# Series  -  A series of data (1 dimensional)\n",
    "# DataFrames  -  Tabular data (2 dimensional)"
   ]
  },
  {
   "cell_type": "code",
   "execution_count": 3,
   "id": "3f2ec609",
   "metadata": {},
   "outputs": [],
   "source": [
    "marks = pd.Series([80, 70, 60])"
   ]
  },
  {
   "cell_type": "code",
   "execution_count": 4,
   "id": "6a103f4e",
   "metadata": {},
   "outputs": [
    {
     "data": {
      "text/plain": [
       "0    80\n",
       "1    70\n",
       "2    60\n",
       "dtype: int64"
      ]
     },
     "execution_count": 4,
     "metadata": {},
     "output_type": "execute_result"
    }
   ],
   "source": [
    "marks"
   ]
  },
  {
   "cell_type": "code",
   "execution_count": 5,
   "id": "4cc080a9",
   "metadata": {},
   "outputs": [
    {
     "data": {
      "text/plain": [
       "70"
      ]
     },
     "execution_count": 5,
     "metadata": {},
     "output_type": "execute_result"
    }
   ],
   "source": [
    "marks[1]"
   ]
  },
  {
   "cell_type": "code",
   "execution_count": 6,
   "id": "62961ead",
   "metadata": {},
   "outputs": [],
   "source": [
    "# Specifying indexes"
   ]
  },
  {
   "cell_type": "code",
   "execution_count": 7,
   "id": "b8eab13e",
   "metadata": {},
   "outputs": [],
   "source": [
    "marks = pd.Series([80, 70, 60], index=['Ali', 'Sara', 'Ahmed'])"
   ]
  },
  {
   "cell_type": "code",
   "execution_count": 8,
   "id": "507597b4",
   "metadata": {},
   "outputs": [
    {
     "data": {
      "text/plain": [
       "Ali      80\n",
       "Sara     70\n",
       "Ahmed    60\n",
       "dtype: int64"
      ]
     },
     "execution_count": 8,
     "metadata": {},
     "output_type": "execute_result"
    }
   ],
   "source": [
    "marks"
   ]
  },
  {
   "cell_type": "code",
   "execution_count": 9,
   "id": "1968607d",
   "metadata": {},
   "outputs": [
    {
     "data": {
      "text/plain": [
       "80"
      ]
     },
     "execution_count": 9,
     "metadata": {},
     "output_type": "execute_result"
    }
   ],
   "source": [
    "marks['Ali']"
   ]
  },
  {
   "cell_type": "code",
   "execution_count": 10,
   "id": "b9b2b708",
   "metadata": {},
   "outputs": [],
   "source": [
    "age = pd.Series([80, 70, 60], index=['Ali', 'Sara', 'Ahmed'], dtype='float')"
   ]
  },
  {
   "cell_type": "code",
   "execution_count": 11,
   "id": "c6087169",
   "metadata": {},
   "outputs": [
    {
     "data": {
      "text/plain": [
       "Ali      80.0\n",
       "Sara     70.0\n",
       "Ahmed    60.0\n",
       "dtype: float64"
      ]
     },
     "execution_count": 11,
     "metadata": {},
     "output_type": "execute_result"
    }
   ],
   "source": [
    "age"
   ]
  },
  {
   "cell_type": "code",
   "execution_count": 12,
   "id": "e9db7ba8",
   "metadata": {},
   "outputs": [
    {
     "name": "stdout",
     "output_type": "stream",
     "text": [
      "007\n"
     ]
    }
   ],
   "source": [
    " print(variable := '007')"
   ]
  },
  {
   "cell_type": "code",
   "execution_count": 13,
   "id": "f23bc987",
   "metadata": {},
   "outputs": [
    {
     "name": "stdout",
     "output_type": "stream",
     "text": [
      "Write something : Quit\n"
     ]
    }
   ],
   "source": [
    "inputs = []\n",
    "while True:\n",
    "    current = input(\"Write something : \")\n",
    "    if current == \"Quit\":\n",
    "        break\n",
    "    inputs.append(current)"
   ]
  },
  {
   "cell_type": "code",
   "execution_count": 14,
   "id": "b839add1",
   "metadata": {},
   "outputs": [
    {
     "name": "stdout",
     "output_type": "stream",
     "text": [
      "Write something : quit\n"
     ]
    }
   ],
   "source": [
    "inputs = []\n",
    "while(current := input('Write something : ')) != 'quit':\n",
    "    inputs.append(current)"
   ]
  },
  {
   "cell_type": "code",
   "execution_count": 15,
   "id": "f8d6057a",
   "metadata": {},
   "outputs": [
    {
     "data": {
      "text/plain": [
       "Ali    80.0\n",
       "dtype: float64"
      ]
     },
     "execution_count": 15,
     "metadata": {},
     "output_type": "execute_result"
    }
   ],
   "source": [
    "age[age>70] #bfilter"
   ]
  },
  {
   "cell_type": "code",
   "execution_count": 16,
   "id": "c27b8a1c",
   "metadata": {},
   "outputs": [
    {
     "data": {
      "text/plain": [
       "Sara    70.0\n",
       "Ali     80.0\n",
       "dtype: float64"
      ]
     },
     "execution_count": 16,
     "metadata": {},
     "output_type": "execute_result"
    }
   ],
   "source": [
    " age[['Sara','Ali']] #fancy indexing"
   ]
  },
  {
   "cell_type": "code",
   "execution_count": 17,
   "id": "dbc1cbec",
   "metadata": {},
   "outputs": [],
   "source": [
    "age['Sara'] = 18"
   ]
  },
  {
   "cell_type": "code",
   "execution_count": 18,
   "id": "e86d043b",
   "metadata": {},
   "outputs": [
    {
     "data": {
      "text/plain": [
       "18.0"
      ]
     },
     "execution_count": 18,
     "metadata": {},
     "output_type": "execute_result"
    }
   ],
   "source": [
    "age['Sara']"
   ]
  },
  {
   "cell_type": "code",
   "execution_count": 19,
   "id": "7b31e879",
   "metadata": {},
   "outputs": [],
   "source": [
    "#Creating series form dictionary"
   ]
  },
  {
   "cell_type": "code",
   "execution_count": 20,
   "id": "da9fc29a",
   "metadata": {},
   "outputs": [],
   "source": [
    "age = pd.Series({'ali':80, 'sara':70, 'ahmed':69})"
   ]
  },
  {
   "cell_type": "code",
   "execution_count": 21,
   "id": "22ddaacd",
   "metadata": {},
   "outputs": [
    {
     "data": {
      "text/plain": [
       "ali      80\n",
       "sara     70\n",
       "ahmed    69\n",
       "dtype: int64"
      ]
     },
     "execution_count": 21,
     "metadata": {},
     "output_type": "execute_result"
    }
   ],
   "source": [
    "age"
   ]
  },
  {
   "cell_type": "code",
   "execution_count": 22,
   "id": "d1981e49",
   "metadata": {},
   "outputs": [],
   "source": [
    "# for missing value\n",
    "age = pd.Series({'ali':80, 'sara':70, 'ahmed':None})"
   ]
  },
  {
   "cell_type": "code",
   "execution_count": 23,
   "id": "abc8e480",
   "metadata": {},
   "outputs": [
    {
     "data": {
      "text/plain": [
       "ali      False\n",
       "sara     False\n",
       "ahmed     True\n",
       "dtype: bool"
      ]
     },
     "execution_count": 23,
     "metadata": {},
     "output_type": "execute_result"
    }
   ],
   "source": [
    "pd.isnull(age)"
   ]
  },
  {
   "cell_type": "code",
   "execution_count": 141,
   "id": "d9e29a58",
   "metadata": {},
   "outputs": [
    {
     "data": {
      "text/plain": [
       "ali       True\n",
       "sara      True\n",
       "ahmed    False\n",
       "dtype: bool"
      ]
     },
     "execution_count": 141,
     "metadata": {},
     "output_type": "execute_result"
    }
   ],
   "source": [
    "pd.notnull(age)"
   ]
  },
  {
   "cell_type": "code",
   "execution_count": 24,
   "id": "a35e9e0a",
   "metadata": {},
   "outputs": [
    {
     "data": {
      "text/plain": [
       "75.0"
      ]
     },
     "execution_count": 24,
     "metadata": {},
     "output_type": "execute_result"
    }
   ],
   "source": [
    "age.mean()"
   ]
  },
  {
   "cell_type": "code",
   "execution_count": 25,
   "id": "4944d4fe",
   "metadata": {},
   "outputs": [
    {
     "data": {
      "text/plain": [
       "75.0"
      ]
     },
     "execution_count": 25,
     "metadata": {},
     "output_type": "execute_result"
    }
   ],
   "source": [
    "age.median()"
   ]
  },
  {
   "cell_type": "code",
   "execution_count": 26,
   "id": "e3452966",
   "metadata": {},
   "outputs": [],
   "source": [
    "# Joined two series"
   ]
  },
  {
   "cell_type": "code",
   "execution_count": 27,
   "id": "088aa283",
   "metadata": {},
   "outputs": [],
   "source": [
    "age1 = pd.Series([100, 50], index = ['ali', 'ahmed'])"
   ]
  },
  {
   "cell_type": "code",
   "execution_count": 28,
   "id": "d5596613",
   "metadata": {},
   "outputs": [
    {
     "data": {
      "text/plain": [
       "ali      100\n",
       "ahmed     50\n",
       "dtype: int64"
      ]
     },
     "execution_count": 28,
     "metadata": {},
     "output_type": "execute_result"
    }
   ],
   "source": [
    "age1"
   ]
  },
  {
   "cell_type": "code",
   "execution_count": 29,
   "id": "3fc4c08b",
   "metadata": {},
   "outputs": [
    {
     "data": {
      "text/plain": [
       "ahmed      NaN\n",
       "ali      180.0\n",
       "sara       NaN\n",
       "dtype: float64"
      ]
     },
     "execution_count": 29,
     "metadata": {},
     "output_type": "execute_result"
    }
   ],
   "source": [
    "age+age1 # adding two series data"
   ]
  },
  {
   "cell_type": "code",
   "execution_count": 30,
   "id": "0d44cbba",
   "metadata": {},
   "outputs": [
    {
     "data": {
      "text/plain": [
       "ali      100\n",
       "ahmed     50\n",
       "dtype: int64"
      ]
     },
     "metadata": {},
     "output_type": "display_data"
    },
    {
     "data": {
      "text/plain": [
       "ali      80.0\n",
       "sara     70.0\n",
       "ahmed     NaN\n",
       "dtype: float64"
      ]
     },
     "metadata": {},
     "output_type": "display_data"
    }
   ],
   "source": [
    "display(age1)\n",
    "display(age)"
   ]
  },
  {
   "cell_type": "code",
   "execution_count": 31,
   "id": "52c79dd6",
   "metadata": {},
   "outputs": [],
   "source": [
    "# DataFrames: Tabular data\n",
    "# pd.DataFrame - Create a dataframe"
   ]
  },
  {
   "cell_type": "code",
   "execution_count": 32,
   "id": "13e605c7",
   "metadata": {},
   "outputs": [],
   "source": [
    "std = pd.DataFrame({\n",
    "    'names':['sara', 'ahmed', 'ali'],\n",
    "    'age':[50, 60, 70],\n",
    "    'cgpa':[3.4, 2.9, 3.6],\n",
    "    'address':['karachi', 'lahore','islamabad']\n",
    "})"
   ]
  },
  {
   "cell_type": "code",
   "execution_count": 33,
   "id": "4e9b0ae6",
   "metadata": {},
   "outputs": [
    {
     "data": {
      "text/html": [
       "<div>\n",
       "<style scoped>\n",
       "    .dataframe tbody tr th:only-of-type {\n",
       "        vertical-align: middle;\n",
       "    }\n",
       "\n",
       "    .dataframe tbody tr th {\n",
       "        vertical-align: top;\n",
       "    }\n",
       "\n",
       "    .dataframe thead th {\n",
       "        text-align: right;\n",
       "    }\n",
       "</style>\n",
       "<table border=\"1\" class=\"dataframe\">\n",
       "  <thead>\n",
       "    <tr style=\"text-align: right;\">\n",
       "      <th></th>\n",
       "      <th>names</th>\n",
       "      <th>age</th>\n",
       "      <th>cgpa</th>\n",
       "      <th>address</th>\n",
       "    </tr>\n",
       "  </thead>\n",
       "  <tbody>\n",
       "    <tr>\n",
       "      <th>0</th>\n",
       "      <td>sara</td>\n",
       "      <td>50</td>\n",
       "      <td>3.4</td>\n",
       "      <td>karachi</td>\n",
       "    </tr>\n",
       "    <tr>\n",
       "      <th>1</th>\n",
       "      <td>ahmed</td>\n",
       "      <td>60</td>\n",
       "      <td>2.9</td>\n",
       "      <td>lahore</td>\n",
       "    </tr>\n",
       "    <tr>\n",
       "      <th>2</th>\n",
       "      <td>ali</td>\n",
       "      <td>70</td>\n",
       "      <td>3.6</td>\n",
       "      <td>islamabad</td>\n",
       "    </tr>\n",
       "  </tbody>\n",
       "</table>\n",
       "</div>"
      ],
      "text/plain": [
       "   names  age  cgpa    address\n",
       "0   sara   50   3.4    karachi\n",
       "1  ahmed   60   2.9     lahore\n",
       "2    ali   70   3.6  islamabad"
      ]
     },
     "execution_count": 33,
     "metadata": {},
     "output_type": "execute_result"
    }
   ],
   "source": [
    "std"
   ]
  },
  {
   "cell_type": "code",
   "execution_count": 34,
   "id": "6ef55edf",
   "metadata": {},
   "outputs": [
    {
     "data": {
      "text/plain": [
       "Index(['names', 'age', 'cgpa', 'address'], dtype='object')"
      ]
     },
     "execution_count": 34,
     "metadata": {},
     "output_type": "execute_result"
    }
   ],
   "source": [
    "std.columns"
   ]
  },
  {
   "cell_type": "code",
   "execution_count": 35,
   "id": "d9e93210",
   "metadata": {},
   "outputs": [
    {
     "data": {
      "text/plain": [
       "0     sara\n",
       "1    ahmed\n",
       "2      ali\n",
       "Name: names, dtype: object"
      ]
     },
     "execution_count": 35,
     "metadata": {},
     "output_type": "execute_result"
    }
   ],
   "source": [
    "std['names']"
   ]
  },
  {
   "cell_type": "code",
   "execution_count": 36,
   "id": "7d67578a",
   "metadata": {},
   "outputs": [
    {
     "data": {
      "text/html": [
       "<div>\n",
       "<style scoped>\n",
       "    .dataframe tbody tr th:only-of-type {\n",
       "        vertical-align: middle;\n",
       "    }\n",
       "\n",
       "    .dataframe tbody tr th {\n",
       "        vertical-align: top;\n",
       "    }\n",
       "\n",
       "    .dataframe thead th {\n",
       "        text-align: right;\n",
       "    }\n",
       "</style>\n",
       "<table border=\"1\" class=\"dataframe\">\n",
       "  <thead>\n",
       "    <tr style=\"text-align: right;\">\n",
       "      <th></th>\n",
       "      <th>names</th>\n",
       "      <th>age</th>\n",
       "      <th>cgpa</th>\n",
       "    </tr>\n",
       "  </thead>\n",
       "  <tbody>\n",
       "    <tr>\n",
       "      <th>0</th>\n",
       "      <td>sara</td>\n",
       "      <td>50</td>\n",
       "      <td>3.4</td>\n",
       "    </tr>\n",
       "    <tr>\n",
       "      <th>1</th>\n",
       "      <td>ahmed</td>\n",
       "      <td>60</td>\n",
       "      <td>2.9</td>\n",
       "    </tr>\n",
       "    <tr>\n",
       "      <th>2</th>\n",
       "      <td>ali</td>\n",
       "      <td>70</td>\n",
       "      <td>3.6</td>\n",
       "    </tr>\n",
       "  </tbody>\n",
       "</table>\n",
       "</div>"
      ],
      "text/plain": [
       "   names  age  cgpa\n",
       "0   sara   50   3.4\n",
       "1  ahmed   60   2.9\n",
       "2    ali   70   3.6"
      ]
     },
     "execution_count": 36,
     "metadata": {},
     "output_type": "execute_result"
    }
   ],
   "source": [
    "std[['names', 'age', 'cgpa']]"
   ]
  },
  {
   "cell_type": "code",
   "execution_count": 37,
   "id": "f823387b",
   "metadata": {},
   "outputs": [
    {
     "data": {
      "text/html": [
       "<div>\n",
       "<style scoped>\n",
       "    .dataframe tbody tr th:only-of-type {\n",
       "        vertical-align: middle;\n",
       "    }\n",
       "\n",
       "    .dataframe tbody tr th {\n",
       "        vertical-align: top;\n",
       "    }\n",
       "\n",
       "    .dataframe thead th {\n",
       "        text-align: right;\n",
       "    }\n",
       "</style>\n",
       "<table border=\"1\" class=\"dataframe\">\n",
       "  <thead>\n",
       "    <tr style=\"text-align: right;\">\n",
       "      <th></th>\n",
       "      <th>names</th>\n",
       "      <th>age</th>\n",
       "      <th>cgpa</th>\n",
       "      <th>address</th>\n",
       "    </tr>\n",
       "  </thead>\n",
       "  <tbody>\n",
       "    <tr>\n",
       "      <th>1</th>\n",
       "      <td>ahmed</td>\n",
       "      <td>60</td>\n",
       "      <td>2.9</td>\n",
       "      <td>lahore</td>\n",
       "    </tr>\n",
       "    <tr>\n",
       "      <th>2</th>\n",
       "      <td>ali</td>\n",
       "      <td>70</td>\n",
       "      <td>3.6</td>\n",
       "      <td>islamabad</td>\n",
       "    </tr>\n",
       "  </tbody>\n",
       "</table>\n",
       "</div>"
      ],
      "text/plain": [
       "   names  age  cgpa    address\n",
       "1  ahmed   60   2.9     lahore\n",
       "2    ali   70   3.6  islamabad"
      ]
     },
     "execution_count": 37,
     "metadata": {},
     "output_type": "execute_result"
    }
   ],
   "source": [
    "std[std['age']>50] # student with age > 50"
   ]
  },
  {
   "cell_type": "code",
   "execution_count": 38,
   "id": "e91aa653",
   "metadata": {},
   "outputs": [
    {
     "data": {
      "text/plain": [
       "<AxesSubplot:>"
      ]
     },
     "execution_count": 38,
     "metadata": {},
     "output_type": "execute_result"
    },
    {
     "data": {
      "image/png": "[encoded data removed]",
      "text/plain": [
       "<Figure size 432x288 with 1 Axes>"
      ]
     },
     "metadata": {
      "needs_background": "light"
     },
     "output_type": "display_data"
    }
   ],
   "source": [
    " std.plot()"
   ]
  },
  {
   "cell_type": "code",
   "execution_count": 39,
   "id": "334cbc02",
   "metadata": {},
   "outputs": [
    {
     "data": {
      "text/plain": [
       "0    50\n",
       "1    60\n",
       "2    70\n",
       "Name: age, dtype: int64"
      ]
     },
     "execution_count": 39,
     "metadata": {},
     "output_type": "execute_result"
    }
   ],
   "source": [
    "std.age"
   ]
  },
  {
   "cell_type": "code",
   "execution_count": 40,
   "id": "9d2ebb79",
   "metadata": {},
   "outputs": [],
   "source": [
    "import numpy as np\n",
    "std['semester']=np.arange(1,4)"
   ]
  },
  {
   "cell_type": "code",
   "execution_count": 41,
   "id": "539884f5",
   "metadata": {},
   "outputs": [
    {
     "data": {
      "text/html": [
       "<div>\n",
       "<style scoped>\n",
       "    .dataframe tbody tr th:only-of-type {\n",
       "        vertical-align: middle;\n",
       "    }\n",
       "\n",
       "    .dataframe tbody tr th {\n",
       "        vertical-align: top;\n",
       "    }\n",
       "\n",
       "    .dataframe thead th {\n",
       "        text-align: right;\n",
       "    }\n",
       "</style>\n",
       "<table border=\"1\" class=\"dataframe\">\n",
       "  <thead>\n",
       "    <tr style=\"text-align: right;\">\n",
       "      <th></th>\n",
       "      <th>names</th>\n",
       "      <th>age</th>\n",
       "      <th>cgpa</th>\n",
       "      <th>address</th>\n",
       "      <th>semester</th>\n",
       "    </tr>\n",
       "  </thead>\n",
       "  <tbody>\n",
       "    <tr>\n",
       "      <th>0</th>\n",
       "      <td>sara</td>\n",
       "      <td>50</td>\n",
       "      <td>3.4</td>\n",
       "      <td>karachi</td>\n",
       "      <td>1</td>\n",
       "    </tr>\n",
       "    <tr>\n",
       "      <th>1</th>\n",
       "      <td>ahmed</td>\n",
       "      <td>60</td>\n",
       "      <td>2.9</td>\n",
       "      <td>lahore</td>\n",
       "      <td>2</td>\n",
       "    </tr>\n",
       "    <tr>\n",
       "      <th>2</th>\n",
       "      <td>ali</td>\n",
       "      <td>70</td>\n",
       "      <td>3.6</td>\n",
       "      <td>islamabad</td>\n",
       "      <td>3</td>\n",
       "    </tr>\n",
       "  </tbody>\n",
       "</table>\n",
       "</div>"
      ],
      "text/plain": [
       "   names  age  cgpa    address  semester\n",
       "0   sara   50   3.4    karachi         1\n",
       "1  ahmed   60   2.9     lahore         2\n",
       "2    ali   70   3.6  islamabad         3"
      ]
     },
     "execution_count": 41,
     "metadata": {},
     "output_type": "execute_result"
    }
   ],
   "source": [
    "std"
   ]
  },
  {
   "cell_type": "code",
   "execution_count": 42,
   "id": "2e05e224",
   "metadata": {},
   "outputs": [
    {
     "data": {
      "text/html": [
       "<div>\n",
       "<style scoped>\n",
       "    .dataframe tbody tr th:only-of-type {\n",
       "        vertical-align: middle;\n",
       "    }\n",
       "\n",
       "    .dataframe tbody tr th {\n",
       "        vertical-align: top;\n",
       "    }\n",
       "\n",
       "    .dataframe thead th {\n",
       "        text-align: right;\n",
       "    }\n",
       "</style>\n",
       "<table border=\"1\" class=\"dataframe\">\n",
       "  <thead>\n",
       "    <tr style=\"text-align: right;\">\n",
       "      <th></th>\n",
       "      <th>semester</th>\n",
       "      <th>names</th>\n",
       "    </tr>\n",
       "  </thead>\n",
       "  <tbody>\n",
       "    <tr>\n",
       "      <th>0</th>\n",
       "      <td>1</td>\n",
       "      <td>sara</td>\n",
       "    </tr>\n",
       "    <tr>\n",
       "      <th>1</th>\n",
       "      <td>2</td>\n",
       "      <td>ahmed</td>\n",
       "    </tr>\n",
       "    <tr>\n",
       "      <th>2</th>\n",
       "      <td>3</td>\n",
       "      <td>ali</td>\n",
       "    </tr>\n",
       "  </tbody>\n",
       "</table>\n",
       "</div>"
      ],
      "text/plain": [
       "   semester  names\n",
       "0         1   sara\n",
       "1         2  ahmed\n",
       "2         3    ali"
      ]
     },
     "execution_count": 42,
     "metadata": {},
     "output_type": "execute_result"
    }
   ],
   "source": [
    "std[['semester', 'names']]"
   ]
  },
  {
   "cell_type": "code",
   "execution_count": 43,
   "id": "31f04d75",
   "metadata": {},
   "outputs": [],
   "source": [
    "doctor = pd.DataFrame({\n",
    "    'nemes': ['Asad', 'Rahim'],\n",
    "    'qualification': ['PHD', 'MS'],\n",
    "}, index=['d1', 'd2'])"
   ]
  },
  {
   "cell_type": "code",
   "execution_count": 44,
   "id": "5470a7bb",
   "metadata": {},
   "outputs": [
    {
     "data": {
      "text/html": [
       "<div>\n",
       "<style scoped>\n",
       "    .dataframe tbody tr th:only-of-type {\n",
       "        vertical-align: middle;\n",
       "    }\n",
       "\n",
       "    .dataframe tbody tr th {\n",
       "        vertical-align: top;\n",
       "    }\n",
       "\n",
       "    .dataframe thead th {\n",
       "        text-align: right;\n",
       "    }\n",
       "</style>\n",
       "<table border=\"1\" class=\"dataframe\">\n",
       "  <thead>\n",
       "    <tr style=\"text-align: right;\">\n",
       "      <th></th>\n",
       "      <th>nemes</th>\n",
       "      <th>qualification</th>\n",
       "    </tr>\n",
       "  </thead>\n",
       "  <tbody>\n",
       "    <tr>\n",
       "      <th>d1</th>\n",
       "      <td>Asad</td>\n",
       "      <td>PHD</td>\n",
       "    </tr>\n",
       "    <tr>\n",
       "      <th>d2</th>\n",
       "      <td>Rahim</td>\n",
       "      <td>MS</td>\n",
       "    </tr>\n",
       "  </tbody>\n",
       "</table>\n",
       "</div>"
      ],
      "text/plain": [
       "    nemes qualification\n",
       "d1   Asad           PHD\n",
       "d2  Rahim            MS"
      ]
     },
     "execution_count": 44,
     "metadata": {},
     "output_type": "execute_result"
    }
   ],
   "source": [
    "doctor"
   ]
  },
  {
   "cell_type": "code",
   "execution_count": 45,
   "id": "af9007de",
   "metadata": {},
   "outputs": [],
   "source": [
    "doctor['address']='karachi'"
   ]
  },
  {
   "cell_type": "code",
   "execution_count": 46,
   "id": "953d497e",
   "metadata": {},
   "outputs": [
    {
     "data": {
      "text/html": [
       "<div>\n",
       "<style scoped>\n",
       "    .dataframe tbody tr th:only-of-type {\n",
       "        vertical-align: middle;\n",
       "    }\n",
       "\n",
       "    .dataframe tbody tr th {\n",
       "        vertical-align: top;\n",
       "    }\n",
       "\n",
       "    .dataframe thead th {\n",
       "        text-align: right;\n",
       "    }\n",
       "</style>\n",
       "<table border=\"1\" class=\"dataframe\">\n",
       "  <thead>\n",
       "    <tr style=\"text-align: right;\">\n",
       "      <th></th>\n",
       "      <th>nemes</th>\n",
       "      <th>qualification</th>\n",
       "      <th>address</th>\n",
       "    </tr>\n",
       "  </thead>\n",
       "  <tbody>\n",
       "    <tr>\n",
       "      <th>d1</th>\n",
       "      <td>Asad</td>\n",
       "      <td>PHD</td>\n",
       "      <td>karachi</td>\n",
       "    </tr>\n",
       "    <tr>\n",
       "      <th>d2</th>\n",
       "      <td>Rahim</td>\n",
       "      <td>MS</td>\n",
       "      <td>karachi</td>\n",
       "    </tr>\n",
       "  </tbody>\n",
       "</table>\n",
       "</div>"
      ],
      "text/plain": [
       "    nemes qualification  address\n",
       "d1   Asad           PHD  karachi\n",
       "d2  Rahim            MS  karachi"
      ]
     },
     "execution_count": 46,
     "metadata": {},
     "output_type": "execute_result"
    }
   ],
   "source": [
    "doctor"
   ]
  },
  {
   "cell_type": "code",
   "execution_count": 47,
   "id": "55fe4c0c",
   "metadata": {},
   "outputs": [
    {
     "data": {
      "text/plain": [
       "nemes               Asad\n",
       "qualification        PHD\n",
       "address          karachi\n",
       "Name: d1, dtype: object"
      ]
     },
     "execution_count": 47,
     "metadata": {},
     "output_type": "execute_result"
    }
   ],
   "source": [
    "doctor.loc['d1'] #Accessing row wise data using index"
   ]
  },
  {
   "cell_type": "code",
   "execution_count": 48,
   "id": "92d6b144",
   "metadata": {},
   "outputs": [
    {
     "data": {
      "text/plain": [
       "nemes               Asad\n",
       "qualification        PHD\n",
       "address          karachi\n",
       "Name: d1, dtype: object"
      ]
     },
     "execution_count": 48,
     "metadata": {},
     "output_type": "execute_result"
    }
   ],
   "source": [
    "doctor.iloc[0] #Accessing row wise data using index location"
   ]
  },
  {
   "cell_type": "code",
   "execution_count": 49,
   "id": "448205e0",
   "metadata": {},
   "outputs": [
    {
     "data": {
      "text/plain": [
       "nemes              Rahim\n",
       "qualification         MS\n",
       "address          karachi\n",
       "Name: d2, dtype: object"
      ]
     },
     "execution_count": 49,
     "metadata": {},
     "output_type": "execute_result"
    }
   ],
   "source": [
    "doctor.iloc[1]"
   ]
  },
  {
   "cell_type": "code",
   "execution_count": 50,
   "id": "7d5f46af",
   "metadata": {},
   "outputs": [],
   "source": [
    "#iloc - position, row number\n",
    "#loc - to access through index"
   ]
  },
  {
   "cell_type": "code",
   "execution_count": 51,
   "id": "7efa994b",
   "metadata": {},
   "outputs": [
    {
     "data": {
      "text/html": [
       "<div>\n",
       "<style scoped>\n",
       "    .dataframe tbody tr th:only-of-type {\n",
       "        vertical-align: middle;\n",
       "    }\n",
       "\n",
       "    .dataframe tbody tr th {\n",
       "        vertical-align: top;\n",
       "    }\n",
       "\n",
       "    .dataframe thead th {\n",
       "        text-align: right;\n",
       "    }\n",
       "</style>\n",
       "<table border=\"1\" class=\"dataframe\">\n",
       "  <thead>\n",
       "    <tr style=\"text-align: right;\">\n",
       "      <th></th>\n",
       "      <th>nemes</th>\n",
       "      <th>qualification</th>\n",
       "      <th>address</th>\n",
       "    </tr>\n",
       "  </thead>\n",
       "  <tbody>\n",
       "    <tr>\n",
       "      <th>d1</th>\n",
       "      <td>Asad</td>\n",
       "      <td>PHD</td>\n",
       "      <td>karachi</td>\n",
       "    </tr>\n",
       "    <tr>\n",
       "      <th>d2</th>\n",
       "      <td>Rahim</td>\n",
       "      <td>MS</td>\n",
       "      <td>karachi</td>\n",
       "    </tr>\n",
       "  </tbody>\n",
       "</table>\n",
       "</div>"
      ],
      "text/plain": [
       "    nemes qualification  address\n",
       "d1   Asad           PHD  karachi\n",
       "d2  Rahim            MS  karachi"
      ]
     },
     "execution_count": 51,
     "metadata": {},
     "output_type": "execute_result"
    }
   ],
   "source": [
    "doctor"
   ]
  },
  {
   "cell_type": "code",
   "execution_count": 52,
   "id": "8be15630",
   "metadata": {},
   "outputs": [],
   "source": [
    "del doctor['address']"
   ]
  },
  {
   "cell_type": "code",
   "execution_count": 53,
   "id": "0ef21c88",
   "metadata": {},
   "outputs": [
    {
     "data": {
      "text/html": [
       "<div>\n",
       "<style scoped>\n",
       "    .dataframe tbody tr th:only-of-type {\n",
       "        vertical-align: middle;\n",
       "    }\n",
       "\n",
       "    .dataframe tbody tr th {\n",
       "        vertical-align: top;\n",
       "    }\n",
       "\n",
       "    .dataframe thead th {\n",
       "        text-align: right;\n",
       "    }\n",
       "</style>\n",
       "<table border=\"1\" class=\"dataframe\">\n",
       "  <thead>\n",
       "    <tr style=\"text-align: right;\">\n",
       "      <th></th>\n",
       "      <th>nemes</th>\n",
       "      <th>qualification</th>\n",
       "    </tr>\n",
       "  </thead>\n",
       "  <tbody>\n",
       "    <tr>\n",
       "      <th>d1</th>\n",
       "      <td>Asad</td>\n",
       "      <td>PHD</td>\n",
       "    </tr>\n",
       "    <tr>\n",
       "      <th>d2</th>\n",
       "      <td>Rahim</td>\n",
       "      <td>MS</td>\n",
       "    </tr>\n",
       "  </tbody>\n",
       "</table>\n",
       "</div>"
      ],
      "text/plain": [
       "    nemes qualification\n",
       "d1   Asad           PHD\n",
       "d2  Rahim            MS"
      ]
     },
     "execution_count": 53,
     "metadata": {},
     "output_type": "execute_result"
    }
   ],
   "source": [
    "doctor"
   ]
  },
  {
   "cell_type": "code",
   "execution_count": 54,
   "id": "771ede8b",
   "metadata": {},
   "outputs": [],
   "source": [
    "doctor['names']='Test'"
   ]
  },
  {
   "cell_type": "code",
   "execution_count": 55,
   "id": "c96de5e7",
   "metadata": {},
   "outputs": [
    {
     "data": {
      "text/html": [
       "<div>\n",
       "<style scoped>\n",
       "    .dataframe tbody tr th:only-of-type {\n",
       "        vertical-align: middle;\n",
       "    }\n",
       "\n",
       "    .dataframe tbody tr th {\n",
       "        vertical-align: top;\n",
       "    }\n",
       "\n",
       "    .dataframe thead th {\n",
       "        text-align: right;\n",
       "    }\n",
       "</style>\n",
       "<table border=\"1\" class=\"dataframe\">\n",
       "  <thead>\n",
       "    <tr style=\"text-align: right;\">\n",
       "      <th></th>\n",
       "      <th>nemes</th>\n",
       "      <th>qualification</th>\n",
       "      <th>names</th>\n",
       "    </tr>\n",
       "  </thead>\n",
       "  <tbody>\n",
       "    <tr>\n",
       "      <th>d1</th>\n",
       "      <td>Asad</td>\n",
       "      <td>PHD</td>\n",
       "      <td>Test</td>\n",
       "    </tr>\n",
       "    <tr>\n",
       "      <th>d2</th>\n",
       "      <td>Rahim</td>\n",
       "      <td>MS</td>\n",
       "      <td>Test</td>\n",
       "    </tr>\n",
       "  </tbody>\n",
       "</table>\n",
       "</div>"
      ],
      "text/plain": [
       "    nemes qualification names\n",
       "d1   Asad           PHD  Test\n",
       "d2  Rahim            MS  Test"
      ]
     },
     "execution_count": 55,
     "metadata": {},
     "output_type": "execute_result"
    }
   ],
   "source": [
    "doctor"
   ]
  },
  {
   "cell_type": "code",
   "execution_count": 56,
   "id": "e2b9544b",
   "metadata": {},
   "outputs": [
    {
     "data": {
      "text/plain": [
       "Ali      80\n",
       "Sara     70\n",
       "Ahmed    60\n",
       "dtype: int64"
      ]
     },
     "execution_count": 56,
     "metadata": {},
     "output_type": "execute_result"
    }
   ],
   "source": [
    "marks"
   ]
  },
  {
   "cell_type": "code",
   "execution_count": 57,
   "id": "d2588923",
   "metadata": {},
   "outputs": [
    {
     "data": {
      "text/html": [
       "<div>\n",
       "<style scoped>\n",
       "    .dataframe tbody tr th:only-of-type {\n",
       "        vertical-align: middle;\n",
       "    }\n",
       "\n",
       "    .dataframe tbody tr th {\n",
       "        vertical-align: top;\n",
       "    }\n",
       "\n",
       "    .dataframe thead th {\n",
       "        text-align: right;\n",
       "    }\n",
       "</style>\n",
       "<table border=\"1\" class=\"dataframe\">\n",
       "  <thead>\n",
       "    <tr style=\"text-align: right;\">\n",
       "      <th></th>\n",
       "      <th>names</th>\n",
       "      <th>age</th>\n",
       "      <th>cgpa</th>\n",
       "      <th>address</th>\n",
       "      <th>semester</th>\n",
       "    </tr>\n",
       "  </thead>\n",
       "  <tbody>\n",
       "    <tr>\n",
       "      <th>0</th>\n",
       "      <td>sara</td>\n",
       "      <td>50</td>\n",
       "      <td>3.4</td>\n",
       "      <td>karachi</td>\n",
       "      <td>1</td>\n",
       "    </tr>\n",
       "    <tr>\n",
       "      <th>1</th>\n",
       "      <td>ahmed</td>\n",
       "      <td>60</td>\n",
       "      <td>2.9</td>\n",
       "      <td>lahore</td>\n",
       "      <td>2</td>\n",
       "    </tr>\n",
       "    <tr>\n",
       "      <th>2</th>\n",
       "      <td>ali</td>\n",
       "      <td>70</td>\n",
       "      <td>3.6</td>\n",
       "      <td>islamabad</td>\n",
       "      <td>3</td>\n",
       "    </tr>\n",
       "  </tbody>\n",
       "</table>\n",
       "</div>"
      ],
      "text/plain": [
       "   names  age  cgpa    address  semester\n",
       "0   sara   50   3.4    karachi         1\n",
       "1  ahmed   60   2.9     lahore         2\n",
       "2    ali   70   3.6  islamabad         3"
      ]
     },
     "execution_count": 57,
     "metadata": {},
     "output_type": "execute_result"
    }
   ],
   "source": [
    "std"
   ]
  },
  {
   "cell_type": "code",
   "execution_count": 58,
   "id": "08d926e7",
   "metadata": {},
   "outputs": [
    {
     "data": {
      "text/html": [
       "<div>\n",
       "<style scoped>\n",
       "    .dataframe tbody tr th:only-of-type {\n",
       "        vertical-align: middle;\n",
       "    }\n",
       "\n",
       "    .dataframe tbody tr th {\n",
       "        vertical-align: top;\n",
       "    }\n",
       "\n",
       "    .dataframe thead th {\n",
       "        text-align: right;\n",
       "    }\n",
       "</style>\n",
       "<table border=\"1\" class=\"dataframe\">\n",
       "  <thead>\n",
       "    <tr style=\"text-align: right;\">\n",
       "      <th></th>\n",
       "      <th>0</th>\n",
       "      <th>1</th>\n",
       "      <th>2</th>\n",
       "    </tr>\n",
       "  </thead>\n",
       "  <tbody>\n",
       "    <tr>\n",
       "      <th>names</th>\n",
       "      <td>sara</td>\n",
       "      <td>ahmed</td>\n",
       "      <td>ali</td>\n",
       "    </tr>\n",
       "    <tr>\n",
       "      <th>age</th>\n",
       "      <td>50</td>\n",
       "      <td>60</td>\n",
       "      <td>70</td>\n",
       "    </tr>\n",
       "    <tr>\n",
       "      <th>cgpa</th>\n",
       "      <td>3.4</td>\n",
       "      <td>2.9</td>\n",
       "      <td>3.6</td>\n",
       "    </tr>\n",
       "    <tr>\n",
       "      <th>address</th>\n",
       "      <td>karachi</td>\n",
       "      <td>lahore</td>\n",
       "      <td>islamabad</td>\n",
       "    </tr>\n",
       "    <tr>\n",
       "      <th>semester</th>\n",
       "      <td>1</td>\n",
       "      <td>2</td>\n",
       "      <td>3</td>\n",
       "    </tr>\n",
       "  </tbody>\n",
       "</table>\n",
       "</div>"
      ],
      "text/plain": [
       "                0       1          2\n",
       "names        sara   ahmed        ali\n",
       "age            50      60         70\n",
       "cgpa          3.4     2.9        3.6\n",
       "address   karachi  lahore  islamabad\n",
       "semester        1       2          3"
      ]
     },
     "execution_count": 58,
     "metadata": {},
     "output_type": "execute_result"
    }
   ],
   "source": [
    "std.T"
   ]
  },
  {
   "cell_type": "code",
   "execution_count": 59,
   "id": "45315569",
   "metadata": {},
   "outputs": [
    {
     "data": {
      "text/html": [
       "<div>\n",
       "<style scoped>\n",
       "    .dataframe tbody tr th:only-of-type {\n",
       "        vertical-align: middle;\n",
       "    }\n",
       "\n",
       "    .dataframe tbody tr th {\n",
       "        vertical-align: top;\n",
       "    }\n",
       "\n",
       "    .dataframe thead th {\n",
       "        text-align: right;\n",
       "    }\n",
       "</style>\n",
       "<table border=\"1\" class=\"dataframe\">\n",
       "  <thead>\n",
       "    <tr style=\"text-align: right;\">\n",
       "      <th></th>\n",
       "      <th>names</th>\n",
       "      <th>age</th>\n",
       "      <th>cgpa</th>\n",
       "      <th>address</th>\n",
       "      <th>semester</th>\n",
       "    </tr>\n",
       "  </thead>\n",
       "  <tbody>\n",
       "    <tr>\n",
       "      <th>0</th>\n",
       "      <td>sara</td>\n",
       "      <td>50</td>\n",
       "      <td>3.4</td>\n",
       "      <td>karachi</td>\n",
       "      <td>1</td>\n",
       "    </tr>\n",
       "    <tr>\n",
       "      <th>1</th>\n",
       "      <td>ahmed</td>\n",
       "      <td>60</td>\n",
       "      <td>2.9</td>\n",
       "      <td>lahore</td>\n",
       "      <td>2</td>\n",
       "    </tr>\n",
       "    <tr>\n",
       "      <th>2</th>\n",
       "      <td>ali</td>\n",
       "      <td>70</td>\n",
       "      <td>3.6</td>\n",
       "      <td>islamabad</td>\n",
       "      <td>3</td>\n",
       "    </tr>\n",
       "  </tbody>\n",
       "</table>\n",
       "</div>"
      ],
      "text/plain": [
       "   names  age  cgpa    address  semester\n",
       "0   sara   50   3.4    karachi         1\n",
       "1  ahmed   60   2.9     lahore         2\n",
       "2    ali   70   3.6  islamabad         3"
      ]
     },
     "execution_count": 59,
     "metadata": {},
     "output_type": "execute_result"
    }
   ],
   "source": [
    "std"
   ]
  },
  {
   "cell_type": "code",
   "execution_count": 60,
   "id": "90068817",
   "metadata": {},
   "outputs": [
    {
     "data": {
      "text/html": [
       "<div>\n",
       "<style scoped>\n",
       "    .dataframe tbody tr th:only-of-type {\n",
       "        vertical-align: middle;\n",
       "    }\n",
       "\n",
       "    .dataframe tbody tr th {\n",
       "        vertical-align: top;\n",
       "    }\n",
       "\n",
       "    .dataframe thead th {\n",
       "        text-align: right;\n",
       "    }\n",
       "</style>\n",
       "<table border=\"1\" class=\"dataframe\">\n",
       "  <thead>\n",
       "    <tr style=\"text-align: right;\">\n",
       "      <th></th>\n",
       "      <th>names</th>\n",
       "      <th>age</th>\n",
       "      <th>cgpa</th>\n",
       "      <th>address</th>\n",
       "      <th>semester</th>\n",
       "    </tr>\n",
       "  </thead>\n",
       "  <tbody>\n",
       "    <tr>\n",
       "      <th>0</th>\n",
       "      <td>sara</td>\n",
       "      <td>50</td>\n",
       "      <td>3.4</td>\n",
       "      <td>karachi</td>\n",
       "      <td>1</td>\n",
       "    </tr>\n",
       "    <tr>\n",
       "      <th>2</th>\n",
       "      <td>ali</td>\n",
       "      <td>70</td>\n",
       "      <td>3.6</td>\n",
       "      <td>islamabad</td>\n",
       "      <td>3</td>\n",
       "    </tr>\n",
       "  </tbody>\n",
       "</table>\n",
       "</div>"
      ],
      "text/plain": [
       "  names  age  cgpa    address  semester\n",
       "0  sara   50   3.4    karachi         1\n",
       "2   ali   70   3.6  islamabad         3"
      ]
     },
     "execution_count": 60,
     "metadata": {},
     "output_type": "execute_result"
    }
   ],
   "source": [
    "std.iloc[::2] #Slicing in a dataframe"
   ]
  },
  {
   "cell_type": "code",
   "execution_count": 61,
   "id": "7728029f",
   "metadata": {},
   "outputs": [],
   "source": [
    "# Negative Indexing\n",
    "# -1 last value, -2 2nd last value"
   ]
  },
  {
   "cell_type": "code",
   "execution_count": 62,
   "id": "7a419b34",
   "metadata": {},
   "outputs": [
    {
     "data": {
      "text/plain": [
       "names             ali\n",
       "age                70\n",
       "cgpa              3.6\n",
       "address     islamabad\n",
       "semester            3\n",
       "Name: 2, dtype: object"
      ]
     },
     "execution_count": 62,
     "metadata": {},
     "output_type": "execute_result"
    }
   ],
   "source": [
    "std.iloc[-1]"
   ]
  },
  {
   "cell_type": "code",
   "execution_count": 63,
   "id": "6cce8617",
   "metadata": {},
   "outputs": [
    {
     "data": {
      "text/plain": [
       "array([['sara', 50, 3.4, 'karachi', 1],\n",
       "       ['ahmed', 60, 2.9, 'lahore', 2],\n",
       "       ['ali', 70, 3.6, 'islamabad', 3]], dtype=object)"
      ]
     },
     "execution_count": 63,
     "metadata": {},
     "output_type": "execute_result"
    }
   ],
   "source": [
    "std.values"
   ]
  },
  {
   "cell_type": "code",
   "execution_count": 64,
   "id": "4ed5f224",
   "metadata": {},
   "outputs": [
    {
     "data": {
      "text/html": [
       "<div>\n",
       "<style scoped>\n",
       "    .dataframe tbody tr th:only-of-type {\n",
       "        vertical-align: middle;\n",
       "    }\n",
       "\n",
       "    .dataframe tbody tr th {\n",
       "        vertical-align: top;\n",
       "    }\n",
       "\n",
       "    .dataframe thead th {\n",
       "        text-align: right;\n",
       "    }\n",
       "</style>\n",
       "<table border=\"1\" class=\"dataframe\">\n",
       "  <thead>\n",
       "    <tr style=\"text-align: right;\">\n",
       "      <th></th>\n",
       "      <th>names</th>\n",
       "      <th>age</th>\n",
       "      <th>cgpa</th>\n",
       "      <th>address</th>\n",
       "      <th>semester</th>\n",
       "    </tr>\n",
       "  </thead>\n",
       "  <tbody>\n",
       "    <tr>\n",
       "      <th>0</th>\n",
       "      <td>sara</td>\n",
       "      <td>50</td>\n",
       "      <td>3.4</td>\n",
       "      <td>karachi</td>\n",
       "      <td>1</td>\n",
       "    </tr>\n",
       "    <tr>\n",
       "      <th>1</th>\n",
       "      <td>ahmed</td>\n",
       "      <td>60</td>\n",
       "      <td>2.9</td>\n",
       "      <td>lahore</td>\n",
       "      <td>2</td>\n",
       "    </tr>\n",
       "    <tr>\n",
       "      <th>2</th>\n",
       "      <td>ali</td>\n",
       "      <td>70</td>\n",
       "      <td>3.6</td>\n",
       "      <td>islamabad</td>\n",
       "      <td>3</td>\n",
       "    </tr>\n",
       "  </tbody>\n",
       "</table>\n",
       "</div>"
      ],
      "text/plain": [
       "   names  age  cgpa    address  semester\n",
       "0   sara   50   3.4    karachi         1\n",
       "1  ahmed   60   2.9     lahore         2\n",
       "2    ali   70   3.6  islamabad         3"
      ]
     },
     "execution_count": 64,
     "metadata": {},
     "output_type": "execute_result"
    }
   ],
   "source": [
    "std"
   ]
  },
  {
   "cell_type": "code",
   "execution_count": 65,
   "id": "1cdb2075",
   "metadata": {},
   "outputs": [
    {
     "data": {
      "text/html": [
       "<div>\n",
       "<style scoped>\n",
       "    .dataframe tbody tr th:only-of-type {\n",
       "        vertical-align: middle;\n",
       "    }\n",
       "\n",
       "    .dataframe tbody tr th {\n",
       "        vertical-align: top;\n",
       "    }\n",
       "\n",
       "    .dataframe thead th {\n",
       "        text-align: right;\n",
       "    }\n",
       "</style>\n",
       "<table border=\"1\" class=\"dataframe\">\n",
       "  <thead>\n",
       "    <tr style=\"text-align: right;\">\n",
       "      <th></th>\n",
       "      <th>names</th>\n",
       "      <th>age</th>\n",
       "      <th>cgpa</th>\n",
       "      <th>address</th>\n",
       "      <th>semester</th>\n",
       "    </tr>\n",
       "  </thead>\n",
       "  <tbody>\n",
       "    <tr>\n",
       "      <th>1</th>\n",
       "      <td>ahmed</td>\n",
       "      <td>60</td>\n",
       "      <td>2.9</td>\n",
       "      <td>lahore</td>\n",
       "      <td>2</td>\n",
       "    </tr>\n",
       "    <tr>\n",
       "      <th>2</th>\n",
       "      <td>ali</td>\n",
       "      <td>70</td>\n",
       "      <td>3.6</td>\n",
       "      <td>islamabad</td>\n",
       "      <td>3</td>\n",
       "    </tr>\n",
       "  </tbody>\n",
       "</table>\n",
       "</div>"
      ],
      "text/plain": [
       "   names  age  cgpa    address  semester\n",
       "1  ahmed   60   2.9     lahore         2\n",
       "2    ali   70   3.6  islamabad         3"
      ]
     },
     "execution_count": 65,
     "metadata": {},
     "output_type": "execute_result"
    }
   ],
   "source": [
    "std.drop([0], axis=0) # removing specific row form daraframe"
   ]
  },
  {
   "cell_type": "code",
   "execution_count": 66,
   "id": "55fb9adc",
   "metadata": {},
   "outputs": [],
   "source": [
    "# Creating dataframe with different data stractures"
   ]
  },
  {
   "cell_type": "code",
   "execution_count": 67,
   "id": "b98c6bfd",
   "metadata": {},
   "outputs": [],
   "source": [
    "arr = np.array([['sara', 50, 3.4, 'karachi', 1],\n",
    "       ['ahmed', 60, 2.9, 'lahore', 2],\n",
    "       ['ali', 70, 3.6, 'islamabad', 3],\n",
    "        ['Shoaib', 37, 2.9, 'Pindi', 4]\n",
    "               ])"
   ]
  },
  {
   "cell_type": "code",
   "execution_count": 68,
   "id": "a0a22ae7",
   "metadata": {},
   "outputs": [],
   "source": [
    "df = pd.DataFrame(arr, columns=['Name', 'Age', 'CGPA', 'City', 'Semester'])"
   ]
  },
  {
   "cell_type": "code",
   "execution_count": 69,
   "id": "390dd235",
   "metadata": {},
   "outputs": [
    {
     "data": {
      "text/html": [
       "<div>\n",
       "<style scoped>\n",
       "    .dataframe tbody tr th:only-of-type {\n",
       "        vertical-align: middle;\n",
       "    }\n",
       "\n",
       "    .dataframe tbody tr th {\n",
       "        vertical-align: top;\n",
       "    }\n",
       "\n",
       "    .dataframe thead th {\n",
       "        text-align: right;\n",
       "    }\n",
       "</style>\n",
       "<table border=\"1\" class=\"dataframe\">\n",
       "  <thead>\n",
       "    <tr style=\"text-align: right;\">\n",
       "      <th></th>\n",
       "      <th>Name</th>\n",
       "      <th>Age</th>\n",
       "      <th>CGPA</th>\n",
       "      <th>City</th>\n",
       "      <th>Semester</th>\n",
       "    </tr>\n",
       "  </thead>\n",
       "  <tbody>\n",
       "    <tr>\n",
       "      <th>0</th>\n",
       "      <td>sara</td>\n",
       "      <td>50</td>\n",
       "      <td>3.4</td>\n",
       "      <td>karachi</td>\n",
       "      <td>1</td>\n",
       "    </tr>\n",
       "    <tr>\n",
       "      <th>1</th>\n",
       "      <td>ahmed</td>\n",
       "      <td>60</td>\n",
       "      <td>2.9</td>\n",
       "      <td>lahore</td>\n",
       "      <td>2</td>\n",
       "    </tr>\n",
       "    <tr>\n",
       "      <th>2</th>\n",
       "      <td>ali</td>\n",
       "      <td>70</td>\n",
       "      <td>3.6</td>\n",
       "      <td>islamabad</td>\n",
       "      <td>3</td>\n",
       "    </tr>\n",
       "    <tr>\n",
       "      <th>3</th>\n",
       "      <td>Shoaib</td>\n",
       "      <td>37</td>\n",
       "      <td>2.9</td>\n",
       "      <td>Pindi</td>\n",
       "      <td>4</td>\n",
       "    </tr>\n",
       "  </tbody>\n",
       "</table>\n",
       "</div>"
      ],
      "text/plain": [
       "     Name Age CGPA       City Semester\n",
       "0    sara  50  3.4    karachi        1\n",
       "1   ahmed  60  2.9     lahore        2\n",
       "2     ali  70  3.6  islamabad        3\n",
       "3  Shoaib  37  2.9      Pindi        4"
      ]
     },
     "execution_count": 69,
     "metadata": {},
     "output_type": "execute_result"
    }
   ],
   "source": [
    "df"
   ]
  },
  {
   "cell_type": "code",
   "execution_count": 70,
   "id": "92251648",
   "metadata": {},
   "outputs": [
    {
     "data": {
      "text/plain": [
       "0    50\n",
       "1    60\n",
       "2    70\n",
       "3    37\n",
       "Name: Age, dtype: object"
      ]
     },
     "execution_count": 70,
     "metadata": {},
     "output_type": "execute_result"
    }
   ],
   "source": [
    "df['Age']"
   ]
  },
  {
   "cell_type": "code",
   "execution_count": 71,
   "id": "b9537078",
   "metadata": {},
   "outputs": [],
   "source": [
    "lst = [['sara', 50, 3.4, 'karachi', 1],\n",
    "       ['ahmed', 60, 2.9, 'lahore', 2],\n",
    "       ['ali', 70, 3.6, 'islamabad', 3],\n",
    "        ['Shoaib', 37, 2.9, 'Pindi', 4]]\n",
    "\n",
    "frame = pd.DataFrame(lst, columns=['A', 'B', 'C', 'D', 'E'])"
   ]
  },
  {
   "cell_type": "code",
   "execution_count": 72,
   "id": "40c4d5e8",
   "metadata": {},
   "outputs": [],
   "source": [
    "#Try creating dataframe from different types of datastructures Slide-16 "
   ]
  },
  {
   "cell_type": "code",
   "execution_count": 73,
   "id": "eba4f183",
   "metadata": {},
   "outputs": [],
   "source": [
    "# Drop row/columns"
   ]
  },
  {
   "cell_type": "code",
   "execution_count": 74,
   "id": "b946ffa2",
   "metadata": {},
   "outputs": [
    {
     "data": {
      "text/html": [
       "<div>\n",
       "<style scoped>\n",
       "    .dataframe tbody tr th:only-of-type {\n",
       "        vertical-align: middle;\n",
       "    }\n",
       "\n",
       "    .dataframe tbody tr th {\n",
       "        vertical-align: top;\n",
       "    }\n",
       "\n",
       "    .dataframe thead th {\n",
       "        text-align: right;\n",
       "    }\n",
       "</style>\n",
       "<table border=\"1\" class=\"dataframe\">\n",
       "  <thead>\n",
       "    <tr style=\"text-align: right;\">\n",
       "      <th></th>\n",
       "      <th>A</th>\n",
       "      <th>B</th>\n",
       "      <th>C</th>\n",
       "      <th>D</th>\n",
       "      <th>E</th>\n",
       "    </tr>\n",
       "  </thead>\n",
       "  <tbody>\n",
       "    <tr>\n",
       "      <th>0</th>\n",
       "      <td>sara</td>\n",
       "      <td>50</td>\n",
       "      <td>3.4</td>\n",
       "      <td>karachi</td>\n",
       "      <td>1</td>\n",
       "    </tr>\n",
       "    <tr>\n",
       "      <th>1</th>\n",
       "      <td>ahmed</td>\n",
       "      <td>60</td>\n",
       "      <td>2.9</td>\n",
       "      <td>lahore</td>\n",
       "      <td>2</td>\n",
       "    </tr>\n",
       "    <tr>\n",
       "      <th>2</th>\n",
       "      <td>ali</td>\n",
       "      <td>70</td>\n",
       "      <td>3.6</td>\n",
       "      <td>islamabad</td>\n",
       "      <td>3</td>\n",
       "    </tr>\n",
       "    <tr>\n",
       "      <th>3</th>\n",
       "      <td>Shoaib</td>\n",
       "      <td>37</td>\n",
       "      <td>2.9</td>\n",
       "      <td>Pindi</td>\n",
       "      <td>4</td>\n",
       "    </tr>\n",
       "  </tbody>\n",
       "</table>\n",
       "</div>"
      ],
      "text/plain": [
       "        A   B    C          D  E\n",
       "0    sara  50  3.4    karachi  1\n",
       "1   ahmed  60  2.9     lahore  2\n",
       "2     ali  70  3.6  islamabad  3\n",
       "3  Shoaib  37  2.9      Pindi  4"
      ]
     },
     "execution_count": 74,
     "metadata": {},
     "output_type": "execute_result"
    }
   ],
   "source": [
    "frame"
   ]
  },
  {
   "cell_type": "code",
   "execution_count": 75,
   "id": "c5e1f99a",
   "metadata": {},
   "outputs": [
    {
     "data": {
      "text/html": [
       "<div>\n",
       "<style scoped>\n",
       "    .dataframe tbody tr th:only-of-type {\n",
       "        vertical-align: middle;\n",
       "    }\n",
       "\n",
       "    .dataframe tbody tr th {\n",
       "        vertical-align: top;\n",
       "    }\n",
       "\n",
       "    .dataframe thead th {\n",
       "        text-align: right;\n",
       "    }\n",
       "</style>\n",
       "<table border=\"1\" class=\"dataframe\">\n",
       "  <thead>\n",
       "    <tr style=\"text-align: right;\">\n",
       "      <th></th>\n",
       "      <th>C</th>\n",
       "      <th>D</th>\n",
       "      <th>E</th>\n",
       "    </tr>\n",
       "  </thead>\n",
       "  <tbody>\n",
       "    <tr>\n",
       "      <th>0</th>\n",
       "      <td>3.4</td>\n",
       "      <td>karachi</td>\n",
       "      <td>1</td>\n",
       "    </tr>\n",
       "    <tr>\n",
       "      <th>1</th>\n",
       "      <td>2.9</td>\n",
       "      <td>lahore</td>\n",
       "      <td>2</td>\n",
       "    </tr>\n",
       "    <tr>\n",
       "      <th>2</th>\n",
       "      <td>3.6</td>\n",
       "      <td>islamabad</td>\n",
       "      <td>3</td>\n",
       "    </tr>\n",
       "    <tr>\n",
       "      <th>3</th>\n",
       "      <td>2.9</td>\n",
       "      <td>Pindi</td>\n",
       "      <td>4</td>\n",
       "    </tr>\n",
       "  </tbody>\n",
       "</table>\n",
       "</div>"
      ],
      "text/plain": [
       "     C          D  E\n",
       "0  3.4    karachi  1\n",
       "1  2.9     lahore  2\n",
       "2  3.6  islamabad  3\n",
       "3  2.9      Pindi  4"
      ]
     },
     "execution_count": 75,
     "metadata": {},
     "output_type": "execute_result"
    }
   ],
   "source": [
    "frame.drop(['A', 'B'], axis=1) # drop column wise"
   ]
  },
  {
   "cell_type": "code",
   "execution_count": 77,
   "id": "7338737e",
   "metadata": {},
   "outputs": [
    {
     "data": {
      "text/html": [
       "<div>\n",
       "<style scoped>\n",
       "    .dataframe tbody tr th:only-of-type {\n",
       "        vertical-align: middle;\n",
       "    }\n",
       "\n",
       "    .dataframe tbody tr th {\n",
       "        vertical-align: top;\n",
       "    }\n",
       "\n",
       "    .dataframe thead th {\n",
       "        text-align: right;\n",
       "    }\n",
       "</style>\n",
       "<table border=\"1\" class=\"dataframe\">\n",
       "  <thead>\n",
       "    <tr style=\"text-align: right;\">\n",
       "      <th></th>\n",
       "      <th>A</th>\n",
       "      <th>B</th>\n",
       "      <th>C</th>\n",
       "      <th>D</th>\n",
       "      <th>E</th>\n",
       "    </tr>\n",
       "  </thead>\n",
       "  <tbody>\n",
       "    <tr>\n",
       "      <th>2</th>\n",
       "      <td>ali</td>\n",
       "      <td>70</td>\n",
       "      <td>3.6</td>\n",
       "      <td>islamabad</td>\n",
       "      <td>3</td>\n",
       "    </tr>\n",
       "    <tr>\n",
       "      <th>3</th>\n",
       "      <td>Shoaib</td>\n",
       "      <td>37</td>\n",
       "      <td>2.9</td>\n",
       "      <td>Pindi</td>\n",
       "      <td>4</td>\n",
       "    </tr>\n",
       "  </tbody>\n",
       "</table>\n",
       "</div>"
      ],
      "text/plain": [
       "        A   B    C          D  E\n",
       "2     ali  70  3.6  islamabad  3\n",
       "3  Shoaib  37  2.9      Pindi  4"
      ]
     },
     "execution_count": 77,
     "metadata": {},
     "output_type": "execute_result"
    }
   ],
   "source": [
    "frame.drop([0, 1], axis=0) #drop row wise "
   ]
  },
  {
   "cell_type": "code",
   "execution_count": 78,
   "id": "e960e413",
   "metadata": {},
   "outputs": [],
   "source": [
    "# Slicing in dataframe"
   ]
  },
  {
   "cell_type": "code",
   "execution_count": 81,
   "id": "1a91515f",
   "metadata": {},
   "outputs": [
    {
     "data": {
      "text/plain": [
       "0    3.4\n",
       "2    3.6\n",
       "Name: C, dtype: float64"
      ]
     },
     "execution_count": 81,
     "metadata": {},
     "output_type": "execute_result"
    }
   ],
   "source": [
    "frame.iloc[::2]['C'] # start, stop, step"
   ]
  },
  {
   "cell_type": "code",
   "execution_count": 84,
   "id": "c128f29c",
   "metadata": {},
   "outputs": [
    {
     "data": {
      "text/html": [
       "<div>\n",
       "<style scoped>\n",
       "    .dataframe tbody tr th:only-of-type {\n",
       "        vertical-align: middle;\n",
       "    }\n",
       "\n",
       "    .dataframe tbody tr th {\n",
       "        vertical-align: top;\n",
       "    }\n",
       "\n",
       "    .dataframe thead th {\n",
       "        text-align: right;\n",
       "    }\n",
       "</style>\n",
       "<table border=\"1\" class=\"dataframe\">\n",
       "  <thead>\n",
       "    <tr style=\"text-align: right;\">\n",
       "      <th></th>\n",
       "      <th>A</th>\n",
       "      <th>B</th>\n",
       "      <th>C</th>\n",
       "    </tr>\n",
       "  </thead>\n",
       "  <tbody>\n",
       "    <tr>\n",
       "      <th>0</th>\n",
       "      <td>sara</td>\n",
       "      <td>50</td>\n",
       "      <td>3.4</td>\n",
       "    </tr>\n",
       "    <tr>\n",
       "      <th>1</th>\n",
       "      <td>ahmed</td>\n",
       "      <td>60</td>\n",
       "      <td>2.9</td>\n",
       "    </tr>\n",
       "    <tr>\n",
       "      <th>2</th>\n",
       "      <td>ali</td>\n",
       "      <td>70</td>\n",
       "      <td>3.6</td>\n",
       "    </tr>\n",
       "    <tr>\n",
       "      <th>3</th>\n",
       "      <td>Shoaib</td>\n",
       "      <td>37</td>\n",
       "      <td>2.9</td>\n",
       "    </tr>\n",
       "  </tbody>\n",
       "</table>\n",
       "</div>"
      ],
      "text/plain": [
       "        A   B    C\n",
       "0    sara  50  3.4\n",
       "1   ahmed  60  2.9\n",
       "2     ali  70  3.6\n",
       "3  Shoaib  37  2.9"
      ]
     },
     "execution_count": 84,
     "metadata": {},
     "output_type": "execute_result"
    }
   ],
   "source": [
    "frame.loc[:,'A':'C']"
   ]
  },
  {
   "cell_type": "code",
   "execution_count": 85,
   "id": "c5c2791c",
   "metadata": {},
   "outputs": [],
   "source": [
    "#Apply function"
   ]
  },
  {
   "cell_type": "code",
   "execution_count": 86,
   "id": "a2a6c2ae",
   "metadata": {},
   "outputs": [
    {
     "data": {
      "text/html": [
       "<div>\n",
       "<style scoped>\n",
       "    .dataframe tbody tr th:only-of-type {\n",
       "        vertical-align: middle;\n",
       "    }\n",
       "\n",
       "    .dataframe tbody tr th {\n",
       "        vertical-align: top;\n",
       "    }\n",
       "\n",
       "    .dataframe thead th {\n",
       "        text-align: right;\n",
       "    }\n",
       "</style>\n",
       "<table border=\"1\" class=\"dataframe\">\n",
       "  <thead>\n",
       "    <tr style=\"text-align: right;\">\n",
       "      <th></th>\n",
       "      <th>A</th>\n",
       "      <th>B</th>\n",
       "      <th>C</th>\n",
       "      <th>D</th>\n",
       "      <th>E</th>\n",
       "    </tr>\n",
       "  </thead>\n",
       "  <tbody>\n",
       "    <tr>\n",
       "      <th>0</th>\n",
       "      <td>sara</td>\n",
       "      <td>50</td>\n",
       "      <td>3.4</td>\n",
       "      <td>karachi</td>\n",
       "      <td>1</td>\n",
       "    </tr>\n",
       "    <tr>\n",
       "      <th>1</th>\n",
       "      <td>ahmed</td>\n",
       "      <td>60</td>\n",
       "      <td>2.9</td>\n",
       "      <td>lahore</td>\n",
       "      <td>2</td>\n",
       "    </tr>\n",
       "    <tr>\n",
       "      <th>2</th>\n",
       "      <td>ali</td>\n",
       "      <td>70</td>\n",
       "      <td>3.6</td>\n",
       "      <td>islamabad</td>\n",
       "      <td>3</td>\n",
       "    </tr>\n",
       "    <tr>\n",
       "      <th>3</th>\n",
       "      <td>Shoaib</td>\n",
       "      <td>37</td>\n",
       "      <td>2.9</td>\n",
       "      <td>Pindi</td>\n",
       "      <td>4</td>\n",
       "    </tr>\n",
       "  </tbody>\n",
       "</table>\n",
       "</div>"
      ],
      "text/plain": [
       "        A   B    C          D  E\n",
       "0    sara  50  3.4    karachi  1\n",
       "1   ahmed  60  2.9     lahore  2\n",
       "2     ali  70  3.6  islamabad  3\n",
       "3  Shoaib  37  2.9      Pindi  4"
      ]
     },
     "execution_count": 86,
     "metadata": {},
     "output_type": "execute_result"
    }
   ],
   "source": [
    "frame"
   ]
  },
  {
   "cell_type": "code",
   "execution_count": 90,
   "id": "4ee25566",
   "metadata": {},
   "outputs": [],
   "source": [
    "frame.columns = ['Name', \"Age\", 'CGPA', 'Address', 'Semester']"
   ]
  },
  {
   "cell_type": "code",
   "execution_count": 91,
   "id": "747f31ac",
   "metadata": {},
   "outputs": [
    {
     "data": {
      "text/html": [
       "<div>\n",
       "<style scoped>\n",
       "    .dataframe tbody tr th:only-of-type {\n",
       "        vertical-align: middle;\n",
       "    }\n",
       "\n",
       "    .dataframe tbody tr th {\n",
       "        vertical-align: top;\n",
       "    }\n",
       "\n",
       "    .dataframe thead th {\n",
       "        text-align: right;\n",
       "    }\n",
       "</style>\n",
       "<table border=\"1\" class=\"dataframe\">\n",
       "  <thead>\n",
       "    <tr style=\"text-align: right;\">\n",
       "      <th></th>\n",
       "      <th>Name</th>\n",
       "      <th>Age</th>\n",
       "      <th>CGPA</th>\n",
       "      <th>Address</th>\n",
       "      <th>Semester</th>\n",
       "    </tr>\n",
       "  </thead>\n",
       "  <tbody>\n",
       "    <tr>\n",
       "      <th>0</th>\n",
       "      <td>sara</td>\n",
       "      <td>50</td>\n",
       "      <td>3.4</td>\n",
       "      <td>karachi</td>\n",
       "      <td>1</td>\n",
       "    </tr>\n",
       "    <tr>\n",
       "      <th>1</th>\n",
       "      <td>ahmed</td>\n",
       "      <td>60</td>\n",
       "      <td>2.9</td>\n",
       "      <td>lahore</td>\n",
       "      <td>2</td>\n",
       "    </tr>\n",
       "    <tr>\n",
       "      <th>2</th>\n",
       "      <td>ali</td>\n",
       "      <td>70</td>\n",
       "      <td>3.6</td>\n",
       "      <td>islamabad</td>\n",
       "      <td>3</td>\n",
       "    </tr>\n",
       "    <tr>\n",
       "      <th>3</th>\n",
       "      <td>Shoaib</td>\n",
       "      <td>37</td>\n",
       "      <td>2.9</td>\n",
       "      <td>Pindi</td>\n",
       "      <td>4</td>\n",
       "    </tr>\n",
       "  </tbody>\n",
       "</table>\n",
       "</div>"
      ],
      "text/plain": [
       "     Name  Age  CGPA    Address  Semester\n",
       "0    sara   50   3.4    karachi         1\n",
       "1   ahmed   60   2.9     lahore         2\n",
       "2     ali   70   3.6  islamabad         3\n",
       "3  Shoaib   37   2.9      Pindi         4"
      ]
     },
     "execution_count": 91,
     "metadata": {},
     "output_type": "execute_result"
    }
   ],
   "source": [
    "frame"
   ]
  },
  {
   "cell_type": "code",
   "execution_count": 92,
   "id": "7b3ef148",
   "metadata": {},
   "outputs": [],
   "source": [
    "def old_young(age):\n",
    "    if(age > 40):\n",
    "        return 'Old'\n",
    "    else:\n",
    "        return 'Young'"
   ]
  },
  {
   "cell_type": "code",
   "execution_count": 96,
   "id": "d393c42e",
   "metadata": {},
   "outputs": [],
   "source": [
    "frame['Status'] = frame['Age'].apply(old_young)"
   ]
  },
  {
   "cell_type": "code",
   "execution_count": 97,
   "id": "c971c85c",
   "metadata": {},
   "outputs": [
    {
     "data": {
      "text/html": [
       "<div>\n",
       "<style scoped>\n",
       "    .dataframe tbody tr th:only-of-type {\n",
       "        vertical-align: middle;\n",
       "    }\n",
       "\n",
       "    .dataframe tbody tr th {\n",
       "        vertical-align: top;\n",
       "    }\n",
       "\n",
       "    .dataframe thead th {\n",
       "        text-align: right;\n",
       "    }\n",
       "</style>\n",
       "<table border=\"1\" class=\"dataframe\">\n",
       "  <thead>\n",
       "    <tr style=\"text-align: right;\">\n",
       "      <th></th>\n",
       "      <th>Name</th>\n",
       "      <th>Age</th>\n",
       "      <th>CGPA</th>\n",
       "      <th>Address</th>\n",
       "      <th>Semester</th>\n",
       "      <th>Status</th>\n",
       "    </tr>\n",
       "  </thead>\n",
       "  <tbody>\n",
       "    <tr>\n",
       "      <th>0</th>\n",
       "      <td>sara</td>\n",
       "      <td>50</td>\n",
       "      <td>3.4</td>\n",
       "      <td>karachi</td>\n",
       "      <td>1</td>\n",
       "      <td>Old</td>\n",
       "    </tr>\n",
       "    <tr>\n",
       "      <th>1</th>\n",
       "      <td>ahmed</td>\n",
       "      <td>60</td>\n",
       "      <td>2.9</td>\n",
       "      <td>lahore</td>\n",
       "      <td>2</td>\n",
       "      <td>Old</td>\n",
       "    </tr>\n",
       "    <tr>\n",
       "      <th>2</th>\n",
       "      <td>ali</td>\n",
       "      <td>70</td>\n",
       "      <td>3.6</td>\n",
       "      <td>islamabad</td>\n",
       "      <td>3</td>\n",
       "      <td>Old</td>\n",
       "    </tr>\n",
       "    <tr>\n",
       "      <th>3</th>\n",
       "      <td>Shoaib</td>\n",
       "      <td>37</td>\n",
       "      <td>2.9</td>\n",
       "      <td>Pindi</td>\n",
       "      <td>4</td>\n",
       "      <td>Young</td>\n",
       "    </tr>\n",
       "  </tbody>\n",
       "</table>\n",
       "</div>"
      ],
      "text/plain": [
       "     Name  Age  CGPA    Address  Semester Status\n",
       "0    sara   50   3.4    karachi         1    Old\n",
       "1   ahmed   60   2.9     lahore         2    Old\n",
       "2     ali   70   3.6  islamabad         3    Old\n",
       "3  Shoaib   37   2.9      Pindi         4  Young"
      ]
     },
     "execution_count": 97,
     "metadata": {},
     "output_type": "execute_result"
    }
   ],
   "source": [
    "frame"
   ]
  },
  {
   "cell_type": "code",
   "execution_count": 98,
   "id": "3effd04c",
   "metadata": {},
   "outputs": [],
   "source": [
    "# Lambda Function"
   ]
  },
  {
   "cell_type": "code",
   "execution_count": 99,
   "id": "377c439c",
   "metadata": {},
   "outputs": [],
   "source": [
    "old_young = lambda age: 'Old' if age>40 else 'Young'"
   ]
  },
  {
   "cell_type": "code",
   "execution_count": 100,
   "id": "dfb3ae01",
   "metadata": {},
   "outputs": [
    {
     "data": {
      "text/plain": [
       "<function __main__.<lambda>(age)>"
      ]
     },
     "execution_count": 100,
     "metadata": {},
     "output_type": "execute_result"
    }
   ],
   "source": [
    "old_young"
   ]
  },
  {
   "cell_type": "code",
   "execution_count": 101,
   "id": "dd0a6923",
   "metadata": {},
   "outputs": [],
   "source": [
    "frame[\"Status\"] = frame['Age'].apply(old_young)"
   ]
  },
  {
   "cell_type": "code",
   "execution_count": 102,
   "id": "687bde48",
   "metadata": {},
   "outputs": [
    {
     "data": {
      "text/html": [
       "<div>\n",
       "<style scoped>\n",
       "    .dataframe tbody tr th:only-of-type {\n",
       "        vertical-align: middle;\n",
       "    }\n",
       "\n",
       "    .dataframe tbody tr th {\n",
       "        vertical-align: top;\n",
       "    }\n",
       "\n",
       "    .dataframe thead th {\n",
       "        text-align: right;\n",
       "    }\n",
       "</style>\n",
       "<table border=\"1\" class=\"dataframe\">\n",
       "  <thead>\n",
       "    <tr style=\"text-align: right;\">\n",
       "      <th></th>\n",
       "      <th>Name</th>\n",
       "      <th>Age</th>\n",
       "      <th>CGPA</th>\n",
       "      <th>Address</th>\n",
       "      <th>Semester</th>\n",
       "      <th>Status</th>\n",
       "    </tr>\n",
       "  </thead>\n",
       "  <tbody>\n",
       "    <tr>\n",
       "      <th>0</th>\n",
       "      <td>sara</td>\n",
       "      <td>50</td>\n",
       "      <td>3.4</td>\n",
       "      <td>karachi</td>\n",
       "      <td>1</td>\n",
       "      <td>Old</td>\n",
       "    </tr>\n",
       "    <tr>\n",
       "      <th>1</th>\n",
       "      <td>ahmed</td>\n",
       "      <td>60</td>\n",
       "      <td>2.9</td>\n",
       "      <td>lahore</td>\n",
       "      <td>2</td>\n",
       "      <td>Old</td>\n",
       "    </tr>\n",
       "    <tr>\n",
       "      <th>2</th>\n",
       "      <td>ali</td>\n",
       "      <td>70</td>\n",
       "      <td>3.6</td>\n",
       "      <td>islamabad</td>\n",
       "      <td>3</td>\n",
       "      <td>Old</td>\n",
       "    </tr>\n",
       "    <tr>\n",
       "      <th>3</th>\n",
       "      <td>Shoaib</td>\n",
       "      <td>37</td>\n",
       "      <td>2.9</td>\n",
       "      <td>Pindi</td>\n",
       "      <td>4</td>\n",
       "      <td>Young</td>\n",
       "    </tr>\n",
       "  </tbody>\n",
       "</table>\n",
       "</div>"
      ],
      "text/plain": [
       "     Name  Age  CGPA    Address  Semester Status\n",
       "0    sara   50   3.4    karachi         1    Old\n",
       "1   ahmed   60   2.9     lahore         2    Old\n",
       "2     ali   70   3.6  islamabad         3    Old\n",
       "3  Shoaib   37   2.9      Pindi         4  Young"
      ]
     },
     "execution_count": 102,
     "metadata": {},
     "output_type": "execute_result"
    }
   ],
   "source": [
    "frame"
   ]
  },
  {
   "cell_type": "code",
   "execution_count": 130,
   "id": "fa5fc2be",
   "metadata": {},
   "outputs": [],
   "source": [
    "employee = pd.DataFrame(\n",
    "{\n",
    "    'Salary':[1000, 2000, 3000],\n",
    "    'Name':['Mark', 'Jordan', 'Yuaan']\n",
    "})"
   ]
  },
  {
   "cell_type": "code",
   "execution_count": 131,
   "id": "2f3c1f01",
   "metadata": {},
   "outputs": [
    {
     "data": {
      "text/html": [
       "<div>\n",
       "<style scoped>\n",
       "    .dataframe tbody tr th:only-of-type {\n",
       "        vertical-align: middle;\n",
       "    }\n",
       "\n",
       "    .dataframe tbody tr th {\n",
       "        vertical-align: top;\n",
       "    }\n",
       "\n",
       "    .dataframe thead th {\n",
       "        text-align: right;\n",
       "    }\n",
       "</style>\n",
       "<table border=\"1\" class=\"dataframe\">\n",
       "  <thead>\n",
       "    <tr style=\"text-align: right;\">\n",
       "      <th></th>\n",
       "      <th>Salary</th>\n",
       "      <th>Name</th>\n",
       "    </tr>\n",
       "  </thead>\n",
       "  <tbody>\n",
       "    <tr>\n",
       "      <th>0</th>\n",
       "      <td>1000</td>\n",
       "      <td>Mark</td>\n",
       "    </tr>\n",
       "    <tr>\n",
       "      <th>1</th>\n",
       "      <td>2000</td>\n",
       "      <td>Jordan</td>\n",
       "    </tr>\n",
       "    <tr>\n",
       "      <th>2</th>\n",
       "      <td>3000</td>\n",
       "      <td>Yuaan</td>\n",
       "    </tr>\n",
       "  </tbody>\n",
       "</table>\n",
       "</div>"
      ],
      "text/plain": [
       "   Salary    Name\n",
       "0    1000    Mark\n",
       "1    2000  Jordan\n",
       "2    3000   Yuaan"
      ]
     },
     "execution_count": 131,
     "metadata": {},
     "output_type": "execute_result"
    }
   ],
   "source": [
    "employee"
   ]
  },
  {
   "cell_type": "code",
   "execution_count": 138,
   "id": "a925970a",
   "metadata": {},
   "outputs": [],
   "source": [
    "employee['Increment']=\\\n",
    "        employee['Salary'].apply(lambda salary: 50 if salary <= 1000 else 25)\n",
    "# '\\' use for line break in jupyter notebook"
   ]
  },
  {
   "cell_type": "code",
   "execution_count": 139,
   "id": "512168bb",
   "metadata": {},
   "outputs": [
    {
     "data": {
      "text/html": [
       "<div>\n",
       "<style scoped>\n",
       "    .dataframe tbody tr th:only-of-type {\n",
       "        vertical-align: middle;\n",
       "    }\n",
       "\n",
       "    .dataframe tbody tr th {\n",
       "        vertical-align: top;\n",
       "    }\n",
       "\n",
       "    .dataframe thead th {\n",
       "        text-align: right;\n",
       "    }\n",
       "</style>\n",
       "<table border=\"1\" class=\"dataframe\">\n",
       "  <thead>\n",
       "    <tr style=\"text-align: right;\">\n",
       "      <th></th>\n",
       "      <th>Salary</th>\n",
       "      <th>Name</th>\n",
       "      <th>Increment</th>\n",
       "    </tr>\n",
       "  </thead>\n",
       "  <tbody>\n",
       "    <tr>\n",
       "      <th>0</th>\n",
       "      <td>1000</td>\n",
       "      <td>Mark</td>\n",
       "      <td>50</td>\n",
       "    </tr>\n",
       "    <tr>\n",
       "      <th>1</th>\n",
       "      <td>2000</td>\n",
       "      <td>Jordan</td>\n",
       "      <td>25</td>\n",
       "    </tr>\n",
       "    <tr>\n",
       "      <th>2</th>\n",
       "      <td>3000</td>\n",
       "      <td>Yuaan</td>\n",
       "      <td>25</td>\n",
       "    </tr>\n",
       "  </tbody>\n",
       "</table>\n",
       "</div>"
      ],
      "text/plain": [
       "   Salary    Name  Increment\n",
       "0    1000    Mark         50\n",
       "1    2000  Jordan         25\n",
       "2    3000   Yuaan         25"
      ]
     },
     "execution_count": 139,
     "metadata": {},
     "output_type": "execute_result"
    }
   ],
   "source": [
    "employee"
   ]
  },
  {
   "cell_type": "code",
   "execution_count": 140,
   "id": "4c25c478",
   "metadata": {},
   "outputs": [
    {
     "data": {
      "text/plain": [
       "0    50\n",
       "1    25\n",
       "2    25\n",
       "Name: Increment, dtype: int64"
      ]
     },
     "execution_count": 140,
     "metadata": {},
     "output_type": "execute_result"
    }
   ],
   "source": [
    "np.abs(employee['Increment'])"
   ]
  },
  {
   "cell_type": "code",
   "execution_count": null,
   "id": "e1f8584e",
   "metadata": {},
   "outputs": [],
   "source": []
  }
 ],
 "metadata": {
  "kernelspec": {
   "display_name": "Python 3 (ipykernel)",
   "language": "python",
   "name": "python3"
  },
  "language_info": {
   "codemirror_mode": {
    "name": "ipython",
    "version": 3
   },
   "file_extension": ".py",
   "mimetype": "text/x-python",
   "name": "python",
   "nbconvert_exporter": "python",
   "pygments_lexer": "ipython3",
   "version": "3.10.4"
  }
 },
 "nbformat": 4,
 "nbformat_minor": 5
}
