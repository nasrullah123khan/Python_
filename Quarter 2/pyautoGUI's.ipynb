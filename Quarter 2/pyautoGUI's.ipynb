{
 "cells": [
  {
   "cell_type": "code",
   "execution_count": 5,
   "id": "43f42a06",
   "metadata": {},
   "outputs": [],
   "source": [
    "# !pip install pyautogui"
   ]
  },
  {
   "cell_type": "code",
   "execution_count": 2,
   "id": "23dae84c",
   "metadata": {},
   "outputs": [],
   "source": [
    "import pyautogui"
   ]
  },
  {
   "cell_type": "code",
   "execution_count": 29,
   "id": "170c1b61",
   "metadata": {},
   "outputs": [
    {
     "data": {
      "text/plain": [
       "Point(x=1919, y=1079)"
      ]
     },
     "execution_count": 29,
     "metadata": {},
     "output_type": "execute_result"
    }
   ],
   "source": [
    "pyautogui.position()\n"
   ]
  },
  {
   "cell_type": "code",
   "execution_count": 30,
   "id": "cbedb250",
   "metadata": {},
   "outputs": [
    {
     "data": {
      "text/plain": [
       "Size(width=1920, height=1080)"
      ]
     },
     "execution_count": 30,
     "metadata": {},
     "output_type": "execute_result"
    }
   ],
   "source": [
    "pyautogui.size()"
   ]
  },
  {
   "cell_type": "code",
   "execution_count": 32,
   "id": "5cb03ca7",
   "metadata": {},
   "outputs": [
    {
     "data": {
      "text/plain": [
       "False"
      ]
     },
     "execution_count": 32,
     "metadata": {},
     "output_type": "execute_result"
    }
   ],
   "source": [
    "pyautogui.onScreen(1100, 2000)"
   ]
  },
  {
   "cell_type": "code",
   "execution_count": 40,
   "id": "3bfb5e61",
   "metadata": {},
   "outputs": [],
   "source": [
    "pyautogui.moveTo(0,0,6)"
   ]
  },
  {
   "cell_type": "code",
   "execution_count": 41,
   "id": "78761b0f",
   "metadata": {},
   "outputs": [],
   "source": [
    "pyautogui.moveRel(200, 20, 2)"
   ]
  },
  {
   "cell_type": "code",
   "execution_count": 42,
   "id": "552673b9",
   "metadata": {},
   "outputs": [],
   "source": [
    "pyautogui.PAUSE = 2.5"
   ]
  },
  {
   "cell_type": "code",
   "execution_count": 43,
   "id": "6cb03de3",
   "metadata": {},
   "outputs": [],
   "source": [
    "pyautogui.FAILSAFE = True"
   ]
  },
  {
   "cell_type": "code",
   "execution_count": null,
   "id": "c57cb4a0",
   "metadata": {},
   "outputs": [],
   "source": []
  }
 ],
 "metadata": {
  "kernelspec": {
   "display_name": "Python 3 (ipykernel)",
   "language": "python",
   "name": "python3"
  },
  "language_info": {
   "codemirror_mode": {
    "name": "ipython",
    "version": 3
   },
   "file_extension": ".py",
   "mimetype": "text/x-python",
   "name": "python",
   "nbconvert_exporter": "python",
   "pygments_lexer": "ipython3",
   "version": "3.10.4"
  }
 },
 "nbformat": 4,
 "nbformat_minor": 5
}
